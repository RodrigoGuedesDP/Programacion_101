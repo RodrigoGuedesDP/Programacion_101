{
  "nbformat": 4,
  "nbformat_minor": 0,
  "metadata": {
    "colab": {
      "provenance": [],
      "include_colab_link": true
    },
    "kernelspec": {
      "name": "python3",
      "display_name": "Python 3"
    },
    "language_info": {
      "name": "python"
    }
  },
  "cells": [
    {
      "cell_type": "markdown",
      "metadata": {
        "id": "view-in-github",
        "colab_type": "text"
      },
      "source": [
        "<a href=\"https://colab.research.google.com/github/RodrigoGuedesDP/Programacion_101/blob/main/OOP/Programacion_orientada_a_objetos.ipynb\" target=\"_parent\"><img src=\"https://colab.research.google.com/assets/colab-badge.svg\" alt=\"Open In Colab\"/></a>"
      ]
    },
    {
      "cell_type": "code",
      "execution_count": null,
      "metadata": {
        "id": "Fd1FiRw-7eq5"
      },
      "outputs": [],
      "source": [
        "class Student:\n",
        "  def __init__(self, name, house):\n",
        "    if not name:\n",
        "      raise ValueError(\"Missing name\")\n",
        "    if house not in [\"Gryffindor\", \"Hupplepuff\", \"Ravenclaw\", \"Slytherin\"]:\n",
        "      raise ValueError(\"Invalid house\")\n",
        "    self.name = name\n",
        "    self.house = house\n",
        "\n",
        "    def __str__(self):\n",
        "      return f\"{self.name} from {self.house}\"\n",
        "\n",
        "def main():\n",
        "  student = get_student()\n",
        "  print(student)\n",
        "\n",
        "def get_student():\n",
        "  name = input(\"Name: \")\n",
        "  house = input(\"House: \")\n",
        "  return Student(name, house)"
      ]
    }
  ]
}