{
  "nbformat": 4,
  "nbformat_minor": 0,
  "metadata": {
    "colab": {
      "provenance": [],
      "include_colab_link": true
    },
    "kernelspec": {
      "name": "python3",
      "display_name": "Python 3"
    },
    "language_info": {
      "name": "python"
    }
  },
  "cells": [
    {
      "cell_type": "markdown",
      "metadata": {
        "id": "view-in-github",
        "colab_type": "text"
      },
      "source": [
        "<a href=\"https://colab.research.google.com/github/RodrigoGuedesDP/Programacion_101/blob/main/01_Introduccion_a_Python/Practica/Repaso_examen.ipynb\" target=\"_parent\"><img src=\"https://colab.research.google.com/assets/colab-badge.svg\" alt=\"Open In Colab\"/></a>"
      ]
    },
    {
      "cell_type": "code",
      "source": [
        "nombre = \"Rodrigo\"\n",
        "nombre_2 = \"Fernando\"\n",
        "apellido_paterno = \"Guedes\"\n",
        "apellido_materno = \"del Pozo\"\n",
        "\n",
        "print(f\"Mi nombre completo es {nombre} {nombre_2} {apellido_paterno} {apellido_materno}\")"
      ],
      "metadata": {
        "id": "-gP8coonxE-L"
      },
      "execution_count": null,
      "outputs": []
    },
    {
      "cell_type": "code",
      "execution_count": null,
      "metadata": {
        "id": "3caedE9ylEuC"
      },
      "outputs": [],
      "source": [
        "nombre = \"rodrigo\"\n",
        "nombre_2 = \"fernando\"\n",
        "apellido_paterno = \"Guedes\"\n",
        "apellido_materno = \"del Pozo\"\n",
        "nombre_completo = nombre + \" \" + nombre_2 + \" \" + apellido_paterno + \" \" + apellido_materno\n",
        "print(nombre_completo.title())\n",
        "#title() conviere en mayuscula todas las primeras letras de las palabras de un string\n",
        "print(nombre_completo.capitalize())\n",
        "#mayuscula la primera letra\n",
        "print(nombre_completo.upper())\n",
        "#todo en mayuscula\n",
        "print(nombre_completo.lower())\n",
        "#todo en minuscula"
      ]
    },
    {
      "cell_type": "code",
      "source": [
        "edad = int(input(\"Ingrese su edad: \"))\n",
        "if edad < 18:\n",
        "  descuento = 50\n",
        "elif  18 <= edad <= 65:\n",
        "  descuento = 10\n",
        "elif edad > 65:\n",
        "  descuento = 30\n",
        "print(f\"El descuento es de {descuento}%\")"
      ],
      "metadata": {
        "colab": {
          "base_uri": "https://localhost:8080/"
        },
        "id": "WdqNJyIVxBW_",
        "outputId": "0638aba0-bed0-4cd2-e182-ec655ead13de"
      },
      "execution_count": null,
      "outputs": [
        {
          "output_type": "stream",
          "name": "stdout",
          "text": [
            "Ingrese su edad: 19\n",
            "El descuento es de 10%\n"
          ]
        }
      ]
    },
    {
      "cell_type": "markdown",
      "source": [
        "##Ejercicio 3.2: Estado de la temperatura\n",
        "Crea un programa que pida al usuario la temperatura en su ciudad y determine:\n",
        "\n",
        "Si es mayor de 30 grados, imprime \"Hace mucho calor\".\n",
        "Si está entre 20 y 30 grados, imprime \"El clima es agradable\".\n",
        "Si es menor de 20 grados, imprime \"Hace frío\"."
      ],
      "metadata": {
        "id": "vL5P6Wdkyxt0"
      }
    },
    {
      "cell_type": "code",
      "source": [
        "temperatura = int(input(\"Ingrese la temperatura en su ciudad: \"))\n",
        "if temperatura > 30:\n",
        "  print(\"Hace mucho calor\")\n",
        "elif 20 <= temperatura <= 30:\n",
        "  print(\"El clima es agradable\")\n",
        "elif temperatura < 20:\n",
        "  print(\"Hace frio\")\n",
        "\n"
      ],
      "metadata": {
        "colab": {
          "base_uri": "https://localhost:8080/"
        },
        "id": "RVoeL6CKyzHC",
        "outputId": "17d93998-305c-46eb-df59-6bf0b0193e04"
      },
      "execution_count": null,
      "outputs": [
        {
          "output_type": "stream",
          "name": "stdout",
          "text": [
            "Ingrese la temperatura en su ciudad: 21\n",
            "El clima es agradable\n"
          ]
        }
      ]
    },
    {
      "cell_type": "markdown",
      "source": [
        "### Ejercicio 3.3: Sistema de votación\n",
        "Crea un programa que determine si una persona puede votar. Pide al usuario su nacionalidad y edad.\n",
        "\n",
        "Si la persona es de nacionalidad \"Peruana\" y mayor de 18 años, permite que vote.\n",
        "Si es menor de edad o no es de esa nacionalidad, no puede votar."
      ],
      "metadata": {
        "id": "NwLU7rfK2FjL"
      }
    },
    {
      "cell_type": "code",
      "source": [
        "edad = int(input(\"Ingrese su edad: \"))\n",
        "nacionalidad = input(\"Ingrese su nacionalidad: \")\n",
        "if nacionalidad.lower() == \"peruana\":\n",
        "  if edad > 18:\n",
        "    print(\"puede votar\")\n",
        "  else:\n",
        "    print(\"No puede votar\")\n",
        "else:\n",
        "  print(\"no puede votar\")"
      ],
      "metadata": {
        "colab": {
          "base_uri": "https://localhost:8080/"
        },
        "id": "h0VAEMDm2HMB",
        "outputId": "1967662a-6f34-4c0f-f253-9c9ac686e198"
      },
      "execution_count": null,
      "outputs": [
        {
          "output_type": "stream",
          "name": "stdout",
          "text": [
            "Ingrese su edad: 20\n",
            "Ingrese su nacionalidad: peruana\n",
            "puede votar\n"
          ]
        }
      ]
    },
    {
      "cell_type": "markdown",
      "source": [
        "## Desafío 1: Calculadora de propinas inteligente\n",
        "Crea un programa que simule una calculadora de propinas en un restaurante. El programa debe:\n",
        "\n",
        "Pedir al usuario que ingrese el total de la cuenta.\n",
        "Pedir el porcentaje de propina que le gustaría dejar (por ejemplo, 10%, 15%, 20%).\n",
        "Usar condicionales para sugerir automáticamente un valor si no se ingresa un porcentaje, basándose en la experiencia:\n",
        "\n",
        "Si el servicio fue excelente, sugerir 20%.\n",
        "Si el servicio fue bueno, sugerir 15%.\n",
        "Si el servicio fue mediocre, sugerir 10%.\n",
        "Si el servicio fue malo, no sugerir propina.\n",
        "Calcular e imprimir la cantidad de propina y el total a pagar (cuenta + propina).\n"
      ],
      "metadata": {
        "id": "Kj8vZviI3GTm"
      }
    },
    {
      "cell_type": "code",
      "source": [
        "total_cuenta = int(input(\"Ingrese el total de la cuenta: \"))\n",
        "propina = input(\"Ingrese el procentaje de propina que le gustaria dejar (en %): \")\n",
        "if propina == \"\":\n",
        "  servicio = (input(\"Como fue su servicio? Por favor, eliga entre una de las siguientes opciones: Excelente, Bueno, Mediocre, malo\"))\n",
        "  if servicio.lower() == \"excelente\":\n",
        "    propina = 20\n",
        "  elif servicio.lower() == \"bueno\":\n",
        "    propina = 15\n",
        "  elif servicio.lower() == \"mediocre\":\n",
        "    propina = 10\n",
        "  elif servicio.lower() == \"malo\":\n",
        "    propina = 0\n",
        "  propina = int(propina)\n",
        "else:\n",
        "   propina = int(propina)\n",
        "cantidad_propina = total_cuenta * int(propina)/100\n",
        "total_pagar = total_cuenta + cantidad_propina\n",
        "print(f\"La propina que esta dejando es {cantidad_propina}, \\n y el monto total a pagar es {total_pagar}\")\n",
        "\n",
        "\n",
        "\n"
      ],
      "metadata": {
        "colab": {
          "base_uri": "https://localhost:8080/"
        },
        "id": "HYE2_RSz3JZs",
        "outputId": "97f1afd4-01ec-4f08-ea1c-4b4be04fca91"
      },
      "execution_count": null,
      "outputs": [
        {
          "output_type": "stream",
          "name": "stdout",
          "text": [
            "Ingrese el total de la cuenta: 200\n",
            "Ingrese el procentaje de propina que le gustaria dejar (en %): \n",
            "Como fue su servicio? Por favor, eliga entre una de las siguientes opciones: Excelente, Bueno, Mediocre, malomediocre\n",
            "La propina que esta dejando es 20.0, \n",
            " y el monto total a pagar es 220.0\n"
          ]
        }
      ]
    },
    {
      "cell_type": "markdown",
      "source": [
        "## Desafío 2: Clasificación de Números\n",
        "Escribe un programa que clasifique un número dado por el usuario según sus características numéricas. El programa debe:\n",
        "\n",
        "Pedir al usuario que ingrese un número entero.\n",
        "\n",
        "Determinar si el número es:\n",
        "\n",
        "Par o impar.\n",
        "Positivo, negativo o cero.\n",
        "Primo o no primo (un número primo solo es divisible por 1 y por sí mismo).\n",
        "Imprimir una clasificación completa del número según las tres categorías anteriores."
      ],
      "metadata": {
        "id": "FyLNSdy88HwK"
      }
    },
    {
      "cell_type": "code",
      "source": [
        "numero = int(input(\"Ingrese un numero entero: \"))\n",
        "if numero > 0:\n",
        "  signo = \"Positivo\"\n",
        "elif numero = 0:\n",
        "  signo = \"Cero\"\n",
        "elif numero < 0:\n",
        "  signo = \"Negativo\"\n",
        "if numero % 2 == 0:\n",
        "  paridad = \"Par\"\n",
        "else:\n",
        "  paridad = \"Impar\"\n",
        "if numero\n"
      ],
      "metadata": {
        "id": "kvQOwoKb8HX2"
      },
      "execution_count": null,
      "outputs": []
    },
    {
      "cell_type": "code",
      "source": [
        "lista = list(range(10, 0, -1))\n",
        "print(lista)"
      ],
      "metadata": {
        "colab": {
          "base_uri": "https://localhost:8080/"
        },
        "id": "NdwoGwrRKlJo",
        "outputId": "2f0c7575-d572-4798-9b60-d926935d0623"
      },
      "execution_count": null,
      "outputs": [
        {
          "output_type": "stream",
          "name": "stdout",
          "text": [
            "[10, 9, 8, 7, 6, 5, 4, 3, 2, 1]\n"
          ]
        }
      ]
    },
    {
      "cell_type": "code",
      "source": [
        "# Crear una lista de múltiplos de 5 entre 0 y 50\n",
        "lista = list(range(0, 51, 5))"
      ],
      "metadata": {
        "id": "gcAnptC3K2rN"
      },
      "execution_count": null,
      "outputs": []
    },
    {
      "cell_type": "markdown",
      "source": [
        "## Desafío 1: Análisis de ventas de una tienda de ropa\n",
        "Eres el encargado de una tienda de ropa y tienes una lista de ventas diarias para diferentes productos. Cada día, vendes camisetas, pantalones y zapatos. Quieres analizar las ventas para entender mejor el rendimiento de cada producto.\n",
        "\n",
        "Objetivo:\n",
        "\n",
        "Crea tres listas: una para camisetas, otra para pantalones y una para zapatos, con la cantidad vendida cada día durante una semana.\n",
        "\n",
        "Usa slicing para extraer las ventas de los últimos 3 días de cada producto.\n",
        "\n",
        "Usa listas por comprensión para calcular el total de ventas de cada producto y el promedio de ventas diarias.\n",
        "\n",
        "Clasifica los productos en \"buenas ventas\" o \"malas ventas\" según si el promedio de ventas diarias es mayor o menor a 5.\n",
        "\n",
        "Instrucciones:\n",
        "\n",
        "Genera los datos de ventas usando listas manualmente o simulándolos con valores constantes.\n",
        "Calcula el total de ventas por producto usando sum() y el promedio con len().\n",
        "Usa listas por comprensión para clasificar las ventas de los productos."
      ],
      "metadata": {
        "id": "GreVEvLLQTfI"
      }
    },
    {
      "cell_type": "code",
      "source": [
        "camisetas = [2, 3, 4, 5, 4, 3, 5]\n",
        "pantalones = [20, 15, 33, 19, 46, 49, 60]\n",
        "zapatos = [7, 10, 15, 20, 25, 30, 40]\n",
        "total_productos = [camisetas, pantalones, zapatos]\n",
        "camisetas_ultimos_3 = camisetas[-3:]\n",
        "pantalones_ultimos_3 = pantalones[-3:]\n",
        "zapatos_ultimos_3 = zapatos[-3:]\n",
        "total_ventas = [sum(x) for x in total_productos]\n",
        "promedio_diario = [sum(x)/len(x) for x in total_productos]\n",
        "clasificacion = ['Buenas ventas' if x > 5 else \"malas ventas\" for x in promedio_diario]\n",
        "print(total_ventas)\n",
        "print(promedio_diario)\n",
        "print(clasificacion)"
      ],
      "metadata": {
        "colab": {
          "base_uri": "https://localhost:8080/"
        },
        "id": "ek9M1loNQVAi",
        "outputId": "df1e3d18-d052-49e9-c187-1ea54ef70c0e"
      },
      "execution_count": null,
      "outputs": [
        {
          "output_type": "stream",
          "name": "stdout",
          "text": [
            "[26, 242, 147]\n",
            "[3.7142857142857144, 34.57142857142857, 21.0]\n",
            "['malas ventas', 'Buenas ventas', 'Buenas ventas']\n"
          ]
        }
      ]
    },
    {
      "cell_type": "markdown",
      "source": [
        "## Pregunta 1: Matrices y Estructuras de Control\n",
        "Crea un laberinto de 5x5 representado por una matriz (lista de listas). Inicializa la matriz con paredes representadas por '#' en los bordes y espacios vacíos representados por ' ' en el interior. Escribe el código para crear esta matriz y muestra el laberinto en pantalla de forma que cada fila aparezca en una línea diferente.\n"
      ],
      "metadata": {
        "id": "3fF6HUo9-DoU"
      }
    },
    {
      "cell_type": "code",
      "source": [
        " laberinto = [\n",
        "        ['#', '#', '#', '#', '#'],\n",
        "        ['#', ' ', ' ', ' ', '#'],\n",
        "        ['#', ' ', ' ', ' ', '#'],\n",
        "        ['#', ' ', ' ', ' ', '#'],\n",
        "        ['#', '#', '#', '#', '#']\n",
        "    ]\n",
        "# podemos usar un for para imprimir cada fila del laberinto. Lo creamos como funcion por si la necesitamos llamar despues:\n",
        "def mostrar_laberinto(laberinto) :\n",
        "  for fila in laberinto:\n",
        "    print(fila)\n",
        "\n",
        "mostrar_laberinto(laberinto)\n",
        "\n"
      ],
      "metadata": {
        "id": "obKlaR5m-G1L",
        "outputId": "f9b8eca8-973a-4182-e602-3bd08738b9ad",
        "colab": {
          "base_uri": "https://localhost:8080/"
        }
      },
      "execution_count": null,
      "outputs": [
        {
          "output_type": "stream",
          "name": "stdout",
          "text": [
            "['#', '#', '#', '#', '#']\n",
            "['#', ' ', ' ', ' ', '#']\n",
            "['#', ' ', ' ', ' ', '#']\n",
            "['#', ' ', ' ', ' ', '#']\n",
            "['#', '#', '#', '#', '#']\n"
          ]
        }
      ]
    },
    {
      "cell_type": "markdown",
      "source": [
        "## Pregunta 2: Slicing y Mostrar el Laberinto\n",
        "Muestra el laberinto en pantalla marcando la posición del jugador con una 'P'. La posición inicial del jugador es (1, 1). Asegúrate de que la posición del jugador se refleje correctamente en la salida. Utiliza slicing para ayudar a mostrar las filas.\n"
      ],
      "metadata": {
        "id": "fECGM6clAC7A"
      }
    },
    {
      "cell_type": "code",
      "source": [
        "def colocar_jugador(laberinto, posicion):\n",
        "\n",
        "    laberinto_con_jugador = [fila[:] for fila in laberinto]\n",
        "\n",
        "    # Usamos slicing para colocar al jugador 'P'\n",
        "    fila, columna = posicion\n",
        "    laberinto_con_jugador[fila][columna] = 'P'\n",
        "\n",
        "    return laberinto_con_jugador\n",
        "\n",
        "# Posición inicial del jugador\n",
        "posicion_jugador = (1, 1)\n",
        "laberinto_con_jugador = colocar_jugador(laberinto, posicion_jugador)\n",
        "mostrar_laberinto(laberinto_con_jugador)"
      ],
      "metadata": {
        "id": "Qbp6O_AMAEYi",
        "outputId": "05367549-36e2-4258-c3fa-2cd690dcaa79",
        "colab": {
          "base_uri": "https://localhost:8080/"
        }
      },
      "execution_count": null,
      "outputs": [
        {
          "output_type": "stream",
          "name": "stdout",
          "text": [
            "['#', '#', '#', '#', '#']\n",
            "['#', 'P', ' ', ' ', '#']\n",
            "['#', ' ', ' ', ' ', '#']\n",
            "['#', ' ', ' ', ' ', '#']\n",
            "['#', '#', '#', '#', '#']\n"
          ]
        }
      ]
    },
    {
      "cell_type": "markdown",
      "source": [
        "## Pregunta 3: Diccionarios y Control de Flujo\n",
        "Crea un diccionario llamado inventario para almacenar los objetos que el jugador recolecta. Escribe el código que agrega un objeto al inventario cuando el jugador lo encuentra. Si el objeto ya existe en el inventario, incrementa su cantidad en 1; si no, añade el objeto al inventario con cantidad 1.\n"
      ],
      "metadata": {
        "id": "ygwDY1_pBcl_"
      }
    },
    {
      "cell_type": "code",
      "source": [
        "inventario = {}\n",
        "# el inventario comienza vacio\n",
        "#creamos una funciona para que si el juagdor en encuentras un objeto pueda ir almacenandolo en el inventario\n",
        "def almacenar_en_inventario(objeto):\n",
        "    if objeto.lower() in inventario:\n",
        "        inventario[objeto] += 1\n",
        "    else:\n",
        "        inventario[objeto] = 1\n",
        "    print(inventario)\n",
        "#ejemplo\n",
        "almacenar_en_inventario(\"Espada\")\n",
        "almacenar_en_inventario(\"Espada\")"
      ],
      "metadata": {
        "id": "RdifIL2xBc9L",
        "outputId": "92a2c5ce-1396-40bf-ef16-6d77b0890a24",
        "colab": {
          "base_uri": "https://localhost:8080/"
        }
      },
      "execution_count": null,
      "outputs": [
        {
          "output_type": "stream",
          "name": "stdout",
          "text": [
            "{'Espada': 1}\n",
            "{'Espada': 2}\n"
          ]
        }
      ]
    },
    {
      "cell_type": "code",
      "source": [
        "inventario = {}\n",
        "# el inventario comienza vacio\n",
        "#creamos una funciona para que si el juagdor en encuentras un objeto pueda ir almacenandolo en el inventario\n",
        "def almacenar_en_inventario(objeto):\n",
        "    if objeto.lower() in inventario:\n",
        "        inventario[objeto] += 1  # Incrementa la cantidad si el objeto ya existe\n",
        "    else:\n",
        "        inventario[objeto] = 1  # Añade el objeto con cantidad 1 si no existe.\n",
        "    print(inventario)\n",
        "#ejemplo\n",
        "almacenar_en_inventario(\"Espada\")\n",
        "almacenar_en_inventario(\"espada\")"
      ],
      "metadata": {
        "id": "ntP6xAxxFFK0",
        "outputId": "5521f3a9-594b-4e96-d27d-0e261097e844",
        "colab": {
          "base_uri": "https://localhost:8080/"
        }
      },
      "execution_count": null,
      "outputs": [
        {
          "output_type": "stream",
          "name": "stdout",
          "text": [
            "{'Espada': 1}\n",
            "{'Espada': 1, 'espada': 1}\n"
          ]
        }
      ]
    },
    {
      "cell_type": "markdown",
      "source": [
        "## Pregunta 4: Listas por Comprensión y Sets\n",
        "Supón que tienes una lista de objetos únicos del juego llamada objetos_unicos = ['espada', 'escudo', 'poción']. A partir del inventario, utiliza una lista por comprensión para extraer los objetos que están en objetos_unicos. Luego, convierte esta lista en un set para eliminar duplicados y muestra el set resultante.\n"
      ],
      "metadata": {
        "id": "HINEyLjHFfgy"
      }
    },
    {
      "cell_type": "code",
      "source": [
        "\n",
        "inventario = {'espada': 4, 'escudo': 5, 'poción': 6, 'laser': 1}\n",
        "# suponiendo que hemos almacenado todo esto\n",
        "objetos_unicos = ['espada', 'escudo', 'poción']\n",
        "objetos_en_inventario = [x for x in inventario if x in objetos_unicos]\n",
        "\n",
        "# Eliminamos los duplicados con set\n",
        "objetos_en_inventario = set(objetos_en_inventario)\n",
        "\n",
        "print(objetos_en_inventario)\n"
      ],
      "metadata": {
        "id": "t8VfnFCyFfyq",
        "outputId": "caf6ac1f-d958-4d8b-8ce3-73f50634e1b7",
        "colab": {
          "base_uri": "https://localhost:8080/"
        }
      },
      "execution_count": null,
      "outputs": [
        {
          "output_type": "stream",
          "name": "stdout",
          "text": [
            "{'espada', 'escudo', 'poción'}\n"
          ]
        }
      ]
    },
    {
      "cell_type": "code",
      "source": [
        "\n",
        "#iniciamos con estos valores para probar\n",
        "inventario = {'espada': 2, 'escudo': 1, 'poción': 1}\n",
        "\n",
        "def mostrar_mensaje(objeto):\n",
        "\n",
        "    # Verificamos si el objeto está en el inventario\n",
        "    if objeto in inventario:\n",
        "        # Incrementamos la cantidad del objeto en 1\n",
        "        inventario[objeto] += 1\n",
        "        cantidad = inventario[objeto]\n",
        "\n",
        "        mensaje = f\"¡Has encontrado una {objeto.upper()}! Ahora tienes {cantidad} {objeto.upper()}. + S\"\n",
        "    else:\n",
        "        inventario[objeto] = 1\n",
        "        mensaje = f\"¡Has encontrado una {objeto_mayus}! Ahora tienes 1 {objeto_mayus}.\"\n",
        "\n",
        "    print(mensaje)"
      ],
      "metadata": {
        "id": "YUUs-Yg6HHlP"
      },
      "execution_count": null,
      "outputs": []
    },
    {
      "cell_type": "code",
      "source": [
        "trampas = [(1, 2), (3, 4), (2, 2)]\n",
        "\n",
        "#comenzamos con 100 de salud\n",
        "salud_jugador = 100\n",
        "\n",
        "def verificar_trampa(posicion_jugador):\n",
        "\n",
        "    if posicion_jugador in trampas:\n",
        "        salud_jugador -= 10\n",
        "        print(f\"¡Has caído en una trampa! Salud restante: {salud_jugador}\")\n",
        "    else:\n",
        "        print(f\"Estás a salvo. Salud actual: {salud_jugador}\")\n",
        "\n",
        "\n",
        "posicion_jugador = (1, 2)  # Cambia esta posición para probar\n",
        "verificar_trampa(posicion_jugador)"
      ],
      "metadata": {
        "id": "GYroIYLyLAbo"
      },
      "execution_count": null,
      "outputs": []
    },
    {
      "cell_type": "code",
      "source": [
        "#necesitamos saber las 2 posiciones, actual y nueva, del jugador\n",
        "def mover_jugador(laberinto, posicion_actual, nueva_posicion):\n",
        "\n",
        "    laberinto[posicion_actual[0]][posicion_actual[1]] = ' '\n",
        "\n",
        "    # Colocamos al jugador en la nueva posición con 'P'\n",
        "    laberinto[nueva_posicion[0]][nueva_posicion[1]] = 'P'\n",
        "\n",
        "    return laberinto\n",
        "\n",
        "\n",
        "laberinto = crear_laberinto()\n",
        "posicion_actual = (1, 1)  # Posición inicial del jugador\n",
        "laberinto[posicion_actual[0]][posicion_actual[1]] = 'P'  # Colocamos al jugador\n",
        "\n",
        "# Nueva posición del jugador\n",
        "nueva_posicion = (2, 2)\n",
        "\n",
        "# Mover al jugador\n",
        "laberinto = mover_jugador(laberinto, posicion_actual, nueva_posicion)\n",
        "\n",
        "# Mostrar el laberinto\n",
        "for fila in laberinto:\n",
        "    print(' '.join(fila))"
      ],
      "metadata": {
        "id": "GoVmft1NLwhx"
      },
      "execution_count": null,
      "outputs": []
    }
  ]
}