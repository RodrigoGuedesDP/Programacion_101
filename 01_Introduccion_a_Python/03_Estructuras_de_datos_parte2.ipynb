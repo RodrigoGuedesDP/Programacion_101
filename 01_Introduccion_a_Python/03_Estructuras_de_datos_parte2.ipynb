{
  "nbformat": 4,
  "nbformat_minor": 0,
  "metadata": {
    "colab": {
      "provenance": [],
      "include_colab_link": true
    },
    "kernelspec": {
      "name": "python3",
      "display_name": "Python 3"
    },
    "language_info": {
      "name": "python"
    }
  },
  "cells": [
    {
      "cell_type": "markdown",
      "metadata": {
        "id": "view-in-github",
        "colab_type": "text"
      },
      "source": [
        "<a href=\"https://colab.research.google.com/github/RodrigoGuedesDP/Programacion_101/blob/main/01_Introduccion_a_Python/03_Estructuras_de_datos_parte2.ipynb\" target=\"_parent\"><img src=\"https://colab.research.google.com/assets/colab-badge.svg\" alt=\"Open In Colab\"/></a>"
      ]
    },
    {
      "cell_type": "markdown",
      "source": [
        "<img src=\"https://www.ctic.uni.edu.pe/wp-content/uploads/2022/04/588px-x-348px-web-1.png\" alt=\"HTML5 Icon\" width=\"900\" height=\"350\" >\n"
      ],
      "metadata": {
        "id": "0xv6Piu7tRkP"
      }
    },
    {
      "cell_type": "markdown",
      "source": [
        "<h1 align=center><font size = 5>ESTRUCTURAS DE DATOS - PARTE 2\n",
        "</font></h1>\n",
        "\n",
        "---\n"
      ],
      "metadata": {
        "id": "iJvpwSTptUZI"
      }
    },
    {
      "cell_type": "markdown",
      "source": [
        "**Tabla de Contenidos**\n",
        "\n",
        "- Diccionarios\n",
        "- Sets\n",
        "- Matrices\n",
        "\n",
        "---"
      ],
      "metadata": {
        "id": "gM88wvb0uEt7"
      }
    },
    {
      "cell_type": "markdown",
      "source": [
        "## 1. Diccionarios\n",
        "\n",
        "**Concepto:**\n",
        "\n",
        "Un diccionario es una estructura de datos que almacena pares clave-valor. Las claves deben ser únicas y se utilizan para acceder a los valores asociados."
      ],
      "metadata": {
        "id": "P3deKEL-tbDJ"
      }
    },
    {
      "cell_type": "markdown",
      "source": [
        "### Ejemplo 1.1: Creación de Diccionarios y Acceso a Elementos\n"
      ],
      "metadata": {
        "id": "hlZnLeo_uPwN"
      }
    },
    {
      "cell_type": "code",
      "source": [
        "# Crear un diccionario\n",
        "persona = {'nombre': 'Ana', 'edad': 30, 'ciudad': 'Lima'}\n",
        "print(persona)\n",
        "print(persona.items())\n",
        "print(list(persona.items()))"
      ],
      "metadata": {
        "id": "P-TTXZxuuRe7",
        "outputId": "6ff93719-4a88-4aeb-c1cb-2ea17fef66f5",
        "colab": {
          "base_uri": "https://localhost:8080/"
        }
      },
      "execution_count": 8,
      "outputs": [
        {
          "output_type": "stream",
          "name": "stdout",
          "text": [
            "{'nombre': 'Ana', 'edad': 30, 'ciudad': 'Lima'}\n",
            "dict_items([('nombre', 'Ana'), ('edad', 30), ('ciudad', 'Lima')])\n",
            "[('nombre', 'Ana'), ('edad', 30), ('ciudad', 'Lima')]\n"
          ]
        }
      ]
    },
    {
      "cell_type": "code",
      "source": [
        "# Acceder a un valor\n",
        "print(\"Nombre:\", persona['nombre'])\n",
        "print(\"Ciudad:\", persona.get('ciudad'))\n",
        "#la sentencia get permite lo mismo que el indexado\n"
      ],
      "metadata": {
        "id": "tPRrAukRuS1S"
      },
      "execution_count": null,
      "outputs": []
    },
    {
      "cell_type": "code",
      "source": [
        "\n",
        "# Añadir un nuevo par clave-valor\n",
        "persona['profesion'] = 'Ingeniera'\n",
        "print(persona)\n",
        "persona[\"club\"] = \"Alianza Lima\"\n",
        "print(persona)\n"
      ],
      "metadata": {
        "id": "Ineeezk6uUjd",
        "outputId": "66ce8ce5-8463-4298-c733-0151d369d05d",
        "colab": {
          "base_uri": "https://localhost:8080/"
        }
      },
      "execution_count": 3,
      "outputs": [
        {
          "output_type": "stream",
          "name": "stdout",
          "text": [
            "{'nombre': 'Ana', 'edad': 30, 'ciudad': 'Lima', 'profesion': 'Ingeniera'}\n",
            "{'nombre': 'Ana', 'edad': 30, 'ciudad': 'Lima', 'profesion': 'Ingeniera', 'club': 'Alianza Lima'}\n"
          ]
        }
      ]
    },
    {
      "cell_type": "code",
      "source": [
        "# Eliminar un par clave-valor\n",
        "del persona['ciudad']\n",
        "print(persona)\n",
        "# se elimina tanto la clave como el valor"
      ],
      "metadata": {
        "id": "tuA4FSZNuVv1",
        "outputId": "bf306177-7fe9-41b2-9637-35cf87fe8100",
        "colab": {
          "base_uri": "https://localhost:8080/"
        }
      },
      "execution_count": null,
      "outputs": [
        {
          "output_type": "stream",
          "name": "stdout",
          "text": [
            "{'nombre': 'Ana', 'edad': 30, 'profesion': 'Ingeniera'}\n"
          ]
        }
      ]
    },
    {
      "cell_type": "markdown",
      "source": [
        "### Ejemplo 1.2: Métodos Útiles de Diccionarios\n"
      ],
      "metadata": {
        "id": "FiQWLZxXuY6G"
      }
    },
    {
      "cell_type": "code",
      "source": [
        "# Obtener todas las claves\n",
        "print(persona.keys())\n",
        "# el formato que devuelve no es una lista, es un dict_keys, que es como un subespacio de un diccionario.\n",
        "#en python es posible transformarlo a lista\n",
        "list(persona.keys())\n",
        "list(persona.values())\n"
      ],
      "metadata": {
        "id": "0BNmkeBXua1R",
        "outputId": "6adc1809-3245-4e35-c2ba-a69185cca283",
        "colab": {
          "base_uri": "https://localhost:8080/"
        }
      },
      "execution_count": 4,
      "outputs": [
        {
          "output_type": "stream",
          "name": "stdout",
          "text": [
            "dict_keys(['nombre', 'edad', 'ciudad', 'profesion', 'club'])\n"
          ]
        },
        {
          "output_type": "execute_result",
          "data": {
            "text/plain": [
              "['Ana', 30, 'Lima', 'Ingeniera', 'Alianza Lima']"
            ]
          },
          "metadata": {},
          "execution_count": 4
        }
      ]
    },
    {
      "cell_type": "code",
      "source": [
        "# Obtener todos los valores\n",
        "print(persona.values())\n"
      ],
      "metadata": {
        "id": "67-6NfYiubwM",
        "outputId": "ff63718e-2508-4911-d4d7-9d4e3df9730a",
        "colab": {
          "base_uri": "https://localhost:8080/"
        }
      },
      "execution_count": 5,
      "outputs": [
        {
          "output_type": "stream",
          "name": "stdout",
          "text": [
            "dict_values(['Ana', 30, 'Lima', 'Ingeniera', 'Alianza Lima'])\n"
          ]
        }
      ]
    },
    {
      "cell_type": "code",
      "source": [
        "persona['edad'] = 30\n",
        "print(persona)\n",
        "\n"
      ],
      "metadata": {
        "id": "RMBMQtxnQMOo",
        "outputId": "9307c4a8-f11c-4b3b-e6e7-5d3bc8a3b461",
        "colab": {
          "base_uri": "https://localhost:8080/"
        }
      },
      "execution_count": 6,
      "outputs": [
        {
          "output_type": "stream",
          "name": "stdout",
          "text": [
            "{'nombre': 'Ana', 'edad': 30, 'ciudad': 'Lima', 'profesion': 'Ingeniera', 'club': 'Alianza Lima'}\n"
          ]
        }
      ]
    },
    {
      "cell_type": "code",
      "source": [
        "persona = {'nombre': 'Ana', 'edad': 30, 'ciudad': 'Lima'}\n",
        "my_list = []\n",
        "\n",
        "for key in persona.keys():\n",
        "  my_list.append(key)\n",
        "  my_list.append(persona[key])\n",
        "\n",
        "  print(my_list)"
      ],
      "metadata": {
        "id": "MxYZWQfIQ5PW",
        "outputId": "5378bf8e-c91e-4b70-b697-435bb4303ae1",
        "colab": {
          "base_uri": "https://localhost:8080/"
        }
      },
      "execution_count": null,
      "outputs": [
        {
          "output_type": "stream",
          "name": "stdout",
          "text": [
            "['nombre', 'Ana']\n",
            "['nombre', 'Ana', 'edad', 30]\n",
            "['nombre', 'Ana', 'edad', 30, 'ciudad', 'Lima']\n"
          ]
        }
      ]
    },
    {
      "cell_type": "code",
      "source": [
        "persona = {'nombre': 'Ana', 'edad': 30, 'ciudad': 'Lima'}\n",
        "my_list = []\n",
        "tipotupla = persona.items()\n",
        "print(tipotupla)\n",
        "for x, y in tipotupla:\n",
        "  my_list.append(x)\n",
        "  my_list.append(y)\n",
        "  print(my_list)\n",
        "\n",
        "#vemos que aca devuelve el dict_items\n",
        "type(tipotupla)\n"
      ],
      "metadata": {
        "id": "X8D6Uyc-S415",
        "outputId": "fed5a5be-c4b6-4e79-dc53-1a776bd50f45",
        "colab": {
          "base_uri": "https://localhost:8080/"
        }
      },
      "execution_count": null,
      "outputs": [
        {
          "output_type": "stream",
          "name": "stdout",
          "text": [
            "dict_items([('nombre', 'Ana'), ('edad', 30), ('ciudad', 'Lima')])\n",
            "['nombre', 'Ana']\n",
            "['nombre', 'Ana', 'edad', 30]\n",
            "['nombre', 'Ana', 'edad', 30, 'ciudad', 'Lima']\n"
          ]
        },
        {
          "output_type": "execute_result",
          "data": {
            "text/plain": [
              "dict_items"
            ]
          },
          "metadata": {},
          "execution_count": 21
        }
      ]
    },
    {
      "cell_type": "code",
      "source": [
        "#Otra forma segun GPT\n",
        "persona = {'nombre': 'Ana', 'edad': 30, 'ciudad': 'Lima'}\n",
        "\n",
        "my_list = []\n",
        "\n",
        "for key, value in persona.items():\n",
        "    my_list.append(key)\n",
        "    my_list.append(value)\n",
        "\n",
        "print(my_list)"
      ],
      "metadata": {
        "id": "QaqZylNypJBi",
        "outputId": "5cc68183-6b32-42d2-d375-eac17fda84c9",
        "colab": {
          "base_uri": "https://localhost:8080/"
        }
      },
      "execution_count": 9,
      "outputs": [
        {
          "output_type": "stream",
          "name": "stdout",
          "text": [
            "['nombre', 'Ana', 'edad', 30, 'ciudad', 'Lima']\n"
          ]
        }
      ]
    },
    {
      "cell_type": "code",
      "source": [
        "persona = {'nombre': 'Ana', 'edad': 30, 'ciudad': 'Lima'}\n",
        "my_list = []\n",
        "\n",
        "for item in persona.items():\n",
        "  my_list += list(item)\n",
        "\n",
        "  #con este metodo puedo convertir el diccionario en una lista\n",
        "  print(my_list)\n",
        "\n"
      ],
      "metadata": {
        "id": "c0N0GYCXTeZf",
        "outputId": "8056337c-c115-472b-a9cc-1d96f5ad8ec8",
        "colab": {
          "base_uri": "https://localhost:8080/"
        }
      },
      "execution_count": null,
      "outputs": [
        {
          "output_type": "stream",
          "name": "stdout",
          "text": [
            "['nombre', 'Ana']\n",
            "['nombre', 'Ana', 'edad', 30]\n",
            "['nombre', 'Ana', 'edad', 30, 'ciudad', 'Lima']\n"
          ]
        }
      ]
    },
    {
      "cell_type": "code",
      "source": [
        "#porque no se puede hacer directamente del diccionario a lista, solo toma las keys\n",
        "lista = list(persona)\n",
        "print(lista)"
      ],
      "metadata": {
        "id": "qAhSFiWUUNeQ",
        "outputId": "cf3a94fe-4fc6-4e53-b5ff-a995d01d2de1",
        "colab": {
          "base_uri": "https://localhost:8080/"
        }
      },
      "execution_count": null,
      "outputs": [
        {
          "output_type": "stream",
          "name": "stdout",
          "text": [
            "['nombre', 'edad', 'profesion']\n"
          ]
        }
      ]
    },
    {
      "cell_type": "code",
      "source": [
        "print(my_list)"
      ],
      "metadata": {
        "id": "Va3nNAGDT5xp",
        "outputId": "93bb57af-57b8-465b-d19e-1332a13da38c",
        "colab": {
          "base_uri": "https://localhost:8080/"
        }
      },
      "execution_count": null,
      "outputs": [
        {
          "output_type": "stream",
          "name": "stdout",
          "text": [
            "['nombre', 'Ana', 'edad', 30, 'profesion', 'Ingeniera']\n"
          ]
        }
      ]
    },
    {
      "cell_type": "code",
      "source": [
        "# Comprobar si una clave existe en el diccionario\n",
        "if 'edad' in persona:\n",
        "    print(\"La clave 'edad' está en el diccionario.\")\n"
      ],
      "metadata": {
        "id": "UPfEsSI_ucnd"
      },
      "execution_count": null,
      "outputs": []
    },
    {
      "cell_type": "markdown",
      "source": [
        "### Ejercicio 1: Trabajando con Diccionarios\n",
        "\n",
        "- Crea un diccionario que contenga información sobre un automóvil (marca, modelo, año, color).\n",
        "- Accede a cada valor usando su clave.\n",
        "- Añade una clave para el precio del automóvil.\n",
        "- Elimina la clave del color del automóvil y muestra el diccionario actualizado.\n",
        "- Usa keys() y values() para imprimir las claves y valores del diccionario.\n",
        "\n"
      ],
      "metadata": {
        "id": "oECCq-N5uguf"
      }
    },
    {
      "cell_type": "code",
      "source": [
        "automovil = { \"marca\": \"Audi\", \"modelo\": \"Q7\", \"año\": 2020, \"color\": \"negro\"}\n",
        "automovil[\"marca\"]\n",
        "automovil[\"modelo\"]\n",
        "automovil[\"año\"]\n",
        "automovil[\"color\"]\n",
        "automovil[\"precio\"] = 30_000\n",
        "del automovil[\"color\"]\n",
        "print(automovil)\n",
        "print(automovil.keys())\n",
        "print(automovil.values())\n"
      ],
      "metadata": {
        "id": "x2uN2fYnume5",
        "outputId": "141d2fb5-c779-4342-8db3-e5d2e065c118",
        "colab": {
          "base_uri": "https://localhost:8080/"
        }
      },
      "execution_count": null,
      "outputs": [
        {
          "output_type": "stream",
          "name": "stdout",
          "text": [
            "{'marca': 'Audi', 'modelo': 'Q7', 'año': 2020, 'precio': 30000}\n",
            "dict_keys(['marca', 'modelo', 'año', 'precio'])\n",
            "dict_values(['Audi', 'Q7', 2020, 30000])\n"
          ]
        }
      ]
    },
    {
      "cell_type": "code",
      "source": [
        "#Ejemplo\n",
        "\n",
        "notas = {\"Rodrigo\": 20, \"Hugo\": 18, \"Sebastian\": 17}\n",
        "for x, y in notas.items():\n",
        "  print(f\"La nota de {x} es {y}\")"
      ],
      "metadata": {
        "id": "E6Da9MraW4vI",
        "outputId": "5f088bfb-70fb-4888-da20-09ffcdbc0d13",
        "colab": {
          "base_uri": "https://localhost:8080/"
        }
      },
      "execution_count": null,
      "outputs": [
        {
          "output_type": "stream",
          "name": "stdout",
          "text": [
            "La nota de Rodrigo es 20\n",
            "La nota de Hugo es 18\n",
            "La nota de Sebastian es 17\n"
          ]
        }
      ]
    },
    {
      "cell_type": "markdown",
      "source": [
        "## 2. Sets\n",
        "\n",
        "Los sets son colecciones de elementos únicos y desordenados. Son útiles para eliminar duplicados o realizar operaciones matemáticas como intersección y unión."
      ],
      "metadata": {
        "id": "-omdmjTguoW-"
      }
    },
    {
      "cell_type": "code",
      "source": [
        "#Con este metodo podemos quitar duplicados de manera rapida conviertiendolo en set y luego conviertiendolo en lista.\n",
        "my_list = [\"var1\", \"var2\", \"var2\"]\n",
        "list(set(my_list))\n"
      ],
      "metadata": {
        "id": "bsjTHFF8Yc23",
        "outputId": "19932eb5-41dc-4f11-b5e9-7e6e79443b23",
        "colab": {
          "base_uri": "https://localhost:8080/"
        }
      },
      "execution_count": null,
      "outputs": [
        {
          "output_type": "execute_result",
          "data": {
            "text/plain": [
              "['var2', 'var1']"
            ]
          },
          "metadata": {},
          "execution_count": 34
        }
      ]
    },
    {
      "cell_type": "markdown",
      "source": [
        "### Ejemplo 2.1: Creación y Modificación de Sets"
      ],
      "metadata": {
        "id": "5GC8_tPvuu3r"
      }
    },
    {
      "cell_type": "code",
      "source": [
        "# Crear un set\n",
        "numeros = {1, 2, 3, 4, 5}\n",
        "print(numeros)\n"
      ],
      "metadata": {
        "id": "D2ClA0CAutom",
        "outputId": "49c11963-441b-4153-be48-985780711906",
        "colab": {
          "base_uri": "https://localhost:8080/"
        }
      },
      "execution_count": 10,
      "outputs": [
        {
          "output_type": "stream",
          "name": "stdout",
          "text": [
            "{1, 2, 3, 4, 5}\n"
          ]
        }
      ]
    },
    {
      "cell_type": "code",
      "source": [
        "# Añadir elementos\n",
        "numeros.add(6)\n",
        "print(numeros)\n"
      ],
      "metadata": {
        "id": "deMM35okuyPM",
        "outputId": "7978f87b-2b7c-4ccf-9018-ba10fa56018f",
        "colab": {
          "base_uri": "https://localhost:8080/"
        }
      },
      "execution_count": null,
      "outputs": [
        {
          "output_type": "stream",
          "name": "stdout",
          "text": [
            "{1, 2, 3, 4, 5, 6}\n"
          ]
        }
      ]
    },
    {
      "cell_type": "code",
      "source": [
        "# Eliminar un elemento\n",
        "numeros.remove(3)\n",
        "print(numeros)\n"
      ],
      "metadata": {
        "id": "VQjmgrWyuzAr",
        "outputId": "f63bc5e7-a017-46ce-acfa-184e1d8aa06e",
        "colab": {
          "base_uri": "https://localhost:8080/"
        }
      },
      "execution_count": null,
      "outputs": [
        {
          "output_type": "stream",
          "name": "stdout",
          "text": [
            "{1, 2, 4, 5, 6}\n"
          ]
        }
      ]
    },
    {
      "cell_type": "markdown",
      "source": [
        "### Ejemplo 2.2: Operaciones de Conjuntos\n"
      ],
      "metadata": {
        "id": "8I9pqkBWu3qE"
      }
    },
    {
      "cell_type": "code",
      "source": [
        "# Crear otro set\n",
        "otro_set = {4, 5, 6, 7}"
      ],
      "metadata": {
        "id": "169QsOxuvAbe"
      },
      "execution_count": 11,
      "outputs": []
    },
    {
      "cell_type": "code",
      "source": [
        "# Unión de sets (todos los elementos)\n",
        "union = numeros.union(otro_set)\n",
        "print(\"Unión:\", union)\n",
        "#los datos repetidos no los agrega.\n"
      ],
      "metadata": {
        "id": "1hvqQ2F_vBtY",
        "outputId": "46a6d50a-2344-4059-8eb1-b8fd16ddcd85",
        "colab": {
          "base_uri": "https://localhost:8080/"
        }
      },
      "execution_count": 12,
      "outputs": [
        {
          "output_type": "stream",
          "name": "stdout",
          "text": [
            "Unión: {1, 2, 3, 4, 5, 6, 7}\n"
          ]
        }
      ]
    },
    {
      "cell_type": "code",
      "source": [
        "# Intersección de sets (elementos comunes)\n",
        "interseccion = numeros.intersection(otro_set)\n",
        "print(\"Intersección:\", interseccion)\n",
        "#interseccion va a ser la mas usada. Poruqe no es tan sencillo de resolver con listas y tuplas."
      ],
      "metadata": {
        "id": "0AU3PFc1vCh2",
        "outputId": "4a11c5d9-acaf-4898-8d59-48990153c539",
        "colab": {
          "base_uri": "https://localhost:8080/"
        }
      },
      "execution_count": null,
      "outputs": [
        {
          "output_type": "stream",
          "name": "stdout",
          "text": [
            "Intersección: {4, 5}\n"
          ]
        }
      ]
    },
    {
      "cell_type": "markdown",
      "source": [
        "### Ejercicio 2: Operaciones con Sets\n",
        "\n",
        "- Crea dos sets de números: uno con números del 1 al 10 y otro con números del 5 al 15.\n",
        "- Encuentra la intersección y unión de ambos sets.\n",
        "- Elimina un número del primer set.\n",
        "- Usa un set para almacenar los nombres de tus amigos. Asegúrate de que no haya duplicados."
      ],
      "metadata": {
        "id": "y15kQNAQvFx_"
      }
    },
    {
      "cell_type": "code",
      "source": [
        "set1 = set(range(1, 11))\n",
        "set2 = set(range(5, 16))\n",
        "interseccion = set1.intersection(set2)\n",
        "union = set1.union(set2)\n",
        "print(interseccion, union)\n"
      ],
      "metadata": {
        "id": "CqudC_sBvJEQ",
        "outputId": "d1614624-505c-47b7-84a1-47f3defa355c",
        "colab": {
          "base_uri": "https://localhost:8080/"
        }
      },
      "execution_count": 14,
      "outputs": [
        {
          "output_type": "stream",
          "name": "stdout",
          "text": [
            "{5, 6, 7, 8, 9, 10} {1, 2, 3, 4, 5, 6, 7, 8, 9, 10, 11, 12, 13, 14, 15}\n"
          ]
        }
      ]
    },
    {
      "cell_type": "markdown",
      "source": [
        "## 3. Matrices\n",
        "\n",
        "En Python, las matrices pueden representarse como listas de listas. Para manipular matrices más avanzadas y realizar cálculos eficientes, utilizamos la librería NumPy."
      ],
      "metadata": {
        "id": "Pg3-dd-KvK9D"
      }
    },
    {
      "cell_type": "markdown",
      "source": [
        "### Ejemplo 3.1: Matrices con Listas de Listas\n"
      ],
      "metadata": {
        "id": "X7qGslkLvNya"
      }
    },
    {
      "cell_type": "code",
      "source": [
        "# Crear una matriz 3x3 con listas anidadas\n",
        "matriz = [\n",
        "    [1, 2, 3],\n",
        "    [4, 5, 6],\n",
        "    [7, 8, 9]\n",
        "]\n",
        "print(matriz)\n",
        "#Esta no es la mejor forma de crear matrices, porque luego no podre multiplicar ni sumar listas. Es mejor usar NumPy"
      ],
      "metadata": {
        "id": "TK57Y4GUvQ3Z",
        "outputId": "2a34e6f9-3ab1-44df-b419-2b87fb27002a",
        "colab": {
          "base_uri": "https://localhost:8080/"
        }
      },
      "execution_count": 15,
      "outputs": [
        {
          "output_type": "stream",
          "name": "stdout",
          "text": [
            "[[1, 2, 3], [4, 5, 6], [7, 8, 9]]\n"
          ]
        }
      ]
    },
    {
      "cell_type": "code",
      "source": [
        "# Acceder a elementos de la matriz\n",
        "print(\"Elemento en [1][1]:\", matriz[1][1])\n",
        "#mantiene el indexado basado en 0."
      ],
      "metadata": {
        "id": "D0MpaT6xvSH6",
        "outputId": "8c95dccc-01cc-415b-b3e6-085b971cfa7b",
        "colab": {
          "base_uri": "https://localhost:8080/"
        }
      },
      "execution_count": 16,
      "outputs": [
        {
          "output_type": "stream",
          "name": "stdout",
          "text": [
            "Elemento en [1][1]: 5\n"
          ]
        }
      ]
    },
    {
      "cell_type": "code",
      "source": [
        "# Modificar un elemento\n",
        "matriz[2][0] = 10\n",
        "print(matriz)"
      ],
      "metadata": {
        "id": "02wHfdwMvUB_",
        "outputId": "80b39d35-055b-49c4-d993-ac86071a0d4a",
        "colab": {
          "base_uri": "https://localhost:8080/"
        }
      },
      "execution_count": null,
      "outputs": [
        {
          "output_type": "stream",
          "name": "stdout",
          "text": [
            "[[1, 2, 3], [4, 5, 6], [10, 8, 9]]\n"
          ]
        }
      ]
    },
    {
      "cell_type": "markdown",
      "source": [
        "### Ejemplo 3.2: Manipulación de Matrices con NumPy\n"
      ],
      "metadata": {
        "id": "3cCGTHmTvXXy"
      }
    },
    {
      "cell_type": "code",
      "source": [
        "import numpy as np\n",
        "\n",
        "# Crear una matriz 3x3 con NumPy\n",
        "matriz_np = np.array([\n",
        "    [1, 2, 3],\n",
        "    [4, 5, 6],\n",
        "    [7, 8, 9]\n",
        "])\n",
        "print(matriz_np)\n",
        "\n",
        "\n"
      ],
      "metadata": {
        "id": "FZytH_LBvZrP",
        "outputId": "7f6fb09e-3c70-430b-b304-71e16a30313c",
        "colab": {
          "base_uri": "https://localhost:8080/"
        }
      },
      "execution_count": null,
      "outputs": [
        {
          "output_type": "stream",
          "name": "stdout",
          "text": [
            "[[1 2 3]\n",
            " [4 5 6]\n",
            " [7 8 9]]\n"
          ]
        }
      ]
    },
    {
      "cell_type": "code",
      "source": [
        "#tambien se puede con la matriz anterior creada\n",
        "\n",
        "matriz_np2 = np.array(matriz)\n",
        "print(matriz_np2)"
      ],
      "metadata": {
        "id": "ruhGUIf3bvBG",
        "outputId": "10ad3884-f90c-4c78-ad88-45bd0801acd4",
        "colab": {
          "base_uri": "https://localhost:8080/"
        }
      },
      "execution_count": null,
      "outputs": [
        {
          "output_type": "stream",
          "name": "stdout",
          "text": [
            "[[1 2 3]\n",
            " [4 5 6]\n",
            " [7 8 9]]\n"
          ]
        }
      ]
    },
    {
      "cell_type": "code",
      "source": [
        "# Sumar 10 a cada elemento\n",
        "print(matriz_np + 10)\n",
        "\n"
      ],
      "metadata": {
        "id": "n2yT2V3tvbEE",
        "outputId": "655a0ffc-e981-40d6-c27f-d2baabe49c44",
        "colab": {
          "base_uri": "https://localhost:8080/"
        }
      },
      "execution_count": null,
      "outputs": [
        {
          "output_type": "stream",
          "name": "stdout",
          "text": [
            "[[11 12 13]\n",
            " [14 15 16]\n",
            " [17 18 19]]\n"
          ]
        }
      ]
    },
    {
      "cell_type": "code",
      "source": [
        "#crear matriz identidad\n",
        "import numpy as np\n",
        "identidad = np.identity(3)\n",
        "identidad"
      ],
      "metadata": {
        "id": "8Y88vrxfdM_G",
        "outputId": "4a5004e5-6c37-489b-9c33-fb384bd5b833",
        "colab": {
          "base_uri": "https://localhost:8080/"
        }
      },
      "execution_count": 18,
      "outputs": [
        {
          "output_type": "execute_result",
          "data": {
            "text/plain": [
              "array([[1., 0., 0.],\n",
              "       [0., 1., 0.],\n",
              "       [0., 0., 1.]])"
            ]
          },
          "metadata": {},
          "execution_count": 18
        }
      ]
    },
    {
      "cell_type": "code",
      "source": [
        "#crear matriz de ceros que sea 3x2. Por eso necesito 2 inputs.\n",
        "np.zeros((3, 2))\n",
        "np.zeros((3,3))"
      ],
      "metadata": {
        "id": "DqDssyyndXZv",
        "outputId": "e8984c12-12fb-4fe3-d6d5-62f41fd4d09a",
        "colab": {
          "base_uri": "https://localhost:8080/"
        }
      },
      "execution_count": 19,
      "outputs": [
        {
          "output_type": "execute_result",
          "data": {
            "text/plain": [
              "array([[0., 0., 0.],\n",
              "       [0., 0., 0.],\n",
              "       [0., 0., 0.]])"
            ]
          },
          "metadata": {},
          "execution_count": 19
        }
      ]
    },
    {
      "cell_type": "code",
      "source": [
        "#crear matrices de 1.\n",
        "np.ones((1,3))"
      ],
      "metadata": {
        "id": "IPMQkr2Qdlz4",
        "outputId": "f45d153d-bc6f-41b6-fff8-ccf8861c14a8",
        "colab": {
          "base_uri": "https://localhost:8080/"
        }
      },
      "execution_count": null,
      "outputs": [
        {
          "output_type": "execute_result",
          "data": {
            "text/plain": [
              "array([[1., 1., 1.]])"
            ]
          },
          "metadata": {},
          "execution_count": 58
        }
      ]
    },
    {
      "cell_type": "code",
      "source": [
        "#Como hallar la traza como vector\n",
        "print(np.diag(identidad))\n",
        "# la suma de la traza\n",
        "print(sum(np.diag(identidad)))\n",
        "#con trace\n",
        "print(np.trace(identidad))"
      ],
      "metadata": {
        "id": "bEuOmnutdss4",
        "outputId": "e58ed1f2-5e28-4ea5-a017-2e7b7def252f",
        "colab": {
          "base_uri": "https://localhost:8080/"
        }
      },
      "execution_count": 21,
      "outputs": [
        {
          "output_type": "stream",
          "name": "stdout",
          "text": [
            "[1. 1. 1.]\n",
            "3.0\n",
            "3.0\n"
          ]
        }
      ]
    },
    {
      "cell_type": "code",
      "source": [
        "#ejemplo hallar el vector traza\n",
        "import numpy as np\n",
        "\n",
        "matriz_unos = np.ones((3,3))\n",
        "vector_diagonal = np.diag(matriz_unos)\n",
        "print(matriz_unos)\n",
        "print(vector_diagonal)"
      ],
      "metadata": {
        "id": "J5W20vHXx8Ky",
        "outputId": "be1340c4-7119-4472-aec8-26ddfb118208",
        "colab": {
          "base_uri": "https://localhost:8080/"
        }
      },
      "execution_count": null,
      "outputs": [
        {
          "output_type": "stream",
          "name": "stdout",
          "text": [
            "[[1. 1. 1.]\n",
            " [1. 1. 1.]\n",
            " [1. 1. 1.]]\n",
            "[1. 1. 1.]\n"
          ]
        }
      ]
    },
    {
      "cell_type": "code",
      "source": [
        "#se podemos preguntar el tamano con shape\n",
        "matriz_np2.shape\n",
        "matriz_2 = np.array([\n",
        "    [1, 2, 3]\n",
        "  ])\n",
        "matriz_2.shape\n",
        "# el tamano es 1 fila y 3 columnas\n"
      ],
      "metadata": {
        "id": "rT1r7cPZcI-v",
        "outputId": "4873f407-c87d-488f-e016-efd23b672144",
        "colab": {
          "base_uri": "https://localhost:8080/"
        }
      },
      "execution_count": null,
      "outputs": [
        {
          "output_type": "execute_result",
          "data": {
            "text/plain": [
              "(1, 3)"
            ]
          },
          "metadata": {},
          "execution_count": 54
        }
      ]
    },
    {
      "cell_type": "code",
      "source": [
        "#Transpocision de matrices\n",
        "matriz_np2.T"
      ],
      "metadata": {
        "id": "66us1g9Qcp8L",
        "outputId": "7498a923-aad7-42d3-9007-da32c319b260",
        "colab": {
          "base_uri": "https://localhost:8080/"
        }
      },
      "execution_count": null,
      "outputs": [
        {
          "output_type": "execute_result",
          "data": {
            "text/plain": [
              "array([[1, 4, 7],\n",
              "       [2, 5, 8],\n",
              "       [3, 6, 9]])"
            ]
          },
          "metadata": {},
          "execution_count": 55
        }
      ]
    },
    {
      "cell_type": "code",
      "source": [
        "# Multiplicar cada elemento por 2\n",
        "print(matriz_np * 2)"
      ],
      "metadata": {
        "id": "RS-Cqk3rvb7k",
        "outputId": "538b0a65-b5e3-4de3-8bc2-ea3ebc467c98",
        "colab": {
          "base_uri": "https://localhost:8080/"
        }
      },
      "execution_count": null,
      "outputs": [
        {
          "output_type": "stream",
          "name": "stdout",
          "text": [
            "[[ 2  4  6]\n",
            " [ 8 10 12]\n",
            " [14 16 18]]\n"
          ]
        }
      ]
    },
    {
      "cell_type": "code",
      "source": [
        "#Crear una matriz aleatoria con numeros reales\n",
        "np.random.rand(1, 3)\n",
        "#con numeros enteros, se indica el rango de valores y luego el orden de la matriz\n",
        "np.random.randint(1, 100, (3,3))"
      ],
      "metadata": {
        "id": "T9rRfxKBetO-",
        "outputId": "2811999c-a41e-42a2-a257-9a2cbd20eded",
        "colab": {
          "base_uri": "https://localhost:8080/"
        }
      },
      "execution_count": null,
      "outputs": [
        {
          "output_type": "execute_result",
          "data": {
            "text/plain": [
              "array([[23,  7, 58],\n",
              "       [66,  7, 19],\n",
              "       [80, 51, 50]])"
            ]
          },
          "metadata": {},
          "execution_count": 69
        }
      ]
    },
    {
      "cell_type": "code",
      "source": [
        "#Como sacar inversa de una matriz\n",
        "np.linalg.inv(np.random.randint(1, 100, (3, 3)))"
      ],
      "metadata": {
        "id": "oQVBsoMffMYT",
        "outputId": "b7862b9a-a1c0-4e30-cec0-b088871e71fc",
        "colab": {
          "base_uri": "https://localhost:8080/"
        }
      },
      "execution_count": null,
      "outputs": [
        {
          "output_type": "execute_result",
          "data": {
            "text/plain": [
              "array([[-0.17241897,  0.6144958 , -0.54636855],\n",
              "       [ 0.14165666, -0.43697479,  0.38535414],\n",
              "       [ 0.09243697, -0.35294118,  0.32773109]])"
            ]
          },
          "metadata": {},
          "execution_count": 68
        }
      ]
    },
    {
      "cell_type": "markdown",
      "source": [
        "### Ejercicio 3: Operaciones con Matrices\n",
        "\n",
        "- Crea una matriz 3x3 usando listas de listas.\n",
        "- Modifica un valor de la matriz y muestra la matriz actualizada.\n",
        "- Usa NumPy para crear una matriz 4x4 con números aleatorios enteros.\n",
        "- Realiza una operación de suma con la matriz (suma 5 a cada elemento).\n",
        "- Multiplica los elementos de la matriz por 2 usando NumPy."
      ],
      "metadata": {
        "id": "lR6HCR3DveEn"
      }
    },
    {
      "cell_type": "code",
      "source": [
        "matriz_3 = [\n",
        "    [1, 2, 3],\n",
        "    [4, 5, 6],\n",
        "    [7, 8, 9]\n",
        "]\n",
        "matriz_3[1][1] = 20\n",
        "print(matriz_3)\n",
        "import numpy as np\n",
        "\n",
        "matriz_4 = np.random.randint(1, 20, (4,4))\n",
        "matriz_4 + 5\n",
        "print(matriz_4)\n",
        "print(matriz_4 + 5)\n"
      ],
      "metadata": {
        "id": "7RMRCaRPvh1s",
        "outputId": "b3935726-8209-4d90-c31c-4cff5ebfb44e",
        "colab": {
          "base_uri": "https://localhost:8080/"
        }
      },
      "execution_count": 27,
      "outputs": [
        {
          "output_type": "stream",
          "name": "stdout",
          "text": [
            "[[1, 2, 3], [4, 20, 6], [7, 8, 9]]\n",
            "[[11 12 14  6]\n",
            " [13 15 12  2]\n",
            " [ 8  8 10 13]\n",
            " [10  7 14 19]]\n",
            "[[16 17 19 11]\n",
            " [18 20 17  7]\n",
            " [13 13 15 18]\n",
            " [15 12 19 24]]\n"
          ]
        }
      ]
    },
    {
      "cell_type": "markdown",
      "source": [
        "## 4. Desafío\n",
        "\n",
        "\n",
        "Eres el encargado de un almacén de productos electrónicos. Tienes un registro de ventas semanales para teléfonos, laptops y tabletas. Necesitas analizar las ventas para mejorar la gestión.\n",
        "\n",
        "- Crea tres listas: una para teléfonos, otra para laptops y otra para tabletas con las ventas de cada día durante una semana.\n",
        "- Usa slicing para obtener las ventas de los últimos 3 días de cada producto.\n",
        "- Usa listas por comprensión para calcular el total de ventas de cada producto y el promedio de ventas diarias.\n",
        "- Clasifica los productos en \"ventas altas\" o \"ventas bajas\" según si el promedio de ventas es mayor o menor a 5.\n",
        "\n",
        "Instrucciones:\n",
        "Usa sum() y len() para calcular el total de ventas y el promedio.\n",
        "Clasifica las ventas usando listas por comprensión."
      ],
      "metadata": {
        "id": "ROqSXb4Avk_T"
      }
    },
    {
      "cell_type": "code",
      "source": [
        "#Creamos las 3 listas de ventas semanales\n",
        "\n",
        "ventas_telefonos = [5, 3, 4, 4, 2, 1, 2]\n",
        "ventas_laptops = [6, 7, 11, 7, 5, 10, 14]\n",
        "ventas_tabletas = [8, 9, 11, 15, 11, 14, 10]\n",
        "\n",
        "ventas_telefonos_ultimos_3_dias = ventas_telefonos[-3:]\n",
        "ventas_laptops_ultimos_3_dias = ventas_laptops[-3:]\n",
        "ventas_tabletas_ultimos_3_dias = ventas_tabletas[-3:]\n",
        "\n",
        "ventas_semanales = {\"ventas telefonos\" : ventas_telefonos,\"ventas laptops\": ventas_laptops, \"ventas tabletas\": ventas_tabletas}\n",
        "total_ventas = {}\n",
        "promedio_ventas = {}\n",
        "clasificacion_ventas = {}\n",
        "for key, value in ventas_semanales.items():\n",
        "  total_ventas[\"Total de \" + key] = sum(value)\n",
        "  promedio = round(sum(value)/len(value), 2)\n",
        "  promedio_ventas[\"Promedio de \" + key] = promedio\n",
        "  clasificacion_ventas[\"Clasificacion \" + key] = \"Ventas altas\" if promedio >= 5 else \"Ventas bajas\"\n",
        "\n",
        "print(total_ventas)\n",
        "print(promedio_ventas)\n",
        "print(clasificacion_ventas)\n",
        "print(ventas_telefonos_ultimos_3_dias)"
      ],
      "metadata": {
        "id": "93wXCVCZv4TT",
        "outputId": "5fd01a5b-9ebe-404d-8c46-e6aa88def856",
        "colab": {
          "base_uri": "https://localhost:8080/"
        }
      },
      "execution_count": 37,
      "outputs": [
        {
          "output_type": "stream",
          "name": "stdout",
          "text": [
            "{'Total de ventas telefonos': 21, 'Total de ventas laptops': 60, 'Total de ventas tabletas': 78}\n",
            "{'Promedio de ventas telefonos': 3.0, 'Promedio de ventas laptops': 8.57, 'Promedio de ventas tabletas': 11.14}\n",
            "{'Clasificacion ventas telefonos': 'Ventas bajas', 'Clasificacion ventas laptops': 'Ventas altas', 'Clasificacion ventas tabletas': 'Ventas altas'}\n",
            "[2, 1, 2]\n"
          ]
        }
      ]
    },
    {
      "cell_type": "markdown",
      "source": [
        "---\n",
        "\n",
        "# Gracias por completar este laboratorio!\n",
        "\n",
        "---"
      ],
      "metadata": {
        "id": "qUpDNm7iv-Vh"
      }
    }
  ]
}