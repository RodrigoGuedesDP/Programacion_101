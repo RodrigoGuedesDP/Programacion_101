{
  "nbformat": 4,
  "nbformat_minor": 0,
  "metadata": {
    "colab": {
      "provenance": [],
      "include_colab_link": true
    },
    "kernelspec": {
      "name": "python3",
      "display_name": "Python 3"
    },
    "language_info": {
      "name": "python"
    }
  },
  "cells": [
    {
      "cell_type": "markdown",
      "metadata": {
        "id": "view-in-github",
        "colab_type": "text"
      },
      "source": [
        "<a href=\"https://colab.research.google.com/github/RodrigoGuedesDP/Programacion_101/blob/main/01_Introduccion_a_Python/02_Estructuras_de_datos.ipynb\" target=\"_parent\"><img src=\"https://colab.research.google.com/assets/colab-badge.svg\" alt=\"Open In Colab\"/></a>"
      ]
    },
    {
      "cell_type": "markdown",
      "source": [
        "<img src=\"https://www.ctic.uni.edu.pe/wp-content/uploads/2022/04/588px-x-348px-web-1.png\" alt=\"HTML5 Icon\" width=\"900\" height=\"350\" >\n"
      ],
      "metadata": {
        "id": "a2Ojkh4ciEiA"
      }
    },
    {
      "cell_type": "markdown",
      "source": [
        "<h1 align=center><font size = 5>ESTRUCTURAS DE DATOS - PARTE 1\n",
        "</font></h1>\n",
        "\n",
        "---"
      ],
      "metadata": {
        "id": "-amNk-kqiHO2"
      }
    },
    {
      "cell_type": "markdown",
      "source": [
        "## Tabla de Contenidos\n",
        "\n",
        "<div class=\"alert alert-block alert-info\" style=\"margin-top: 20px\">\n",
        "\n",
        "<font size = 3>\n",
        "    \n",
        "1. <a href=\"#item31\">Listas</a>  \n",
        "2. <a href=\"#item31\">Tuplas</a>  \n",
        "3. <a href=\"#item31\">Slicing</a>  \n",
        "4. <a href=\"#item31\">List comprehension</a>  \n",
        "</font>\n",
        "</div>\n",
        "\n",
        "---\n",
        "\n",
        "\n",
        "\n"
      ],
      "metadata": {
        "id": "qJ6hLRHNiQCG"
      }
    },
    {
      "cell_type": "markdown",
      "source": [
        "## <b>Objetivo:</b>\n",
        "\n",
        "Este laboratorio está diseñado para cubrir los conceptos de listas, tuplas, slicing, y listas por comprensión, con ejercicios detallados para practicar la manipulación de estos tipos de datos en Python.\n",
        "\n",
        "---"
      ],
      "metadata": {
        "id": "1XCUOST_igWZ"
      }
    },
    {
      "cell_type": "markdown",
      "source": [
        "## <b>1. Trabajando con Listas numéricas</b>\n",
        "\n",
        "Las listas son una secuencia de elementos que pueden ser modificados después de su creación. Vamos a realizar varias operaciones con listas numéricas, utilizando también la función range() para generar secuencias de números.\n",
        "\n"
      ],
      "metadata": {
        "id": "MWslSPQKjLYb"
      }
    },
    {
      "cell_type": "markdown",
      "source": [
        "### Ejemplo 1.1: Creación de listas\n"
      ],
      "metadata": {
        "id": "WVuNuyWsjXsU"
      }
    },
    {
      "cell_type": "code",
      "source": [
        "my_list = ['logistic regresion', 'XGBoost', 'SVM', 'KNN', 2, None]\n",
        "print(my_list)\n"
      ],
      "metadata": {
        "colab": {
          "base_uri": "https://localhost:8080/"
        },
        "id": "H-TjjUxf12S_",
        "outputId": "95a5775d-403d-4af8-c69c-c19ab34229cc"
      },
      "execution_count": null,
      "outputs": [
        {
          "output_type": "stream",
          "name": "stdout",
          "text": [
            "['logistic regresion', 'XGBoost', 'SVM', 'KNN', 2]\n"
          ]
        }
      ]
    },
    {
      "cell_type": "code",
      "source": [
        "# Crear una lista de frutas\n",
        "frutas = [\"manzana\", \"banana\", \"naranja\", \"uva\", \"pera\"]\n"
      ],
      "metadata": {
        "id": "_nYyKe_bjHY5"
      },
      "execution_count": null,
      "outputs": []
    },
    {
      "cell_type": "code",
      "execution_count": null,
      "metadata": {
        "id": "MNGFUaC6hyfi",
        "outputId": "b1a5cb66-c612-4d2d-b11b-706fb7e16a4f",
        "colab": {
          "base_uri": "https://localhost:8080/"
        }
      },
      "outputs": [
        {
          "output_type": "stream",
          "name": "stdout",
          "text": [
            "manzana pera\n"
          ]
        }
      ],
      "source": [
        "\n",
        "# Acceder a elementos individuales\n",
        "primera_fruta = frutas[0]\n",
        "ultima_fruta = frutas[-1]\n",
        "print(primera_fruta, ultima_fruta)\n",
        "\n"
      ]
    },
    {
      "cell_type": "code",
      "source": [
        "funel = ['a', 'b', 'c', 'SVM', ['Reg KNN', 'Class KNN'], 'Decision Tree', \"Random Forest\"]\n",
        "funel[4]\n",
        "funel[4][1]\n",
        "funel[-3][1]\n",
        "funel[-3][-1]\n"
      ],
      "metadata": {
        "colab": {
          "base_uri": "https://localhost:8080/",
          "height": 36
        },
        "id": "kxeEKKI_6-eg",
        "outputId": "63c4d623-7ea6-4294-a2f5-9e465bfef829"
      },
      "execution_count": null,
      "outputs": [
        {
          "output_type": "execute_result",
          "data": {
            "text/plain": [
              "'Class KNN'"
            ],
            "application/vnd.google.colaboratory.intrinsic+json": {
              "type": "string"
            }
          },
          "metadata": {},
          "execution_count": 6
        }
      ]
    },
    {
      "cell_type": "code",
      "source": [
        "funel[1] = 'Gradient Boosting'\n",
        "print(funel)\n",
        "funel[4][0]= ''\n",
        "print(funel)\n",
        "funel[-1]= None\n",
        "funel"
      ],
      "metadata": {
        "colab": {
          "base_uri": "https://localhost:8080/"
        },
        "id": "_dApxpvD8U1l",
        "outputId": "c706cf84-764a-4a35-d530-17efe2392696"
      },
      "execution_count": null,
      "outputs": [
        {
          "output_type": "stream",
          "name": "stdout",
          "text": [
            "['a', 'Gradient Boosting', 'c', 'SVM', ['Reg KNN', 'Class KNN'], 'Decision Tree', 'Random Forest']\n",
            "['a', 'Gradient Boosting', 'c', 'SVM', ['', 'Class KNN'], 'Decision Tree', 'Random Forest']\n"
          ]
        },
        {
          "output_type": "execute_result",
          "data": {
            "text/plain": [
              "['a',\n",
              " 'Gradient Boosting',\n",
              " 'c',\n",
              " 'SVM',\n",
              " ['', 'Class KNN'],\n",
              " 'Decision Tree',\n",
              " None]"
            ]
          },
          "metadata": {},
          "execution_count": 7
        }
      ]
    },
    {
      "cell_type": "code",
      "source": [
        "# Modificar un elemento\n",
        "frutas[1] = \"plátano\"\n",
        "print(frutas)"
      ],
      "metadata": {
        "id": "hbnOS3lsjdWc"
      },
      "execution_count": null,
      "outputs": []
    },
    {
      "cell_type": "markdown",
      "source": [
        "### Ejemplo 1.2: Métodos útiles de listas\n",
        "\n"
      ],
      "metadata": {
        "id": "oa1fRACgjlV_"
      }
    },
    {
      "cell_type": "code",
      "source": [
        "algoritmo = ['logistic regression', 'XGBoost', 'SVM', 'KNN']\n",
        "algoritmo.append('Decision Tree')\n",
        "algoritmo.append('Random Forest')\n",
        "print(algoritmo)\n",
        "algoritmo.append(['a', 'b'])\n",
        "#en este caso he agregado una lista no 2 elementos.\n",
        "#append modifica la lista, no da un retorno"
      ],
      "metadata": {
        "colab": {
          "base_uri": "https://localhost:8080/"
        },
        "id": "mEdwenu59xkr",
        "outputId": "8fc2e7e8-90af-4414-da81-60d654cf64ca"
      },
      "execution_count": null,
      "outputs": [
        {
          "output_type": "stream",
          "name": "stdout",
          "text": [
            "['logistic regression', 'XGBoost', 'SVM', 'KNN', 'Decision Tree', 'Random Forest']\n"
          ]
        }
      ]
    },
    {
      "cell_type": "code",
      "source": [
        "#Se puede sumar listas. Funciona como el append donde se suma al final segun el orden que se pone.\n",
        "algoritmo2 = ['logistic regression', 'XGBoost', 'SVM', 'KNN']\n",
        "algoritmo2 + ['Decision Tree', 'Random Forest']\n",
        "algoritmo2 += ['J', 'M']\n",
        "print(algoritmo2)"
      ],
      "metadata": {
        "colab": {
          "base_uri": "https://localhost:8080/"
        },
        "id": "XIhGMonl-4N8",
        "outputId": "3bf0a18d-ebbf-4748-9880-f5d96bd5609b"
      },
      "execution_count": null,
      "outputs": [
        {
          "output_type": "stream",
          "name": "stdout",
          "text": [
            "['logistic regression', 'XGBoost', 'SVM', 'KNN', 'J', 'M']\n"
          ]
        }
      ]
    },
    {
      "cell_type": "code",
      "source": [
        "# Agregar un elemento al final\n",
        "frutas.append(\"kiwi\")\n",
        "print(frutas)\n"
      ],
      "metadata": {
        "id": "yrlpPiGWjol1"
      },
      "execution_count": null,
      "outputs": []
    },
    {
      "cell_type": "code",
      "source": [
        "frutas = [\"manzana\", \"banana\", \"naranja\", \"uva\", \"pera\"]\n",
        "# Insertar un elemento en una posición específica\n",
        "frutas.insert(2, \"mango\")\n",
        "print(frutas)\n",
        "algoritmo2.insert(2, \"Greedy algorithm\")\n",
        "print(algoritmo2)\n"
      ],
      "metadata": {
        "id": "wx9q6KbWnZ56",
        "colab": {
          "base_uri": "https://localhost:8080/"
        },
        "outputId": "e68b1f86-ed48-424d-847f-b6288ae85315"
      },
      "execution_count": null,
      "outputs": [
        {
          "output_type": "stream",
          "name": "stdout",
          "text": [
            "['manzana', 'banana', 'mango', 'naranja', 'uva', 'pera']\n",
            "['logistic regression', 'XGBoost', 'Greedy algorithm', 'SVM', 'KNN', 'J', 'M']\n"
          ]
        }
      ]
    },
    {
      "cell_type": "code",
      "source": [
        "# Eliminar un elemento\n",
        "frutas.remove(\"banana\")\n",
        "print(frutas)\n",
        "#Solo elimina la primera coincidencia que encuentra, solo 1 elemento\n"
      ],
      "metadata": {
        "id": "XVXLcedpna3G",
        "colab": {
          "base_uri": "https://localhost:8080/"
        },
        "outputId": "fa0aeee6-4f74-4272-b0f8-c7f7a06c23d2"
      },
      "execution_count": null,
      "outputs": [
        {
          "output_type": "stream",
          "name": "stdout",
          "text": [
            "['manzana', 'mango', 'uva', 'pera']\n"
          ]
        }
      ]
    },
    {
      "cell_type": "code",
      "source": [
        "# Ordenar una lista de menor a mayor.\n",
        "frutas.sort()\n",
        "print(frutas)\n"
      ],
      "metadata": {
        "id": "v0vdv2Wknb4y",
        "colab": {
          "base_uri": "https://localhost:8080/"
        },
        "outputId": "08c53d21-02c2-495d-e6e3-60aa89bdca64"
      },
      "execution_count": null,
      "outputs": [
        {
          "output_type": "stream",
          "name": "stdout",
          "text": [
            "['mango', 'manzana', 'pera', 'uva']\n"
          ]
        }
      ]
    },
    {
      "cell_type": "code",
      "source": [
        "my_num = [3 , 5, 7, 2, 10, 64]\n",
        "my_num.sort()\n",
        "print(my_num)"
      ],
      "metadata": {
        "colab": {
          "base_uri": "https://localhost:8080/"
        },
        "id": "IQoiBehnCFvI",
        "outputId": "80f62094-24b6-4fea-eddd-d3411e286aad"
      },
      "execution_count": null,
      "outputs": [
        {
          "output_type": "stream",
          "name": "stdout",
          "text": [
            "[2, 3, 5, 7, 10, 64]\n"
          ]
        }
      ]
    },
    {
      "cell_type": "code",
      "source": [
        "my_num\n",
        "#La sentencia no se queda in place.\n",
        "#se puede crear otra variable y usar sorted. Sort modifica la lista pero sorted no.\n",
        "nuevalista = sorted(my_num)\n",
        "print(nuevalista)\n"
      ],
      "metadata": {
        "colab": {
          "base_uri": "https://localhost:8080/"
        },
        "id": "fVl8EU-QEXtz",
        "outputId": "ba090d4a-a921-41fe-d7c2-e344395d64d8"
      },
      "execution_count": null,
      "outputs": [
        {
          "output_type": "stream",
          "name": "stdout",
          "text": [
            "[2, 3, 5, 7, 10, 64]\n"
          ]
        }
      ]
    },
    {
      "cell_type": "code",
      "source": [
        "# Ordenar en reversa\n",
        "frutas.sort(reverse=True)\n",
        "print(frutas)\n",
        "# si pusiera reverse=False es lo mismo que no poner nada.\n",
        "my_num.sort(reverse=True)\n",
        "print(my_num)"
      ],
      "metadata": {
        "id": "Z6ermqmGncXu",
        "colab": {
          "base_uri": "https://localhost:8080/"
        },
        "outputId": "3c1da516-7c85-49ab-cc7c-6c8d8dc34800"
      },
      "execution_count": null,
      "outputs": [
        {
          "output_type": "stream",
          "name": "stdout",
          "text": [
            "['uva', 'pera', 'manzana', 'mango']\n",
            "[64, 10, 7, 5, 3, 2]\n"
          ]
        }
      ]
    },
    {
      "cell_type": "code",
      "source": [
        "votes = []\n"
      ],
      "metadata": {
        "id": "GS70M7LEFsp4"
      },
      "execution_count": null,
      "outputs": []
    },
    {
      "cell_type": "code",
      "source": [
        "var = input('dime tu voto: ')\n",
        "votes.append(var)\n",
        "print(f'actual votes: {votes} ')"
      ],
      "metadata": {
        "colab": {
          "base_uri": "https://localhost:8080/"
        },
        "id": "WdJL_v0pGVTW",
        "outputId": "60de8561-0a77-406a-baef-a0e8203f6d68"
      },
      "execution_count": null,
      "outputs": [
        {
          "output_type": "stream",
          "name": "stdout",
          "text": [
            "dime tu voto: KEIKO\n",
            "actual votes: ['PPK', 'KEIKO'] \n"
          ]
        }
      ]
    },
    {
      "cell_type": "markdown",
      "source": [
        "### Ejemplo 1.3: Operaciones numéricas con listas\n",
        "\n"
      ],
      "metadata": {
        "id": "zxB2ys0rm21v"
      }
    },
    {
      "cell_type": "code",
      "source": [
        "digits = [1, 2, 3, 4, 5, 6, 7, 8, 9, 0]\n",
        "\n",
        "print(\"Mínimo:\", min(digits))\n",
        "print(\"Máximo:\", max(digits))\n",
        "print(\"Suma:\", sum(digits))\n",
        "\n",
        "\n",
        "numeros = [1, 2, 3, 4, 5, 6, 7, 8, 9, 10]\n",
        "\n",
        "# Mínimo, máximo y suma\n",
        "print(\"Mínimo:\", min(numeros))\n",
        "print(\"Máximo:\", max(numeros))\n",
        "print(\"Suma total:\", sum(numeros))\n",
        "\n",
        "# Longitud de la lista\n",
        "print(\"Cantidad de elementos:\", len(numeros))\n",
        "\n",
        "# Promedio de los valores en la lista\n",
        "promedio = sum(numeros) / len(numeros)\n",
        "print(\"Promedio:\", promedio)\n"
      ],
      "metadata": {
        "id": "kSOIel4Wm8D2",
        "colab": {
          "base_uri": "https://localhost:8080/"
        },
        "outputId": "d5090f38-c893-4022-a7c4-736d5e814255"
      },
      "execution_count": null,
      "outputs": [
        {
          "output_type": "stream",
          "name": "stdout",
          "text": [
            "Mínimo: 0\n",
            "Máximo: 9\n",
            "Suma: 45\n",
            "Mínimo: 1\n",
            "Máximo: 10\n",
            "Suma total: 55\n",
            "Cantidad de elementos: 10\n",
            "Promedio: 5.5\n"
          ]
        }
      ]
    },
    {
      "cell_type": "markdown",
      "source": [
        "## 1.2: Uso de la función range()\n"
      ],
      "metadata": {
        "id": "x_ULJgErpMDb"
      }
    },
    {
      "cell_type": "markdown",
      "source": [
        "La función range() se utiliza para generar secuencias de números, y es especialmente útil cuando se quiere evitar la creación manual de listas largas de números consecutivos."
      ],
      "metadata": {
        "id": "2gHPgAIxpskX"
      }
    },
    {
      "cell_type": "markdown",
      "source": [
        "### Ejemplo 1.4: Creación de listas con range()\n"
      ],
      "metadata": {
        "id": "zgXTDTTIpvwz"
      }
    },
    {
      "cell_type": "code",
      "source": [
        "range(1, 11)\n",
        "#para python, esto es lo mismo que elementos del 1 al 10. No considera el ultimo elemento. Se puede pensar como el ultimo elemento que quiero + 1\n",
        "#range es un tipo de dato para python, no es una lista.\n",
        "type(range(1, 11))\n"
      ],
      "metadata": {
        "colab": {
          "base_uri": "https://localhost:8080/"
        },
        "id": "iArdz4f7L76L",
        "outputId": "29f0fae3-56f0-40ed-cc70-b0c8cfe18b2c"
      },
      "execution_count": null,
      "outputs": [
        {
          "output_type": "execute_result",
          "data": {
            "text/plain": [
              "range"
            ]
          },
          "metadata": {},
          "execution_count": 2
        }
      ]
    },
    {
      "cell_type": "code",
      "source": [
        "list()\n",
        "#esto puede convertir a una lista un tipo de dato como range"
      ],
      "metadata": {
        "id": "NpXEWCmvMru5"
      },
      "execution_count": null,
      "outputs": []
    },
    {
      "cell_type": "code",
      "source": [
        "my_list = list(range(1, 21))\n",
        "print(my_list)"
      ],
      "metadata": {
        "colab": {
          "base_uri": "https://localhost:8080/"
        },
        "id": "H0NExrR6M7UH",
        "outputId": "a41c14a7-dcce-4d31-c56a-0fadfd69291b"
      },
      "execution_count": null,
      "outputs": [
        {
          "output_type": "stream",
          "name": "stdout",
          "text": [
            "[1, 2, 3, 4, 5, 6, 7, 8, 9, 10, 11, 12, 13, 14, 15, 16, 17, 18, 19, 20]\n"
          ]
        }
      ]
    },
    {
      "cell_type": "code",
      "source": [
        "# Crear una lista con los números del 1 al 10\n",
        "lista_numeros = list(range(1, 11))\n",
        "print(\"Números del 1 al 10:\", lista_numeros)\n"
      ],
      "metadata": {
        "id": "oSjCMXolp0_a"
      },
      "execution_count": null,
      "outputs": []
    },
    {
      "cell_type": "code",
      "source": [
        "# Crear una lista con los números pares entre 2 y 20\n",
        "pares = list(range(2, 21, 2))\n",
        "print(\"Números pares del 2 al 20:\", pares)\n"
      ],
      "metadata": {
        "id": "irHM5QenptAD",
        "colab": {
          "base_uri": "https://localhost:8080/"
        },
        "outputId": "0f9b1897-e24d-4394-f2bc-fb7c134c0f19"
      },
      "execution_count": null,
      "outputs": [
        {
          "output_type": "stream",
          "name": "stdout",
          "text": [
            "Números pares del 2 al 20: [2, 4, 6, 8, 10, 12, 14, 16, 18, 20]\n"
          ]
        }
      ]
    },
    {
      "cell_type": "code",
      "source": [
        "multiplos = list(range(0, 1701, 23))\n",
        "numero = len(multiplos) - 1 #le quitamos el 0 que esta contando\n",
        "print(f'El resultado es {numero}')"
      ],
      "metadata": {
        "colab": {
          "base_uri": "https://localhost:8080/"
        },
        "id": "zWm6WEYnNmV5",
        "outputId": "cec3e53e-0231-4587-cf65-cd762b1f7bd7"
      },
      "execution_count": null,
      "outputs": [
        {
          "output_type": "stream",
          "name": "stdout",
          "text": [
            "El resultado es 73\n"
          ]
        }
      ]
    },
    {
      "cell_type": "code",
      "source": [
        "# Crear una lista de números en orden inverso (del 10 al 1)\n",
        "reversa = list(range(10, 0, -1))\n",
        "print(\"Números en orden inverso:\", reversa)\n",
        "# el -1 hace que enves de aumentar disminuya\n"
      ],
      "metadata": {
        "id": "SFRs3Qv1p56E",
        "colab": {
          "base_uri": "https://localhost:8080/"
        },
        "outputId": "123dc3ec-3965-4281-feb2-fb9b96dc4167"
      },
      "execution_count": null,
      "outputs": [
        {
          "output_type": "stream",
          "name": "stdout",
          "text": [
            "Números en orden inverso: [10, 9, 8, 7, 6, 5, 4, 3, 2, 1]\n"
          ]
        }
      ]
    },
    {
      "cell_type": "code",
      "source": [
        "# Crear una lista de múltiplos de 5 entre 0 y 50\n",
        "multiplos_de_5 = list(range(0, 51, 5))\n",
        "print(\"Múltiplos de 5 entre 0 y 50:\", multiplos_de_5)\n"
      ],
      "metadata": {
        "id": "u9dMaOU8p6UX"
      },
      "execution_count": null,
      "outputs": []
    },
    {
      "cell_type": "markdown",
      "source": [
        "### Ejercicio 1.1: Operaciones numéricas con listas\n",
        "\n",
        "- Crea una lista de números entre 1 y 100 usando la función range() (verás cómo usarla en el próximo ejemplo).\n",
        "\n",
        "- Calcula la media de los valores de la lista usando las funciones sum() y len().\n",
        "\n",
        "- Usa sorted() para crear una lista ordenada inversamente de los primeros 50 números.\n",
        "\n",
        "- Crea una lista que contenga solo los números mayores a 50, multiplicados por 2."
      ],
      "metadata": {
        "id": "H0ED3Dkxm8cd"
      }
    },
    {
      "cell_type": "code",
      "source": [
        "milista = list(range(1, 101))\n",
        "media = sum(milista)/ len(milista)\n",
        "lista = list(range(1, 51))\n",
        "lista_ordenada = sorted(lista, reverse = True)\n",
        "# probar con el metodo de range\n",
        "con_metodo_range = list(range(50, 0, -1))\n",
        "\n",
        "\n",
        "print(milista)\n",
        "print(media)\n",
        "print(lista_ordenada)\n",
        "print(con_metodo_range)\n",
        "#son equivalentes\n",
        "\n"
      ],
      "metadata": {
        "id": "8Yot9kIypKuw",
        "colab": {
          "base_uri": "https://localhost:8080/"
        },
        "outputId": "4314cf42-35e0-4c49-b919-2133c1493f2f"
      },
      "execution_count": null,
      "outputs": [
        {
          "output_type": "stream",
          "name": "stdout",
          "text": [
            "[50, 49, 48, 47, 46, 45, 44, 43, 42, 41, 40, 39, 38, 37, 36, 35, 34, 33, 32, 31, 30, 29, 28, 27, 26, 25, 24, 23, 22, 21, 20, 19, 18, 17, 16, 15, 14, 13, 12, 11, 10, 9, 8, 7, 6, 5, 4, 3, 2, 1]\n",
            "[50, 49, 48, 47, 46, 45, 44, 43, 42, 41, 40, 39, 38, 37, 36, 35, 34, 33, 32, 31, 30, 29, 28, 27, 26, 25, 24, 23, 22, 21, 20, 19, 18, 17, 16, 15, 14, 13, 12, 11, 10, 9, 8, 7, 6, 5, 4, 3, 2, 1]\n"
          ]
        }
      ]
    },
    {
      "cell_type": "markdown",
      "source": [
        "## <b>2. Listas por Comprensión</b>\n",
        "\n",
        "Las listas por comprensión son una forma concisa de crear listas nuevas a partir de una expresión. Se pueden utilizar para realizar operaciones sobre secuencias de forma más rápida y sin necesidad de ciclos explícitos.\n",
        "\n"
      ],
      "metadata": {
        "id": "8q_I9AOBjpH7"
      }
    },
    {
      "cell_type": "markdown",
      "source": [
        "### Ejemplo 2.1: Generación de listas por comprensión\n"
      ],
      "metadata": {
        "id": "o3SzxNcajzk4"
      }
    },
    {
      "cell_type": "code",
      "source": [
        "[x for x in range(1, 1001) if x%23 == 0]"
      ],
      "metadata": {
        "id": "inDoa0dzSTUN"
      },
      "execution_count": null,
      "outputs": []
    },
    {
      "cell_type": "code",
      "source": [
        "# Crear una lista de cuadrados de los números del 1 al 10\n",
        "cuadrados = [x**2 for x in range(1, 11)]\n",
        "print(cuadrados)\n",
        "\n"
      ],
      "metadata": {
        "id": "Uu2JI0Ycj7DM"
      },
      "execution_count": null,
      "outputs": []
    },
    {
      "cell_type": "code",
      "source": [
        "# Crear una lista de números pares entre 1 y 20\n",
        "pares = [x for x in range(1, 21) if x % 2 == 0]\n",
        "print(pares)\n"
      ],
      "metadata": {
        "id": "j8UcjDF7j9JX"
      },
      "execution_count": null,
      "outputs": []
    },
    {
      "cell_type": "markdown",
      "source": [
        "### Ejemplo 2.2: Listas por comprensión con manipulación de cadenas\n",
        "\n"
      ],
      "metadata": {
        "id": "v9o0-F4FkBRa"
      }
    },
    {
      "cell_type": "code",
      "source": [
        "# Crear una lista con las primeras letras en mayúsculas de una lista de nombres\n",
        "\n",
        "nombres = [\"juan\", \"pedro\", \"ana\", \"maria\"]\n",
        "nombres_mayuscula = [nombre.capitalize() for nombre in nombres]\n",
        "print(nombres_mayuscula)\n",
        "\n",
        "#Tambien funciona si nombre lo reemplazas con x.\n",
        "#nombres_mayuscula = [x.capitalize() for x in nombres]"
      ],
      "metadata": {
        "id": "V3ZGMDOKkY29",
        "colab": {
          "base_uri": "https://localhost:8080/"
        },
        "outputId": "3fa5564c-b6b1-4a9f-ef87-ff9c297fa7a1"
      },
      "execution_count": null,
      "outputs": [
        {
          "output_type": "stream",
          "name": "stdout",
          "text": [
            "['Juan', 'Pedro', 'Ana', 'Maria']\n"
          ]
        }
      ]
    },
    {
      "cell_type": "markdown",
      "source": [
        "### Ejercicio 2: Creación avanzada con listas por comprensión\n",
        "\n",
        "- Crea una lista de los números impares entre 1 y 50.\n",
        "- Genera una lista con los cubos de los primeros 10 números (1 al 10).\n",
        "- Dada una lista de palabras, crea una nueva lista que contenga las palabras con más de 4 letras en mayúsculas.\n"
      ],
      "metadata": {
        "id": "ONAVddiUkk0I"
      }
    },
    {
      "cell_type": "code",
      "source": [
        "lista = [x**3 for x in range(1, 11)]"
      ],
      "metadata": {
        "id": "4Zga6zMVYGoa"
      },
      "execution_count": null,
      "outputs": []
    },
    {
      "cell_type": "code",
      "source": [
        "\n",
        "numeros_impares = [x for x in range(1, 51) if x % 2 != 0]\n",
        "\n",
        "lista_cubos_10_primeros = [x**3 for x in range(1, 11)]\n",
        "\n",
        "algoritmo = ['logistic regression', 'XGBoost', 'SVM', 'KNN']\n",
        "\n",
        "nueva_lista = [x.upper() for x in algoritmo if len(x) > 4]\n",
        "\n",
        "print(\"Números impares entre 1 y 50:\", numeros_impares)\n",
        "print(\"Cubos de los primeros 10 números:\", lista_cubos_10_primeros)\n",
        "print(\"Palabras con más de 4 letras en mayúsculas:\", nueva_lista )"
      ],
      "metadata": {
        "id": "jfyhX8FmksPF",
        "colab": {
          "base_uri": "https://localhost:8080/"
        },
        "outputId": "54dcd2d0-3437-4927-9cc6-362ed953d76d"
      },
      "execution_count": null,
      "outputs": [
        {
          "output_type": "stream",
          "name": "stdout",
          "text": [
            "Números impares entre 1 y 50: [1, 3, 5, 7, 9, 11, 13, 15, 17, 19, 21, 23, 25, 27, 29, 31, 33, 35, 37, 39, 41, 43, 45, 47, 49]\n",
            "Cubos de los primeros 10 números: [1, 8, 27, 64, 125, 216, 343, 512, 729, 1000]\n",
            "Palabras con más de 4 letras en mayúsculas: ['LOGISTIC REGRESSION', 'XGBOOST']\n"
          ]
        }
      ]
    },
    {
      "cell_type": "markdown",
      "source": [
        "## <b>3. Trabajando con Slicing</b>\n"
      ],
      "metadata": {
        "id": "8Pw1lVQAk_1c"
      }
    },
    {
      "cell_type": "markdown",
      "source": [
        "El slicing es una técnica que te permite extraer sublistas de listas existentes, seleccionando elementos de una lista mediante índices."
      ],
      "metadata": {
        "id": "E4pOl2C8lKzF"
      }
    },
    {
      "cell_type": "markdown",
      "source": [
        "### Ejemplo 3.1: Slicing de listas\n"
      ],
      "metadata": {
        "id": "NhyOyyLtnaLV"
      }
    },
    {
      "cell_type": "code",
      "source": [
        "# Crear una lista de letras\n",
        "letras = ['a', 'b', 'c', 'd', 'e', 'f', 'g', 'h']\n",
        "\n"
      ],
      "metadata": {
        "id": "YZkf5aLHmhde"
      },
      "execution_count": null,
      "outputs": []
    },
    {
      "cell_type": "code",
      "source": [
        "print(letras[-4], letras[-3])\n",
        "#esta forma es muy manual, se puede hacer con slicing"
      ],
      "metadata": {
        "id": "lzu-Cpmu4DVT",
        "outputId": "94377c28-7e32-43fa-d843-524fa33e8552",
        "colab": {
          "base_uri": "https://localhost:8080/"
        }
      },
      "execution_count": null,
      "outputs": [
        {
          "output_type": "stream",
          "name": "stdout",
          "text": [
            "e f\n"
          ]
        }
      ]
    },
    {
      "cell_type": "code",
      "source": [
        "letras[4:6]"
      ],
      "metadata": {
        "id": "Ge2DU0tW4svQ",
        "outputId": "7248edc4-bab9-4017-cbf1-3f5ebcd7b9c6",
        "colab": {
          "base_uri": "https://localhost:8080/"
        }
      },
      "execution_count": null,
      "outputs": [
        {
          "output_type": "execute_result",
          "data": {
            "text/plain": [
              "['e', 'f']"
            ]
          },
          "metadata": {},
          "execution_count": 11
        }
      ]
    },
    {
      "cell_type": "code",
      "source": [
        "letras[-7:-5]"
      ],
      "metadata": {
        "id": "es-sAOuf4SbP",
        "outputId": "4a6962c6-7bb0-4d63-c209-454b452eecbe",
        "colab": {
          "base_uri": "https://localhost:8080/"
        }
      },
      "execution_count": null,
      "outputs": [
        {
          "output_type": "execute_result",
          "data": {
            "text/plain": [
              "['b', 'c']"
            ]
          },
          "metadata": {},
          "execution_count": 10
        }
      ]
    },
    {
      "cell_type": "code",
      "source": [
        "letras[-7:3]\n",
        "#es lo mismo que lo de arriba, se puede combinar positivo y negativo en el indexado.\n"
      ],
      "metadata": {
        "id": "DfIUMTRA49oR",
        "outputId": "0393eba1-231d-42fc-a12a-8570dd4cfcc1",
        "colab": {
          "base_uri": "https://localhost:8080/"
        }
      },
      "execution_count": null,
      "outputs": [
        {
          "output_type": "execute_result",
          "data": {
            "text/plain": [
              "['b', 'c']"
            ]
          },
          "metadata": {},
          "execution_count": 15
        }
      ]
    },
    {
      "cell_type": "code",
      "source": [
        "#en el caso que quiera que el slicing vaya desde cierto punto, hasta el final, se pone asi:\n",
        "letras[4:]\n",
        "letras[-5:]\n",
        "#Ver que el resultado de un slicing siempre es una lista"
      ],
      "metadata": {
        "id": "6dfMh5675OOK",
        "outputId": "5d51967f-8702-41f0-a6e3-9dcda481c5c9",
        "colab": {
          "base_uri": "https://localhost:8080/"
        }
      },
      "execution_count": null,
      "outputs": [
        {
          "output_type": "execute_result",
          "data": {
            "text/plain": [
              "['d', 'e', 'f', 'g', 'h']"
            ]
          },
          "metadata": {},
          "execution_count": 18
        }
      ]
    },
    {
      "cell_type": "code",
      "source": [
        "# Extraer una subsección de la lista\n",
        "primeras_tres = letras[:3]  # Primeros 3 elementos\n",
        "print(primeras_tres)"
      ],
      "metadata": {
        "id": "qi5sJLuUmR0m",
        "colab": {
          "base_uri": "https://localhost:8080/"
        },
        "outputId": "7c01ccd7-a665-4eb8-96ec-54a4e2781d61"
      },
      "execution_count": 19,
      "outputs": [
        {
          "output_type": "stream",
          "name": "stdout",
          "text": [
            "['a', 'b', 'c']\n"
          ]
        }
      ]
    },
    {
      "cell_type": "code",
      "source": [
        "desde_el_cuarto = letras[3:]  # Desde el cuarto hasta el final\n",
        "print(desde_el_cuarto)\n"
      ],
      "metadata": {
        "id": "8T_pNL9gmoT8",
        "colab": {
          "base_uri": "https://localhost:8080/"
        },
        "outputId": "ecd08559-6ba0-4833-d01c-5680e3ab37c2"
      },
      "execution_count": null,
      "outputs": [
        {
          "output_type": "stream",
          "name": "stdout",
          "text": [
            "['d', 'e', 'f', 'g', 'h']\n"
          ]
        }
      ]
    },
    {
      "cell_type": "code",
      "source": [
        "ultimos_dos = letras[-2:]  # Los últimos dos elementos\n",
        "print(ultimos_dos)\n"
      ],
      "metadata": {
        "id": "hSQ9bC3Vmy96",
        "colab": {
          "base_uri": "https://localhost:8080/"
        },
        "outputId": "1b8b3db5-89eb-43d2-9219-0d79a9e02da3"
      },
      "execution_count": null,
      "outputs": [
        {
          "output_type": "stream",
          "name": "stdout",
          "text": [
            "['g', 'h']\n"
          ]
        }
      ]
    },
    {
      "cell_type": "markdown",
      "source": [
        "### Ejemplo 3.2: Slicing con pasos\n"
      ],
      "metadata": {
        "id": "QJzj1X6undzm"
      }
    },
    {
      "cell_type": "code",
      "source": [
        "# Crear una lista de números del 1 al 10\n",
        "numeros = list(range(1, 11))\n"
      ],
      "metadata": {
        "id": "9u0Sho8vno-g"
      },
      "execution_count": null,
      "outputs": []
    },
    {
      "cell_type": "code",
      "source": [
        "\n",
        "# Obtener todos los números en posiciones pares\n",
        "pares = numeros[1::2]  # Inicia en el segundo elemento y salta de 2 en 2\n",
        "print(pares)\n",
        "impares =numeros[::2]\n",
        "print(impares)\n",
        "prueba = numeros[0::3]\n",
        "print(prueba)\n"
      ],
      "metadata": {
        "id": "EADKhXulntOP",
        "colab": {
          "base_uri": "https://localhost:8080/"
        },
        "outputId": "48f35831-4d69-4974-c6c1-498f73ef46cb"
      },
      "execution_count": null,
      "outputs": [
        {
          "output_type": "stream",
          "name": "stdout",
          "text": [
            "[2, 4, 6, 8, 10]\n",
            "[1, 3, 5, 7, 9]\n",
            "[1, 4, 7, 10]\n"
          ]
        }
      ]
    },
    {
      "cell_type": "code",
      "source": [
        "# Obtener cada tercer número\n",
        "tercios = numeros[::3]\n",
        "print(tercios)"
      ],
      "metadata": {
        "id": "lRCCtFKBnweq",
        "colab": {
          "base_uri": "https://localhost:8080/"
        },
        "outputId": "3a266271-b553-4c83-cbf7-f184fecd5bda"
      },
      "execution_count": null,
      "outputs": [
        {
          "output_type": "stream",
          "name": "stdout",
          "text": [
            "[1, 4, 7, 10]\n"
          ]
        }
      ]
    },
    {
      "cell_type": "markdown",
      "source": [
        "### Ejercicio 3: Aplicaciones de slicing\n",
        "\n",
        "Crea una lista con los números del 1 al 100. Luego, usando slicing:\n",
        "- Extrae los primeros 10 números.\n",
        "- Extrae los últimos 10 números.\n",
        "- Extrae todos los números en posiciones impares.\n",
        "- Usa slicing para dividir una lista de palabras en dos mitades."
      ],
      "metadata": {
        "id": "vp3MgC__lQyw"
      }
    },
    {
      "cell_type": "code",
      "source": [
        "lista =list(range(1, 101))\n",
        "primeros_10 = lista[:10]\n",
        "posiciones_impares = lista[1::2]\n",
        "lista_palabras = ['uno', 'dos', 'tres', 'cuatro', 'cinco', 'seis', 'siete', 'ocho', 'nueve', 'diez']\n",
        "tamano_lista = len(lista_palabras)\n",
        "mitad = tamano_lista // 2\n",
        "mitad = int(mitad)\n",
        "primera_mitad = lista_palabras[:mitad]\n",
        "segunda_mitad = lista_palabras[mitad:]\n",
        "print(primera_mitad)\n",
        "print(segunda_mitad)"
      ],
      "metadata": {
        "id": "8wxUXYwOlYNE",
        "colab": {
          "base_uri": "https://localhost:8080/"
        },
        "outputId": "54bb28ad-914f-446a-a3c6-bd3b2697d51f"
      },
      "execution_count": null,
      "outputs": [
        {
          "output_type": "stream",
          "name": "stdout",
          "text": [
            "['uno', 'dos', 'tres', 'cuatro', 'cinco']\n",
            "['seis', 'siete', 'ocho', 'nueve', 'diez']\n"
          ]
        }
      ]
    },
    {
      "cell_type": "markdown",
      "source": [
        "## <b>4. Trabajando con Tuplas\n",
        "</b>"
      ],
      "metadata": {
        "id": "m2oeaICsrlMr"
      }
    },
    {
      "cell_type": "markdown",
      "source": [
        "Las tuplas son como listas, pero inmutables, lo que significa que no se pueden modificar después de su creación. Son útiles para almacenar datos que no deben cambiar."
      ],
      "metadata": {
        "id": "-m-yjEGmrpxH"
      }
    },
    {
      "cell_type": "markdown",
      "source": [
        "### Ejemplo 4.1: Crear y acceder a tuplas\n"
      ],
      "metadata": {
        "id": "iN8wV0F0rsJK"
      }
    },
    {
      "cell_type": "code",
      "source": [
        "# Crear una tupla\n",
        "coordenadas = (10.5, 20.3)\n",
        "\n",
        "# Acceder a los elementos de la tupla\n",
        "print(\"X:\", coordenadas[0])\n",
        "print(\"Y:\", coordenadas[1])\n"
      ],
      "metadata": {
        "id": "cBiHFdW_rqqi"
      },
      "execution_count": null,
      "outputs": []
    },
    {
      "cell_type": "markdown",
      "source": [
        "### Ejemplo 4.2: Intento de modificación de una tupla\n"
      ],
      "metadata": {
        "id": "YIMqOp-erw_K"
      }
    },
    {
      "cell_type": "code",
      "source": [
        "# Crear una tupla\n",
        "dimensiones = (200, 50)\n"
      ],
      "metadata": {
        "id": "4SMEGO6ZrzJj"
      },
      "execution_count": null,
      "outputs": []
    },
    {
      "cell_type": "code",
      "source": [
        "# Intentar modificar la tupla (esto generará un error)\n",
        "dimensiones[0] = 250  # Descomenta esta línea para ver el error\n"
      ],
      "metadata": {
        "id": "0Zd9AM9Cr2ZN",
        "colab": {
          "base_uri": "https://localhost:8080/",
          "height": 162
        },
        "outputId": "aaf8429c-c077-455c-fb9d-1f48dbd8ce77"
      },
      "execution_count": null,
      "outputs": [
        {
          "output_type": "error",
          "ename": "TypeError",
          "evalue": "'tuple' object does not support item assignment",
          "traceback": [
            "\u001b[0;31m---------------------------------------------------------------------------\u001b[0m",
            "\u001b[0;31mTypeError\u001b[0m                                 Traceback (most recent call last)",
            "\u001b[0;32m<ipython-input-49-9614379909bd>\u001b[0m in \u001b[0;36m<cell line: 2>\u001b[0;34m()\u001b[0m\n\u001b[1;32m      1\u001b[0m \u001b[0;31m# Intentar modificar la tupla (esto generará un error)\u001b[0m\u001b[0;34m\u001b[0m\u001b[0;34m\u001b[0m\u001b[0m\n\u001b[0;32m----> 2\u001b[0;31m \u001b[0mdimensiones\u001b[0m\u001b[0;34m[\u001b[0m\u001b[0;36m0\u001b[0m\u001b[0;34m]\u001b[0m \u001b[0;34m=\u001b[0m \u001b[0;36m250\u001b[0m  \u001b[0;31m# Descomenta esta línea para ver el error\u001b[0m\u001b[0;34m\u001b[0m\u001b[0;34m\u001b[0m\u001b[0m\n\u001b[0m",
            "\u001b[0;31mTypeError\u001b[0m: 'tuple' object does not support item assignment"
          ]
        }
      ]
    },
    {
      "cell_type": "code",
      "source": [
        "# Reasignar una nueva tupla\n",
        "dimensiones = (400, 100)\n",
        "print(\"Nuevas dimensiones:\", dimensiones)"
      ],
      "metadata": {
        "id": "lIv2eQcmr3aL",
        "colab": {
          "base_uri": "https://localhost:8080/"
        },
        "outputId": "f0f3a716-64f0-4759-f43e-3c90bcb45842"
      },
      "execution_count": null,
      "outputs": [
        {
          "output_type": "stream",
          "name": "stdout",
          "text": [
            "Nuevas dimensiones: (400, 100)\n"
          ]
        }
      ]
    },
    {
      "cell_type": "markdown",
      "source": [
        "### Ejercicio 4: Trabajando con tuplas\n",
        "- Crea una tupla que almacene las dimensiones de un objeto (ancho, alto).\n",
        "- Intenta modificar un elemento de la tupla y observa el error que genera.\n",
        "- Reescribe la tupla completa con nuevas dimensiones.\n"
      ],
      "metadata": {
        "id": "juG-GKwwr7hC"
      }
    },
    {
      "cell_type": "code",
      "source": [
        "tupla = (200, 300)\n",
        "#tupla[0] = 100 ESTO DA UN ERROR\n",
        "tupla = (100, 300)\n",
        "print(tupla)\n"
      ],
      "metadata": {
        "id": "flPWwLBRr-87",
        "colab": {
          "base_uri": "https://localhost:8080/"
        },
        "outputId": "64630ede-fbc5-426a-82e2-ddb186f92108"
      },
      "execution_count": null,
      "outputs": [
        {
          "output_type": "stream",
          "name": "stdout",
          "text": [
            "(100, 300)\n"
          ]
        }
      ]
    },
    {
      "cell_type": "markdown",
      "source": [
        "## <b>5. Desafío</b>"
      ],
      "metadata": {
        "id": "K8ioDMpJl8zI"
      }
    },
    {
      "cell_type": "markdown",
      "source": [
        "### Desafío 1: Análisis de ventas de una tienda de ropa\n",
        "\n",
        "Eres el encargado de una tienda de ropa y tienes una lista de ventas diarias para diferentes productos. Cada día, vendes camisetas, pantalones y zapatos. Quieres analizar las ventas para entender mejor el rendimiento de cada producto.\n",
        "\n",
        "<b>Objetivo:</b>\n",
        "\n",
        "- Crea tres listas: una para camisetas, otra para pantalones y una para zapatos, con la cantidad vendida cada día durante una semana.\n",
        "- Usa slicing para extraer las ventas de los últimos 3 días de cada producto.\n",
        "- Usa listas por comprensión para calcular el total de ventas de cada producto y el promedio de ventas diarias.\n",
        "\n",
        "- Clasifica los productos en \"buenas ventas\" o \"malas ventas\" según si el promedio de ventas diarias es mayor o menor a 5.\n",
        "\n",
        "Instrucciones:\n",
        "- Genera los datos de ventas usando listas manualmente o simulándolos con valores constantes.\n",
        "- Calcula el total de ventas por producto usando sum() y el promedio con len().\n",
        "- Usa listas por comprensión para clasificar las ventas de los productos."
      ],
      "metadata": {
        "id": "mQkPuK6ymKTk"
      }
    },
    {
      "cell_type": "code",
      "source": [
        "lista_camisetas = [10, 15, 30, 35, 10, 44, 70]\n",
        "lista_pantalones = [20, 15, 33, 19, 46, 49, 60]\n",
        "lista_zapatos = [7, 10, 15, 20, 25, 30, 40]\n",
        "ventas_camisetas = lista_camisetas[-3:]\n",
        "ventas_pantalones = lista_pantalones[-3:]\n",
        "ventas_zapatos = lista_zapatos[-3:]\n",
        "#Creamos una listas que englobe las demas listas\n",
        "lista_ventas_totales = [lista_camisetas, lista_pantalones, lista_zapatos]\n",
        "#utilizaremos listas de comprension para guardar los resultados de la suma de las listas.\n",
        "total_ventas = [sum(x) for x in lista_ventas_totales]\n",
        "promedio_diario_ventas = [round(sum(x) / len(x), 2) for x in lista_ventas_totales]\n",
        "clasificacion_ventas = [\"Buenas ventas\" if x >= 5 else \"malas ventas\"for x in promedio_diario_ventas]\n",
        "\n",
        "print(ventas_camisetas)\n",
        "print(ventas_pantalones)\n",
        "print(ventas_zapatos)\n",
        "print(total_ventas)\n",
        "print(promedio_diario_ventas)\n",
        "print(clasificacion_ventas)"
      ],
      "metadata": {
        "id": "PJDTuHeD2LPO",
        "outputId": "7a04f833-e280-4dc6-bc5b-96e70c5a5d81",
        "colab": {
          "base_uri": "https://localhost:8080/"
        }
      },
      "execution_count": null,
      "outputs": [
        {
          "output_type": "stream",
          "name": "stdout",
          "text": [
            "[10, 44, 70]\n",
            "[46, 49, 60]\n",
            "[25, 30, 40]\n",
            "[214, 242, 147]\n",
            "[30.57, 34.57, 21.0]\n",
            "['Buenas ventas', 'Buenas ventas', 'Buenas ventas']\n"
          ]
        }
      ]
    },
    {
      "cell_type": "markdown",
      "source": [
        "---\n",
        "\n",
        "# Gracias por completar este laboratorio!\n",
        "\n",
        "---"
      ],
      "metadata": {
        "id": "_G9dWzTgp6-m"
      }
    }
  ]
}