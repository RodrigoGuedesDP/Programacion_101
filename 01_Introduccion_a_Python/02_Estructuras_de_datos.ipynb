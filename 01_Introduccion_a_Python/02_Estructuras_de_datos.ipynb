{
  "nbformat": 4,
  "nbformat_minor": 0,
  "metadata": {
    "colab": {
      "provenance": [],
      "include_colab_link": true
    },
    "kernelspec": {
      "name": "python3",
      "display_name": "Python 3"
    },
    "language_info": {
      "name": "python"
    }
  },
  "cells": [
    {
      "cell_type": "markdown",
      "metadata": {
        "id": "view-in-github",
        "colab_type": "text"
      },
      "source": [
        "<a href=\"https://colab.research.google.com/github/RodrigoGuedesDP/Programacion_101/blob/main/01_Introduccion_a_Python/02_Estructuras_de_datos.ipynb\" target=\"_parent\"><img src=\"https://colab.research.google.com/assets/colab-badge.svg\" alt=\"Open In Colab\"/></a>"
      ]
    },
    {
      "cell_type": "markdown",
      "source": [
        "<img src=\"https://www.ctic.uni.edu.pe/wp-content/uploads/2022/04/588px-x-348px-web-1.png\" alt=\"HTML5 Icon\" width=\"900\" height=\"350\" >\n"
      ],
      "metadata": {
        "id": "a2Ojkh4ciEiA"
      }
    },
    {
      "cell_type": "markdown",
      "source": [
        "<h1 align=center><font size = 5>ESTRUCTURAS DE DATOS - PARTE 1\n",
        "</font></h1>\n",
        "\n",
        "---"
      ],
      "metadata": {
        "id": "-amNk-kqiHO2"
      }
    },
    {
      "cell_type": "markdown",
      "source": [
        "## Tabla de Contenidos\n",
        "\n",
        "<div class=\"alert alert-block alert-info\" style=\"margin-top: 20px\">\n",
        "\n",
        "<font size = 3>\n",
        "    \n",
        "1. <a href=\"#item31\">Listas</a>  \n",
        "2. <a href=\"#item31\">Tuplas</a>  \n",
        "3. <a href=\"#item31\">Slicing</a>  \n",
        "4. <a href=\"#item31\">List comprehension</a>  \n",
        "</font>\n",
        "</div>\n",
        "\n",
        "---\n",
        "\n",
        "\n",
        "\n"
      ],
      "metadata": {
        "id": "qJ6hLRHNiQCG"
      }
    },
    {
      "cell_type": "markdown",
      "source": [
        "## <b>Objetivo:</b>\n",
        "\n",
        "Este laboratorio está diseñado para cubrir los conceptos de listas, tuplas, slicing, y listas por comprensión, con ejercicios detallados para practicar la manipulación de estos tipos de datos en Python.\n",
        "\n",
        "---"
      ],
      "metadata": {
        "id": "1XCUOST_igWZ"
      }
    },
    {
      "cell_type": "markdown",
      "source": [
        "## <b>1. Trabajando con Listas numéricas</b>\n",
        "\n",
        "Las listas son una secuencia de elementos que pueden ser modificados después de su creación. Vamos a realizar varias operaciones con listas numéricas, utilizando también la función range() para generar secuencias de números.\n",
        "\n"
      ],
      "metadata": {
        "id": "MWslSPQKjLYb"
      }
    },
    {
      "cell_type": "markdown",
      "source": [
        "### Ejemplo 1.1: Creación de listas\n"
      ],
      "metadata": {
        "id": "WVuNuyWsjXsU"
      }
    },
    {
      "cell_type": "code",
      "source": [
        "my_list = ['logistic regresion', 'XGBoost', 'SVM', 'KNN', 2, None]\n",
        "print(my_list)\n"
      ],
      "metadata": {
        "colab": {
          "base_uri": "https://localhost:8080/"
        },
        "id": "H-TjjUxf12S_",
        "outputId": "95a5775d-403d-4af8-c69c-c19ab34229cc"
      },
      "execution_count": null,
      "outputs": [
        {
          "output_type": "stream",
          "name": "stdout",
          "text": [
            "['logistic regresion', 'XGBoost', 'SVM', 'KNN', 2]\n"
          ]
        }
      ]
    },
    {
      "cell_type": "code",
      "source": [
        "# Crear una lista de frutas\n",
        "frutas = [\"manzana\", \"banana\", \"naranja\", \"uva\", \"pera\"]\n"
      ],
      "metadata": {
        "id": "_nYyKe_bjHY5"
      },
      "execution_count": null,
      "outputs": []
    },
    {
      "cell_type": "code",
      "execution_count": null,
      "metadata": {
        "id": "MNGFUaC6hyfi"
      },
      "outputs": [],
      "source": [
        "\n",
        "# Acceder a elementos individuales\n",
        "primera_fruta = frutas[0]\n",
        "ultima_fruta = frutas[-1]\n",
        "print(primera_fruta, ultima_fruta)\n",
        "\n"
      ]
    },
    {
      "cell_type": "code",
      "source": [
        "funel = ['a', 'b', 'c', 'SVM', ['Reg KNN', 'Class KNN'], 'Decision Tree', \"Random Forest\"]\n",
        "funel[4]\n",
        "funel[4][1]\n",
        "funel[-3][1]\n",
        "funel[-3][-1]\n"
      ],
      "metadata": {
        "colab": {
          "base_uri": "https://localhost:8080/",
          "height": 35
        },
        "id": "kxeEKKI_6-eg",
        "outputId": "5d665fd8-5008-4719-981c-80979270ea19"
      },
      "execution_count": null,
      "outputs": [
        {
          "output_type": "execute_result",
          "data": {
            "text/plain": [
              "'Class KNN'"
            ],
            "application/vnd.google.colaboratory.intrinsic+json": {
              "type": "string"
            }
          },
          "metadata": {},
          "execution_count": 12
        }
      ]
    },
    {
      "cell_type": "code",
      "source": [
        "funel[1] = 'Gradient Boosting'\n",
        "print(funel)\n",
        "funel[4][0]= ''\n",
        "print(funel)\n",
        "funel[-1]= None\n",
        "funel"
      ],
      "metadata": {
        "colab": {
          "base_uri": "https://localhost:8080/"
        },
        "id": "_dApxpvD8U1l",
        "outputId": "24d00958-0729-4011-c0c4-f4c7236616b8"
      },
      "execution_count": null,
      "outputs": [
        {
          "output_type": "stream",
          "name": "stdout",
          "text": [
            "['a', 'Gradient Boosting', 'c', 'SVM', ['', ''], 'Decision Tree', 'Random Forest']\n",
            "['a', 'Gradient Boosting', 'c', 'SVM', ['', ''], 'Decision Tree', 'Random Forest']\n"
          ]
        },
        {
          "output_type": "execute_result",
          "data": {
            "text/plain": [
              "['a', 'Gradient Boosting', 'c', 'SVM', ['', ''], 'Decision Tree', None]"
            ]
          },
          "metadata": {},
          "execution_count": 18
        }
      ]
    },
    {
      "cell_type": "code",
      "source": [
        "# Modificar un elemento\n",
        "frutas[1] = \"plátano\"\n",
        "print(frutas)"
      ],
      "metadata": {
        "id": "hbnOS3lsjdWc"
      },
      "execution_count": null,
      "outputs": []
    },
    {
      "cell_type": "markdown",
      "source": [
        "### Ejemplo 1.2: Métodos útiles de listas\n",
        "\n"
      ],
      "metadata": {
        "id": "oa1fRACgjlV_"
      }
    },
    {
      "cell_type": "code",
      "source": [
        "algoritmo = ['logistic regression', 'XGBoost', 'SVM', 'KNN']\n",
        "algoritmo.append('Decision Tree')\n",
        "algoritmo.append('Random Forest')\n",
        "print(algoritmo)\n",
        "algoritmo.append(['a', 'b'])\n",
        "#en este caso he agregado una lista no 2 elementos.\n",
        "#append modifica la lista, no da un retorno"
      ],
      "metadata": {
        "colab": {
          "base_uri": "https://localhost:8080/"
        },
        "id": "mEdwenu59xkr",
        "outputId": "8fc2e7e8-90af-4414-da81-60d654cf64ca"
      },
      "execution_count": null,
      "outputs": [
        {
          "output_type": "stream",
          "name": "stdout",
          "text": [
            "['logistic regression', 'XGBoost', 'SVM', 'KNN', 'Decision Tree', 'Random Forest']\n"
          ]
        }
      ]
    },
    {
      "cell_type": "code",
      "source": [
        "#Se puede sumar listas. Funciona como el append donde se suma al final segun el orden que se pone.\n",
        "algoritmo2 = ['logistic regression', 'XGBoost', 'SVM', 'KNN']\n",
        "algoritmo2 + ['Decision Tree', 'Random Forest']\n",
        "algoritmo2 += ['J', 'M']\n",
        "print(algoritmo2)"
      ],
      "metadata": {
        "colab": {
          "base_uri": "https://localhost:8080/"
        },
        "id": "XIhGMonl-4N8",
        "outputId": "3bf0a18d-ebbf-4748-9880-f5d96bd5609b"
      },
      "execution_count": null,
      "outputs": [
        {
          "output_type": "stream",
          "name": "stdout",
          "text": [
            "['logistic regression', 'XGBoost', 'SVM', 'KNN', 'J', 'M']\n"
          ]
        }
      ]
    },
    {
      "cell_type": "code",
      "source": [
        "# Agregar un elemento al final\n",
        "frutas.append(\"kiwi\")\n",
        "print(frutas)\n"
      ],
      "metadata": {
        "id": "yrlpPiGWjol1"
      },
      "execution_count": null,
      "outputs": []
    },
    {
      "cell_type": "code",
      "source": [
        "frutas = [\"manzana\", \"banana\", \"naranja\", \"uva\", \"pera\"]\n",
        "# Insertar un elemento en una posición específica\n",
        "frutas.insert(2, \"mango\")\n",
        "print(frutas)\n",
        "algoritmo2.insert(2, \"Greedy algorithm\")\n",
        "print(algoritmo2)\n"
      ],
      "metadata": {
        "id": "wx9q6KbWnZ56",
        "colab": {
          "base_uri": "https://localhost:8080/"
        },
        "outputId": "e68b1f86-ed48-424d-847f-b6288ae85315"
      },
      "execution_count": null,
      "outputs": [
        {
          "output_type": "stream",
          "name": "stdout",
          "text": [
            "['manzana', 'banana', 'mango', 'naranja', 'uva', 'pera']\n",
            "['logistic regression', 'XGBoost', 'Greedy algorithm', 'SVM', 'KNN', 'J', 'M']\n"
          ]
        }
      ]
    },
    {
      "cell_type": "code",
      "source": [
        "# Eliminar un elemento\n",
        "frutas.remove(\"banana\")\n",
        "print(frutas)\n",
        "#Solo elimina la primera coincidencia que encuentra, solo 1 elemento\n"
      ],
      "metadata": {
        "id": "XVXLcedpna3G",
        "colab": {
          "base_uri": "https://localhost:8080/"
        },
        "outputId": "fa0aeee6-4f74-4272-b0f8-c7f7a06c23d2"
      },
      "execution_count": null,
      "outputs": [
        {
          "output_type": "stream",
          "name": "stdout",
          "text": [
            "['manzana', 'mango', 'uva', 'pera']\n"
          ]
        }
      ]
    },
    {
      "cell_type": "code",
      "source": [
        "# Ordenar una lista de menor a mayor.\n",
        "frutas.sort()\n",
        "print(frutas)\n"
      ],
      "metadata": {
        "id": "v0vdv2Wknb4y",
        "colab": {
          "base_uri": "https://localhost:8080/"
        },
        "outputId": "08c53d21-02c2-495d-e6e3-60aa89bdca64"
      },
      "execution_count": null,
      "outputs": [
        {
          "output_type": "stream",
          "name": "stdout",
          "text": [
            "['mango', 'manzana', 'pera', 'uva']\n"
          ]
        }
      ]
    },
    {
      "cell_type": "code",
      "source": [
        "my_num = [3 , 5, 7, 2, 10, 64]\n",
        "my_num.sort()\n",
        "print(my_num)"
      ],
      "metadata": {
        "colab": {
          "base_uri": "https://localhost:8080/"
        },
        "id": "IQoiBehnCFvI",
        "outputId": "80f62094-24b6-4fea-eddd-d3411e286aad"
      },
      "execution_count": null,
      "outputs": [
        {
          "output_type": "stream",
          "name": "stdout",
          "text": [
            "[2, 3, 5, 7, 10, 64]\n"
          ]
        }
      ]
    },
    {
      "cell_type": "code",
      "source": [
        "my_num\n",
        "#La sentencia no se queda in place.\n",
        "#se puede crear otra variable y usar sorted. Sort modifica la lista pero sorted no.\n",
        "nuevalista = sorted(my_num)\n",
        "print(nuevalista)\n"
      ],
      "metadata": {
        "colab": {
          "base_uri": "https://localhost:8080/"
        },
        "id": "fVl8EU-QEXtz",
        "outputId": "ba090d4a-a921-41fe-d7c2-e344395d64d8"
      },
      "execution_count": null,
      "outputs": [
        {
          "output_type": "stream",
          "name": "stdout",
          "text": [
            "[2, 3, 5, 7, 10, 64]\n"
          ]
        }
      ]
    },
    {
      "cell_type": "code",
      "source": [
        "# Ordenar en reversa\n",
        "frutas.sort(reverse=True)\n",
        "print(frutas)\n",
        "# si pusiera reverse=False es lo mismo que no poner nada.\n",
        "my_num.sort(reverse=True)\n",
        "print(my_num)"
      ],
      "metadata": {
        "id": "Z6ermqmGncXu",
        "colab": {
          "base_uri": "https://localhost:8080/"
        },
        "outputId": "3c1da516-7c85-49ab-cc7c-6c8d8dc34800"
      },
      "execution_count": null,
      "outputs": [
        {
          "output_type": "stream",
          "name": "stdout",
          "text": [
            "['uva', 'pera', 'manzana', 'mango']\n",
            "[64, 10, 7, 5, 3, 2]\n"
          ]
        }
      ]
    },
    {
      "cell_type": "code",
      "source": [
        "votes = []\n"
      ],
      "metadata": {
        "id": "GS70M7LEFsp4"
      },
      "execution_count": null,
      "outputs": []
    },
    {
      "cell_type": "code",
      "source": [
        "var = input('dime tu voto: ')\n",
        "votes.append(var)\n",
        "print(f'actual votes: {votes} ')"
      ],
      "metadata": {
        "colab": {
          "base_uri": "https://localhost:8080/"
        },
        "id": "WdJL_v0pGVTW",
        "outputId": "60de8561-0a77-406a-baef-a0e8203f6d68"
      },
      "execution_count": null,
      "outputs": [
        {
          "output_type": "stream",
          "name": "stdout",
          "text": [
            "dime tu voto: KEIKO\n",
            "actual votes: ['PPK', 'KEIKO'] \n"
          ]
        }
      ]
    },
    {
      "cell_type": "markdown",
      "source": [
        "### Ejemplo 1.3: Operaciones numéricas con listas\n",
        "\n"
      ],
      "metadata": {
        "id": "zxB2ys0rm21v"
      }
    },
    {
      "cell_type": "code",
      "source": [
        "digits = [1, 2, 3, 4, 5, 6, 7, 8, 9, 0]\n",
        "\n",
        "print(\"Mínimo:\", min(digits))\n",
        "print(\"Máximo:\", max(digits))\n",
        "print(\"Suma:\", sum(digits))\n",
        "\n",
        "\n",
        "numeros = [1, 2, 3, 4, 5, 6, 7, 8, 9, 10]\n",
        "\n",
        "# Mínimo, máximo y suma\n",
        "print(\"Mínimo:\", min(numeros))\n",
        "print(\"Máximo:\", max(numeros))\n",
        "print(\"Suma total:\", sum(numeros))\n",
        "\n",
        "# Longitud de la lista\n",
        "print(\"Cantidad de elementos:\", len(numeros))\n",
        "\n",
        "# Promedio de los valores en la lista\n",
        "promedio = sum(numeros) / len(numeros)\n",
        "print(\"Promedio:\", promedio)\n"
      ],
      "metadata": {
        "id": "kSOIel4Wm8D2",
        "colab": {
          "base_uri": "https://localhost:8080/"
        },
        "outputId": "d5090f38-c893-4022-a7c4-736d5e814255"
      },
      "execution_count": null,
      "outputs": [
        {
          "output_type": "stream",
          "name": "stdout",
          "text": [
            "Mínimo: 0\n",
            "Máximo: 9\n",
            "Suma: 45\n",
            "Mínimo: 1\n",
            "Máximo: 10\n",
            "Suma total: 55\n",
            "Cantidad de elementos: 10\n",
            "Promedio: 5.5\n"
          ]
        }
      ]
    },
    {
      "cell_type": "markdown",
      "source": [
        "## 1.2: Uso de la función range()\n"
      ],
      "metadata": {
        "id": "x_ULJgErpMDb"
      }
    },
    {
      "cell_type": "markdown",
      "source": [
        "La función range() se utiliza para generar secuencias de números, y es especialmente útil cuando se quiere evitar la creación manual de listas largas de números consecutivos."
      ],
      "metadata": {
        "id": "2gHPgAIxpskX"
      }
    },
    {
      "cell_type": "markdown",
      "source": [
        "### Ejemplo 1.4: Creación de listas con range()\n"
      ],
      "metadata": {
        "id": "zgXTDTTIpvwz"
      }
    },
    {
      "cell_type": "code",
      "source": [
        "range(1, 11)\n",
        "#para python, esto es lo mismo que elementos del 1 al 10. No considera el ultimo elemento. Se puede pensar como el ultimo elemento que quiero + 1\n",
        "#range es un tipo de dato para python, no es una lista.\n",
        "type(range(1, 11))\n"
      ],
      "metadata": {
        "id": "iArdz4f7L76L",
        "outputId": "29f0fae3-56f0-40ed-cc70-b0c8cfe18b2c",
        "colab": {
          "base_uri": "https://localhost:8080/"
        }
      },
      "execution_count": 2,
      "outputs": [
        {
          "output_type": "execute_result",
          "data": {
            "text/plain": [
              "range"
            ]
          },
          "metadata": {},
          "execution_count": 2
        }
      ]
    },
    {
      "cell_type": "code",
      "source": [
        "list()\n",
        "#esto puede generar un tipo de dato como range a una lista"
      ],
      "metadata": {
        "id": "NpXEWCmvMru5"
      },
      "execution_count": null,
      "outputs": []
    },
    {
      "cell_type": "code",
      "source": [
        "my_list = list(range(1, 21))\n",
        "print(my_list)"
      ],
      "metadata": {
        "id": "H0NExrR6M7UH",
        "outputId": "a41c14a7-dcce-4d31-c56a-0fadfd69291b",
        "colab": {
          "base_uri": "https://localhost:8080/"
        }
      },
      "execution_count": 4,
      "outputs": [
        {
          "output_type": "stream",
          "name": "stdout",
          "text": [
            "[1, 2, 3, 4, 5, 6, 7, 8, 9, 10, 11, 12, 13, 14, 15, 16, 17, 18, 19, 20]\n"
          ]
        }
      ]
    },
    {
      "cell_type": "code",
      "source": [
        "# Crear una lista con los números del 1 al 10\n",
        "lista_numeros = list(range(1, 11))\n",
        "print(\"Números del 1 al 10:\", lista_numeros)\n"
      ],
      "metadata": {
        "id": "oSjCMXolp0_a"
      },
      "execution_count": null,
      "outputs": []
    },
    {
      "cell_type": "code",
      "source": [
        "# Crear una lista con los números pares entre 2 y 20\n",
        "pares = list(range(2, 21, 2))\n",
        "print(\"Números pares del 2 al 20:\", pares)\n"
      ],
      "metadata": {
        "id": "irHM5QenptAD",
        "outputId": "0f9b1897-e24d-4394-f2bc-fb7c134c0f19",
        "colab": {
          "base_uri": "https://localhost:8080/"
        }
      },
      "execution_count": 5,
      "outputs": [
        {
          "output_type": "stream",
          "name": "stdout",
          "text": [
            "Números pares del 2 al 20: [2, 4, 6, 8, 10, 12, 14, 16, 18, 20]\n"
          ]
        }
      ]
    },
    {
      "cell_type": "code",
      "source": [
        "multiplos = list(range(0,1701, 23))\n",
        "numero = len(multiplos) - 1\n",
        "print(f'El resultado es {numero}')"
      ],
      "metadata": {
        "id": "zWm6WEYnNmV5",
        "outputId": "cec3e53e-0231-4587-cf65-cd762b1f7bd7",
        "colab": {
          "base_uri": "https://localhost:8080/"
        }
      },
      "execution_count": 11,
      "outputs": [
        {
          "output_type": "stream",
          "name": "stdout",
          "text": [
            "El resultado es 73\n"
          ]
        }
      ]
    },
    {
      "cell_type": "code",
      "source": [
        "# Crear una lista de números en orden inverso (del 10 al 1)\n",
        "reversa = list(range(10, 0, -2))\n",
        "print(\"Números en orden inverso:\", reversa)\n",
        "# el -1 hace que enves de aumentar disminuya\n"
      ],
      "metadata": {
        "id": "SFRs3Qv1p56E",
        "outputId": "a12af8cb-b645-4310-9c58-7792f36bcd04",
        "colab": {
          "base_uri": "https://localhost:8080/"
        }
      },
      "execution_count": 13,
      "outputs": [
        {
          "output_type": "stream",
          "name": "stdout",
          "text": [
            "Números en orden inverso: [10, 8, 6, 4, 2]\n"
          ]
        }
      ]
    },
    {
      "cell_type": "code",
      "source": [
        "# Crear una lista de múltiplos de 5 entre 0 y 50\n",
        "multiplos_de_5 = list(range(0, 51, 5))\n",
        "print(\"Múltiplos de 5 entre 0 y 50:\", multiplos_de_5)\n"
      ],
      "metadata": {
        "id": "u9dMaOU8p6UX"
      },
      "execution_count": null,
      "outputs": []
    },
    {
      "cell_type": "markdown",
      "source": [
        "### Ejercicio 1.1: Operaciones numéricas con listas\n",
        "\n",
        "- Crea una lista de números entre 1 y 100 usando la función range() (verás cómo usarla en el próximo ejemplo).\n",
        "\n",
        "- Calcula la media de los valores de la lista usando las funciones sum() y len().\n",
        "\n",
        "- Usa sorted() para crear una lista ordenada inversamente de los primeros 50 números.\n",
        "\n",
        "- Crea una lista que contenga solo los números mayores a 50, multiplicados por 2."
      ],
      "metadata": {
        "id": "H0ED3Dkxm8cd"
      }
    },
    {
      "cell_type": "code",
      "source": [
        "milista = list(range(1, 101))\n",
        "media = sum(milista)/ len(milista)\n",
        "lista = list(range(1, 51))\n",
        "lista_ordenada = sorted(lista, reverse = True)\n",
        "\n",
        "print(milista)\n",
        "print(media)\n",
        "print(lista_ordenada)\n",
        "\n",
        "\n",
        "\n"
      ],
      "metadata": {
        "id": "8Yot9kIypKuw",
        "outputId": "8a7d3161-f8db-4383-e2bd-fa6dcfb7e6a4",
        "colab": {
          "base_uri": "https://localhost:8080/"
        }
      },
      "execution_count": 17,
      "outputs": [
        {
          "output_type": "stream",
          "name": "stdout",
          "text": [
            "[1, 2, 3, 4, 5, 6, 7, 8, 9, 10, 11, 12, 13, 14, 15, 16, 17, 18, 19, 20, 21, 22, 23, 24, 25, 26, 27, 28, 29, 30, 31, 32, 33, 34, 35, 36, 37, 38, 39, 40, 41, 42, 43, 44, 45, 46, 47, 48, 49, 50, 51, 52, 53, 54, 55, 56, 57, 58, 59, 60, 61, 62, 63, 64, 65, 66, 67, 68, 69, 70, 71, 72, 73, 74, 75, 76, 77, 78, 79, 80, 81, 82, 83, 84, 85, 86, 87, 88, 89, 90, 91, 92, 93, 94, 95, 96, 97, 98, 99, 100]\n",
            "50.5\n",
            "[50, 49, 48, 47, 46, 45, 44, 43, 42, 41, 40, 39, 38, 37, 36, 35, 34, 33, 32, 31, 30, 29, 28, 27, 26, 25, 24, 23, 22, 21, 20, 19, 18, 17, 16, 15, 14, 13, 12, 11, 10, 9, 8, 7, 6, 5, 4, 3, 2, 1]\n"
          ]
        }
      ]
    },
    {
      "cell_type": "markdown",
      "source": [
        "## <b>2. Listas por Comprensión</b>\n",
        "\n",
        "Las listas por comprensión son una forma concisa de crear listas nuevas a partir de una expresión. Se pueden utilizar para realizar operaciones sobre secuencias de forma más rápida y sin necesidad de ciclos explícitos.\n",
        "\n"
      ],
      "metadata": {
        "id": "8q_I9AOBjpH7"
      }
    },
    {
      "cell_type": "markdown",
      "source": [
        "### Ejemplo 2.1: Generación de listas por comprensión\n"
      ],
      "metadata": {
        "id": "o3SzxNcajzk4"
      }
    },
    {
      "cell_type": "code",
      "source": [
        "[x for x in range(1, 1001) if x%23 == 0]"
      ],
      "metadata": {
        "id": "inDoa0dzSTUN"
      },
      "execution_count": null,
      "outputs": []
    },
    {
      "cell_type": "code",
      "source": [
        "# Crear una lista de cuadrados de los números del 1 al 10\n",
        "cuadrados = [x**2 for x in range(1, 11)]\n",
        "print(cuadrados)\n",
        "\n"
      ],
      "metadata": {
        "id": "Uu2JI0Ycj7DM"
      },
      "execution_count": null,
      "outputs": []
    },
    {
      "cell_type": "code",
      "source": [
        "# Crear una lista de números pares entre 1 y 20\n",
        "pares = [x for x in range(1, 21) if x % 2 == 0]\n",
        "print(pares)\n"
      ],
      "metadata": {
        "id": "j8UcjDF7j9JX"
      },
      "execution_count": null,
      "outputs": []
    },
    {
      "cell_type": "markdown",
      "source": [
        "### Ejemplo 2.2: Listas por comprensión con manipulación de cadenas\n",
        "\n"
      ],
      "metadata": {
        "id": "v9o0-F4FkBRa"
      }
    },
    {
      "cell_type": "code",
      "source": [
        "# Crear una lista con las primeras letras en mayúsculas de una lista de nombres\n",
        "\n",
        "nombres = [\"juan\", \"pedro\", \"ana\", \"maria\"]\n",
        "nombres_mayuscula = [nombre.capitalize() for nombre in nombres]\n",
        "print(nombres_mayuscula)\n"
      ],
      "metadata": {
        "id": "V3ZGMDOKkY29",
        "outputId": "3aa798fb-869b-4169-f373-61593c1e4c22",
        "colab": {
          "base_uri": "https://localhost:8080/"
        }
      },
      "execution_count": 26,
      "outputs": [
        {
          "output_type": "stream",
          "name": "stdout",
          "text": [
            "['Juan', 'Pedro', 'Ana', 'Maria']\n"
          ]
        }
      ]
    },
    {
      "cell_type": "markdown",
      "source": [
        "### Ejercicio 2: Creación avanzada con listas por comprensión\n",
        "\n",
        "- Crea una lista de los números impares entre 1 y 50.\n",
        "- Genera una lista con los cubos de los primeros 10 números (1 al 10).\n",
        "- Dada una lista de palabras, crea una nueva lista que contenga las palabras con más de 4 letras en mayúsculas.\n"
      ],
      "metadata": {
        "id": "ONAVddiUkk0I"
      }
    },
    {
      "cell_type": "code",
      "source": [
        "lista = [x**3 for x in range(1, 11)]"
      ],
      "metadata": {
        "id": "4Zga6zMVYGoa"
      },
      "execution_count": null,
      "outputs": []
    },
    {
      "cell_type": "code",
      "source": [
        "\n",
        "numeros_impares = [x for x in range(1, 51) if x % 2 != 0]\n",
        "\n",
        "lista_cubos_10_primeros = [x**3 for x in range(1, 11)]\n",
        "\n",
        "algoritmo = ['logistic regression', 'XGBoost', 'SVM', 'KNN']\n",
        "\n",
        "nueva_lista = [x.upper() for x in algoritmo if len(x) > 4]\n",
        "\n",
        "print(\"Números impares entre 1 y 50:\", numeros_impares)\n",
        "print(\"Cubos de los primeros 10 números:\", lista_cubos_10_primeros)\n",
        "print(\"Palabras con más de 4 letras en mayúsculas:\", nueva_lista )"
      ],
      "metadata": {
        "id": "jfyhX8FmksPF",
        "outputId": "54dcd2d0-3437-4927-9cc6-362ed953d76d",
        "colab": {
          "base_uri": "https://localhost:8080/"
        }
      },
      "execution_count": 31,
      "outputs": [
        {
          "output_type": "stream",
          "name": "stdout",
          "text": [
            "Números impares entre 1 y 50: [1, 3, 5, 7, 9, 11, 13, 15, 17, 19, 21, 23, 25, 27, 29, 31, 33, 35, 37, 39, 41, 43, 45, 47, 49]\n",
            "Cubos de los primeros 10 números: [1, 8, 27, 64, 125, 216, 343, 512, 729, 1000]\n",
            "Palabras con más de 4 letras en mayúsculas: ['LOGISTIC REGRESSION', 'XGBOOST']\n"
          ]
        }
      ]
    },
    {
      "cell_type": "markdown",
      "source": [
        "## <b>3. Trabajando con Slicing</b>\n"
      ],
      "metadata": {
        "id": "8Pw1lVQAk_1c"
      }
    },
    {
      "cell_type": "markdown",
      "source": [
        "El slicing es una técnica que te permite extraer sublistas de listas existentes, seleccionando elementos de una lista mediante índices."
      ],
      "metadata": {
        "id": "E4pOl2C8lKzF"
      }
    },
    {
      "cell_type": "markdown",
      "source": [
        "### Ejemplo 3.1: Slicing de listas\n"
      ],
      "metadata": {
        "id": "NhyOyyLtnaLV"
      }
    },
    {
      "cell_type": "code",
      "source": [
        "# Crear una lista de letras\n",
        "letras = ['a', 'b', 'c', 'd', 'e', 'f', 'g', 'h']\n",
        "\n"
      ],
      "metadata": {
        "id": "YZkf5aLHmhde"
      },
      "execution_count": null,
      "outputs": []
    },
    {
      "cell_type": "code",
      "source": [
        "# Extraer una subsección de la lista\n",
        "primeras_tres = letras[:3]  # Primeros 3 elementos\n",
        "print(primeras_tres)"
      ],
      "metadata": {
        "id": "qi5sJLuUmR0m"
      },
      "execution_count": null,
      "outputs": []
    },
    {
      "cell_type": "code",
      "source": [
        "desde_el_cuarto = letras[3:]  # Desde el cuarto hasta el final\n",
        "print(desde_el_cuarto)\n"
      ],
      "metadata": {
        "id": "8T_pNL9gmoT8"
      },
      "execution_count": null,
      "outputs": []
    },
    {
      "cell_type": "code",
      "source": [
        "ultimos_dos = letras[-2:]  # Los últimos dos elementos\n",
        "print(ultimos_dos)\n"
      ],
      "metadata": {
        "id": "hSQ9bC3Vmy96"
      },
      "execution_count": null,
      "outputs": []
    },
    {
      "cell_type": "markdown",
      "source": [
        "### Ejemplo 3.2: Slicing con pasos\n"
      ],
      "metadata": {
        "id": "QJzj1X6undzm"
      }
    },
    {
      "cell_type": "code",
      "source": [
        "# Crear una lista de números del 1 al 10\n",
        "numeros = list(range(1, 11))\n"
      ],
      "metadata": {
        "id": "9u0Sho8vno-g"
      },
      "execution_count": null,
      "outputs": []
    },
    {
      "cell_type": "code",
      "source": [
        "\n",
        "# Obtener todos los números en posiciones pares\n",
        "pares = numeros[1::2]  # Inicia en el segundo elemento y salta de 2 en 2\n",
        "print(pares)\n",
        "\n",
        "\n"
      ],
      "metadata": {
        "id": "EADKhXulntOP"
      },
      "execution_count": null,
      "outputs": []
    },
    {
      "cell_type": "code",
      "source": [
        "# Obtener cada tercer número\n",
        "tercios = numeros[::3]\n",
        "print(tercios)"
      ],
      "metadata": {
        "id": "lRCCtFKBnweq"
      },
      "execution_count": null,
      "outputs": []
    },
    {
      "cell_type": "markdown",
      "source": [
        "### Ejercicio 3: Aplicaciones de slicing\n",
        "\n",
        "Crea una lista con los números del 1 al 100. Luego, usando slicing:\n",
        "- Extrae los primeros 10 números.\n",
        "- Extrae los últimos 10 números.\n",
        "- Extrae todos los números en posiciones impares.\n",
        "- Usa slicing para dividir una lista de palabras en dos mitades."
      ],
      "metadata": {
        "id": "vp3MgC__lQyw"
      }
    },
    {
      "cell_type": "code",
      "source": [],
      "metadata": {
        "id": "8wxUXYwOlYNE"
      },
      "execution_count": null,
      "outputs": []
    },
    {
      "cell_type": "markdown",
      "source": [
        "## <b>4. Trabajando con Tuplas\n",
        "</b>"
      ],
      "metadata": {
        "id": "m2oeaICsrlMr"
      }
    },
    {
      "cell_type": "markdown",
      "source": [
        "Las tuplas son como listas, pero inmutables, lo que significa que no se pueden modificar después de su creación. Son útiles para almacenar datos que no deben cambiar."
      ],
      "metadata": {
        "id": "-m-yjEGmrpxH"
      }
    },
    {
      "cell_type": "markdown",
      "source": [
        "### Ejemplo 4.1: Crear y acceder a tuplas\n"
      ],
      "metadata": {
        "id": "iN8wV0F0rsJK"
      }
    },
    {
      "cell_type": "code",
      "source": [
        "# Crear una tupla\n",
        "coordenadas = (10.5, 20.3)\n",
        "\n",
        "# Acceder a los elementos de la tupla\n",
        "print(\"X:\", coordenadas[0])\n",
        "print(\"Y:\", coordenadas[1])\n"
      ],
      "metadata": {
        "id": "cBiHFdW_rqqi"
      },
      "execution_count": null,
      "outputs": []
    },
    {
      "cell_type": "markdown",
      "source": [
        "### Ejemplo 4.2: Intento de modificación de una tupla\n"
      ],
      "metadata": {
        "id": "YIMqOp-erw_K"
      }
    },
    {
      "cell_type": "code",
      "source": [
        "# Crear una tupla\n",
        "dimensiones = (200, 50)\n"
      ],
      "metadata": {
        "id": "4SMEGO6ZrzJj"
      },
      "execution_count": null,
      "outputs": []
    },
    {
      "cell_type": "code",
      "source": [
        "# Intentar modificar la tupla (esto generará un error)\n",
        "# dimensiones[0] = 250  # Descomenta esta línea para ver el error\n"
      ],
      "metadata": {
        "id": "0Zd9AM9Cr2ZN"
      },
      "execution_count": null,
      "outputs": []
    },
    {
      "cell_type": "code",
      "source": [
        "# Reasignar una nueva tupla\n",
        "dimensiones = (400, 100)\n",
        "print(\"Nuevas dimensiones:\", dimensiones)"
      ],
      "metadata": {
        "id": "lIv2eQcmr3aL"
      },
      "execution_count": null,
      "outputs": []
    },
    {
      "cell_type": "markdown",
      "source": [
        "### Ejercicio 4: Trabajando con tuplas\n",
        "- Crea una tupla que almacene las dimensiones de un objeto (ancho, alto).\n",
        "- Intenta modificar un elemento de la tupla y observa el error que genera.\n",
        "- Reescribe la tupla completa con nuevas dimensiones.\n"
      ],
      "metadata": {
        "id": "juG-GKwwr7hC"
      }
    },
    {
      "cell_type": "code",
      "source": [],
      "metadata": {
        "id": "flPWwLBRr-87"
      },
      "execution_count": null,
      "outputs": []
    },
    {
      "cell_type": "markdown",
      "source": [
        "## <b>5. Desafío</b>"
      ],
      "metadata": {
        "id": "K8ioDMpJl8zI"
      }
    },
    {
      "cell_type": "markdown",
      "source": [
        "### Desafío 1: Análisis de ventas de una tienda de ropa\n",
        "\n",
        "Eres el encargado de una tienda de ropa y tienes una lista de ventas diarias para diferentes productos. Cada día, vendes camisetas, pantalones y zapatos. Quieres analizar las ventas para entender mejor el rendimiento de cada producto.\n",
        "\n",
        "<b>Objetivo:</b>\n",
        "\n",
        "- Crea tres listas: una para camisetas, otra para pantalones y una para zapatos, con la cantidad vendida cada día durante una semana.\n",
        "- Usa slicing para extraer las ventas de los últimos 3 días de cada producto.\n",
        "- Usa listas por comprensión para calcular el total de ventas de cada producto y el promedio de ventas diarias.\n",
        "\n",
        "- Clasifica los productos en \"buenas ventas\" o \"malas ventas\" según si el promedio de ventas diarias es mayor o menor a 5.\n",
        "\n",
        "Instrucciones:\n",
        "- Genera los datos de ventas usando listas manualmente o simulándolos con valores constantes.\n",
        "- Calcula el total de ventas por producto usando sum() y el promedio con len().\n",
        "- Usa listas por comprensión para clasificar las ventas de los productos."
      ],
      "metadata": {
        "id": "mQkPuK6ymKTk"
      }
    },
    {
      "cell_type": "code",
      "source": [],
      "metadata": {
        "id": "43HiaKjEmmPg"
      },
      "execution_count": null,
      "outputs": []
    },
    {
      "cell_type": "markdown",
      "source": [
        "---\n",
        "\n",
        "# Gracias por completar este laboratorio!\n",
        "\n",
        "---"
      ],
      "metadata": {
        "id": "_G9dWzTgp6-m"
      }
    }
  ]
}