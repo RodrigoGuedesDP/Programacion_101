{
  "nbformat": 4,
  "nbformat_minor": 0,
  "metadata": {
    "colab": {
      "provenance": [],
      "authorship_tag": "ABX9TyMdHs0iMn23k9CJ49aCfOQ9",
      "include_colab_link": true
    },
    "kernelspec": {
      "name": "python3",
      "display_name": "Python 3"
    },
    "language_info": {
      "name": "python"
    }
  },
  "cells": [
    {
      "cell_type": "markdown",
      "metadata": {
        "id": "view-in-github",
        "colab_type": "text"
      },
      "source": [
        "<a href=\"https://colab.research.google.com/github/RodrigoGuedesDP/Programacion_101/blob/main/Examen2_Python.ipynb\" target=\"_parent\"><img src=\"https://colab.research.google.com/assets/colab-badge.svg\" alt=\"Open In Colab\"/></a>"
      ]
    },
    {
      "cell_type": "markdown",
      "source": [
        "## Escribe una función en Python llamada cifrar_texto que tome una cadena de texto y un número entero positivo n.\n",
        "La función debe devolver una nueva cadena donde cada carácter alfabético ha sido desplazado n posiciones\n",
        "adelante en el alfabeto. El cifrado debe ser cíclico; es decir, después de la 'z' sigue la 'a'. Mantén los caracteres\n",
        "no alfabéticos sin cambios y preserva las mayúsculas y minúsculas.\n",
        "Ejemplo:\n",
        "cifrar_texto(\"Hola, Mundo!\", 3) # Devuelve \"Krod, Pxqgr!\""
      ],
      "metadata": {
        "id": "VznAV9SgP4MR"
      }
    },
    {
      "cell_type": "code",
      "execution_count": null,
      "metadata": {
        "id": "zlz-EqTrPnEv"
      },
      "outputs": [],
      "source": []
    }
  ]
}