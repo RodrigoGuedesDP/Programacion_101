{
  "nbformat": 4,
  "nbformat_minor": 0,
  "metadata": {
    "colab": {
      "provenance": [],
      "authorship_tag": "ABX9TyO0xJrMZTgKGihofC3DUUlO",
      "include_colab_link": true
    },
    "kernelspec": {
      "name": "python3",
      "display_name": "Python 3"
    },
    "language_info": {
      "name": "python"
    }
  },
  "cells": [
    {
      "cell_type": "markdown",
      "metadata": {
        "id": "view-in-github",
        "colab_type": "text"
      },
      "source": [
        "<a href=\"https://colab.research.google.com/github/RodrigoGuedesDP/Programacion_101/blob/main/Examenes/examen2_python.ipynb\" target=\"_parent\"><img src=\"https://colab.research.google.com/assets/colab-badge.svg\" alt=\"Open In Colab\"/></a>"
      ]
    },
    {
      "cell_type": "markdown",
      "source": [
        "## Escribe una función en Python llamada cifrar_texto que tome una cadena de texto y un número entero positivo n.\n",
        "La función debe devolver una nueva cadena donde cada carácter alfabético ha sido desplazado n posiciones\n",
        "adelante en el alfabeto. El cifrado debe ser cíclico; es decir, después de la 'z' sigue la 'a'. Mantén los caracteres\n",
        "no alfabéticos sin cambios y preserva las mayúsculas y minúsculas.\n",
        "Ejemplo:\n",
        "cifrar_texto(\"Hola, Mundo!\", 3) # Devuelve \"Krod, Pxqgr!\""
      ],
      "metadata": {
        "id": "VznAV9SgP4MR"
      }
    },
    {
      "cell_type": "code",
      "execution_count": null,
      "metadata": {
        "id": "zlz-EqTrPnEv",
        "colab": {
          "base_uri": "https://localhost:8080/"
        },
        "outputId": "2d9d72ff-bb65-4171-bb03-eede08be9727"
      },
      "outputs": [
        {
          "output_type": "stream",
          "name": "stdout",
          "text": [
            "Krod, Pxqgr!\n"
          ]
        }
      ],
      "source": [
        "def cifrar_texto(texto, n):\n",
        "  #Crearemos 2 alfabetos para mayusculas y minusculas. No es lo ideal pero funciona!\n",
        "    alfabeto_mayusculas = \"ABCDEFGHIJKLMNOPQRSTUVWXYZ\"\n",
        "    alfabeto_minusculas = \"abcdefghijklmnopqrstuvwxyz\"\n",
        "    texto_cifrado = \"\"\n",
        "\n",
        "    for caracter in texto:\n",
        "        if caracter in alfabeto_mayusculas:\n",
        "            indice = alfabeto_mayusculas.index(caracter)\n",
        "            nuevo_indice = (indice + n) % 26\n",
        "            texto_cifrado += alfabeto_mayusculas[nuevo_indice]\n",
        "        elif caracter in alfabeto_minusculas:\n",
        "            indice = alfabeto_minusculas.index(caracter)\n",
        "            nuevo_indice = (indice + n) % 26\n",
        "            texto_cifrado += alfabeto_minusculas[nuevo_indice]\n",
        "        else:\n",
        "            texto_cifrado += caracter\n",
        "    return texto_cifrado\n",
        "\n",
        "resultado = cifrar_texto(\"Hola, Mundo!\", 3)\n",
        "#Vemos si devuelve lo mismo que el ejemplo\n",
        "print(resultado)\n",
        "# Si funciona!\n"
      ]
    },
    {
      "cell_type": "markdown",
      "source": [
        "## 2. Números Primos Gemelos (5 puntos)\n",
        "Escribe una función en Python que encuentre y devuelva todos los pares de números primos gemelos menores\n",
        "que un número entero positivo m dado. Los números primos gemelos son pares de números primos que difieren\n",
        "en 2 (por ejemplo, 3 y 5).\n",
        "Pista: Crea una función auxiliar para verificar si un número es primo, y utiliza un bucle para encontrar todos los\n",
        "primos hasta m.\n",
        "Ejemplo:\n",
        "primos_gemelos(15) # Devuelve [(3, 5), (5, 7), (11, 13)]"
      ],
      "metadata": {
        "id": "Hw8Pu6TqSnHo"
      }
    },
    {
      "cell_type": "code",
      "source": [
        "#La funcion para encontrar los numeros primos\n",
        "def generar_primos(numero):\n",
        "  lista_primos = []\n",
        "  for x in range(2, numero +1):\n",
        "    es_primo = True\n",
        "    for j in range(2,int(x**0.5)+1):\n",
        "      #Este rango da los primos y tiene la ventaja de menor carga computacional\n",
        "      if x%j == 0:\n",
        "        es_primo = False\n",
        "        break\n",
        "    if es_primo:\n",
        "      lista_primos.append(x)\n",
        "  print(lista_primos)\n",
        "  return(lista_primos)\n",
        "\n",
        "def numero_primos_gemelos(numero):\n",
        "  #Llamamos a la funcion anterior\n",
        "  lista_primos = generar_primos(numero)\n",
        "  lista_primos_gemelos = []\n",
        "  for x in range(len(lista_primos)-1):\n",
        "    if lista_primos[x+1] - lista_primos[x] == 2:\n",
        "      lista_primos_gemelos.append((lista_primos[x], lista_primos[x+1]))\n",
        "  return lista_primos_gemelos\n",
        "\n",
        "#Comprobamos si funciona con el ejemplo de 15:\n",
        "print(numero_primos_gemelos(15))\n",
        "\n",
        "\n"
      ],
      "metadata": {
        "colab": {
          "base_uri": "https://localhost:8080/"
        },
        "id": "xQ_-zehuSoGw",
        "outputId": "7e1013ad-286a-4adf-b970-0e0eba64531f"
      },
      "execution_count": null,
      "outputs": [
        {
          "output_type": "stream",
          "name": "stdout",
          "text": [
            "[2, 3, 5, 7, 11, 13]\n",
            "[(3, 5), (5, 7), (11, 13)]\n"
          ]
        }
      ]
    },
    {
      "cell_type": "markdown",
      "source": [
        "## 3. Triángulo de Pascal (4 puntos)\n",
        "Utilizando bucles, escribe una función en Python que genere el Triángulo de Pascal hasta una altura h dada e\n",
        "imprímelo en formato piramidal.\n",
        "Pista: Cada número en el triángulo es la suma de los dos números directamente encima de él. Puedes utilizar\n",
        "listas para almacenar las filas.\n"
      ],
      "metadata": {
        "id": "a2Y_xEilSO8_"
      }
    },
    {
      "cell_type": "code",
      "source": [
        "def triangulo_pascal(h):\n",
        "    # Utilizaremos esta lista donde se almacenara las filas del triangulo\n",
        "    triangulo = []\n",
        "    for i in range(h):\n",
        "        #Cada fila comienza con el número 1...\n",
        "        fila = [1]\n",
        "        #calculamos los valores intermedios utilizando un range: Los valores intermedios van a ser la suma de los valores encima de el de la fila anterior.\n",
        "        for j in range(1, i):\n",
        "          #Los ubicamos de la siguiente manera en el traingulo:\n",
        "            numero = triangulo[i - 1][j - 1] + triangulo[i - 1][j]\n",
        "            #El numero calculado lo anexadmos a la fila.\n",
        "            fila.append(numero)\n",
        "        if i > 0:\n",
        "            fila.append(1)\n",
        "        triangulo.append(fila)\n",
        "    for i in range(h):\n",
        "        print(\" \" * (h - i), end=\"\") #Ponemos end=\"\" para que el resultado se imprima junto y no salte de reglon.\n",
        "        for num in triangulo[i]:\n",
        "            print(num, end=\" \")\n",
        "        print()\n",
        "\n",
        "#Comprobamos si funciona\n",
        "triangulo_pascal(5)\n"
      ],
      "metadata": {
        "colab": {
          "base_uri": "https://localhost:8080/"
        },
        "id": "0yRQZhyNSQ4f",
        "outputId": "baf1ee92-21d9-4e77-d346-4fbca5c42888"
      },
      "execution_count": null,
      "outputs": [
        {
          "output_type": "stream",
          "name": "stdout",
          "text": [
            "     1 \n",
            "    1 1 \n",
            "   1 2 1 \n",
            "  1 3 3 1 \n",
            " 1 4 6 4 1 \n"
          ]
        }
      ]
    },
    {
      "cell_type": "markdown",
      "source": [
        "### 4. Análisis de Frecuencia de Palabras (4 puntos)\n",
        "Escribe una función llamada analizar_frecuencia que tome una cadena de texto que puede contener múltiples\n",
        "oraciones. La función debe devolver un diccionario donde las claves son las palabras y los valores son el\n",
        "número de veces que aparece cada palabra en el texto. Ignora la puntuación y considera las mayúsculas y\n",
        "minúsculas como la misma letra (es decir, trata \"Hola\" y \"hola\" como la misma palabra)."
      ],
      "metadata": {
        "id": "kYs5lfE7QP_j"
      }
    },
    {
      "cell_type": "code",
      "source": [
        "#texto = \"Hola mundo. Hola a todos en el mundo.\"\n",
        "#analizar_frecuencia(texto) # Devuelve {'hola': 2, 'mundo': 2, 'a': 1, 'todos': 1, 'en': 1, 'el': 1}\n",
        "\n",
        "def analizar_frecuencia(cadena):\n",
        "  diccionario_palabras = {}\n",
        "  cadena = cadena.lower()\n",
        "  listado_palabras = cadena.split()\n",
        "  for palabra in listado_palabras:\n",
        "    if palabra not in diccionario_palabras:\n",
        "      diccionario_palabras[palabra] = 1\n",
        "    else:\n",
        "      diccionario_palabras[palabra] += 1\n",
        "  print(diccionario_palabras)\n",
        "  return diccionario_palabras\n",
        "\n",
        "#Comprobamos si funciona\n",
        "cadena = \"Hola mundo. Hola a todos en el mundo.\"\n",
        "analizar_frecuencia(cadena)\n",
        "\n",
        "\n",
        "\n",
        "\n"
      ],
      "metadata": {
        "colab": {
          "base_uri": "https://localhost:8080/"
        },
        "id": "3g_-9Fq7QS3t",
        "outputId": "121b7d9c-8ad3-441a-a460-4ed2fdc6165a"
      },
      "execution_count": null,
      "outputs": [
        {
          "output_type": "stream",
          "name": "stdout",
          "text": [
            "{'hola': 2, 'mundo.': 2, 'a': 1, 'todos': 1, 'en': 1, 'el': 1}\n"
          ]
        },
        {
          "output_type": "execute_result",
          "data": {
            "text/plain": [
              "{'hola': 2, 'mundo.': 2, 'a': 1, 'todos': 1, 'en': 1, 'el': 1}"
            ]
          },
          "metadata": {},
          "execution_count": 6
        }
      ]
    },
    {
      "cell_type": "markdown",
      "source": [
        "## 5. Juego de Números Aleatorios (2 puntos)\n",
        "Crea un programa en Python que genere un número aleatorio entre 1 y 100. El usuario tiene que adivinar el\n",
        "número, y el programa debe darle pistas indicando \"más alto\" o \"más bajo\" después de cada intento. El juego\n",
        "termina cuando el usuario adivina el número o se queda sin intentos (máximo 10 intentos).\n",
        "Requisitos:\n",
        "● Utiliza un bucle para gestionar los intentos.\n",
        "● Después de cada intento fallido, indica al usuario cuántos intentos le quedan.\n",
        "● Al finalizar, muestra un mensaje apropiado indicando si ganó o cuál era el número correcto."
      ],
      "metadata": {
        "id": "UHnbWMxKWMxl"
      }
    },
    {
      "cell_type": "markdown",
      "source": [],
      "metadata": {
        "id": "Ekz3hkLrWMc1"
      }
    },
    {
      "cell_type": "code",
      "source": [
        "import random\n",
        "numero_secreto = random.randint(1, 100)\n",
        "intentos = 0\n",
        "while True and intentos <= 10:\n",
        "  try:\n",
        "    adivinanza = int(input(f\"Intento numero: {intentos} Adivina el número: \"))\n",
        "  except ValueError:\n",
        "    print(\"Debe ingresar un numero entero\")\n",
        "    continue\n",
        "  if adivinanza > numero_secreto:\n",
        "   print(\"El numero ingresado es mayor al numero secreto\")\n",
        "  elif adivinanza < numero_secreto:\n",
        "    print(\"El numero ingresado es menor al numero secreto\")\n",
        "  elif adivinanza == numero_secreto:\n",
        "   print(f\"Excelente! Ha adivinado el numero secreto en {intentos} intentos\")\n",
        "   break\n",
        "  intentos += 1\n"
      ],
      "metadata": {
        "colab": {
          "base_uri": "https://localhost:8080/",
          "height": 402
        },
        "id": "eL_D4YF6WOEJ",
        "outputId": "0864e444-e91c-459b-9d68-53eba2d6fecc"
      },
      "execution_count": null,
      "outputs": [
        {
          "name": "stdout",
          "output_type": "stream",
          "text": [
            "Intento numero: 0 Adivina el número: 50\n",
            "El numero ingresado es mayor al numero secreto\n",
            "Intento numero: 1 Adivina el número: 25\n",
            "El numero ingresado es menor al numero secreto\n",
            "Intento numero: 2 Adivina el número: 37\n",
            "El numero ingresado es menor al numero secreto\n",
            "Intento numero: 3 Adivina el número: 41\n",
            "El numero ingresado es mayor al numero secreto\n",
            "Intento numero: 4 Adivina el número: 39\n",
            "El numero ingresado es menor al numero secreto\n",
            "Intento numero: 5 Adivina el número: 40\n"
          ]
        },
        {
          "output_type": "error",
          "ename": "NameError",
          "evalue": "name 'intento' is not defined",
          "traceback": [
            "\u001b[0;31m---------------------------------------------------------------------------\u001b[0m",
            "\u001b[0;31mNameError\u001b[0m                                 Traceback (most recent call last)",
            "\u001b[0;32m<ipython-input-15-83b2a1a50565>\u001b[0m in \u001b[0;36m<cell line: 4>\u001b[0;34m()\u001b[0m\n\u001b[1;32m     13\u001b[0m     \u001b[0mprint\u001b[0m\u001b[0;34m(\u001b[0m\u001b[0;34m\"El numero ingresado es menor al numero secreto\"\u001b[0m\u001b[0;34m)\u001b[0m\u001b[0;34m\u001b[0m\u001b[0;34m\u001b[0m\u001b[0m\n\u001b[1;32m     14\u001b[0m   \u001b[0;32melif\u001b[0m \u001b[0madivinanza\u001b[0m \u001b[0;34m==\u001b[0m \u001b[0mnumero_secreto\u001b[0m\u001b[0;34m:\u001b[0m\u001b[0;34m\u001b[0m\u001b[0;34m\u001b[0m\u001b[0m\n\u001b[0;32m---> 15\u001b[0;31m    \u001b[0mprint\u001b[0m\u001b[0;34m(\u001b[0m\u001b[0;34mf\"Excelente! Ha adivinado el numero secreto en {intento} intentos\"\u001b[0m\u001b[0;34m)\u001b[0m\u001b[0;34m\u001b[0m\u001b[0;34m\u001b[0m\u001b[0m\n\u001b[0m\u001b[1;32m     16\u001b[0m    \u001b[0;32mbreak\u001b[0m\u001b[0;34m\u001b[0m\u001b[0;34m\u001b[0m\u001b[0m\n\u001b[1;32m     17\u001b[0m   \u001b[0mintentos\u001b[0m \u001b[0;34m+=\u001b[0m \u001b[0;36m1\u001b[0m\u001b[0;34m\u001b[0m\u001b[0;34m\u001b[0m\u001b[0m\n",
            "\u001b[0;31mNameError\u001b[0m: name 'intento' is not defined"
          ]
        }
      ]
    },
    {
      "cell_type": "markdown",
      "source": [
        "## 6. Bonus: Generador de Contraseñas (Opcional, 3 puntos)\n",
        "Escribe una función en Python llamada generar_contraseña que genere una contraseña segura de longitud l\n",
        "proporcionada por el usuario. La contraseña debe incluir una combinación de letras mayúsculas, minúsculas,\n",
        "números y símbolos especiales.\n",
        "Pista: Usa el módulo random y las cadenas de caracteres disponibles en el módulo string.\n",
        "Ejemplo:\n",
        "generar_contraseña(12) # Podría devolver \"A*k3d9#Gq1Lp\"\n",
        "Fin del Examen\n",
        "¡Buena"
      ],
      "metadata": {
        "id": "KB-gdad9YTfB"
      }
    },
    {
      "cell_type": "code",
      "source": [
        "import random\n",
        "import string\n",
        "\n",
        "def generar_contraseña(l):\n",
        "  #Queremo incluir al menos 1 tipo de cada caracter por lo que solicitaremos una longitud de al menos 4 caracetrs.e\n",
        "    if l < 4:\n",
        "        return \"Por favor ingrese un l mayor o igual a 4\"\n",
        "    # Aca estan los caracteres usando el módulo string\n",
        "    letras_mayusculas = string.ascii_uppercase\n",
        "    letras_minusculas = string.ascii_lowercase\n",
        "    numeros = string.digits\n",
        "    simbolos = string.punctuation\n",
        "    contraseña = [\n",
        "        random.choice(letras_mayusculas),\n",
        "        random.choice(letras_minusculas),\n",
        "        random.choice(numeros),\n",
        "        random.choice(simbolos)\n",
        "    ]\n",
        "\n",
        "    todos_caracteres = letras_mayusculas + letras_minusculas + numeros + simbolos\n",
        "    contraseña += random.choices(todos_caracteres, k=l - 4)\n",
        "    random.shuffle(contraseña)\n",
        "    return ''.join(contraseña)\n",
        "\n",
        "#Comprovamos si funciona\n",
        "print(generar_contraseña(8))\n",
        "\n"
      ],
      "metadata": {
        "colab": {
          "base_uri": "https://localhost:8080/"
        },
        "id": "5YlWRBN_YUvl",
        "outputId": "192f8d82-6d7c-490b-e134-3b65cbdfa1a4"
      },
      "execution_count": null,
      "outputs": [
        {
          "output_type": "stream",
          "name": "stdout",
          "text": [
            "FoGMj[&8\n"
          ]
        }
      ]
    }
  ]
}