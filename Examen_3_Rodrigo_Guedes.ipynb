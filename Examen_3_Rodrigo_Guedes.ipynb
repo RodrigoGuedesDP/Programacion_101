{
  "nbformat": 4,
  "nbformat_minor": 0,
  "metadata": {
    "colab": {
      "provenance": [],
      "authorship_tag": "ABX9TyN1cMHRBJIzjEkFW+gaSQJi",
      "include_colab_link": true
    },
    "kernelspec": {
      "name": "python3",
      "display_name": "Python 3"
    },
    "language_info": {
      "name": "python"
    }
  },
  "cells": [
    {
      "cell_type": "markdown",
      "metadata": {
        "id": "view-in-github",
        "colab_type": "text"
      },
      "source": [
        "<a href=\"https://colab.research.google.com/github/RodrigoGuedesDP/Programacion_101/blob/main/Examen_3_Rodrigo_Guedes.ipynb\" target=\"_parent\"><img src=\"https://colab.research.google.com/assets/colab-badge.svg\" alt=\"Open In Colab\"/></a>"
      ]
    },
    {
      "cell_type": "markdown",
      "source": [
        "###Pregunta 1:\n",
        "a) Crea un array unidimensional que contenga los números primos entre 1 y 50.\n",
        "b) Convierte el array unidimensional anterior en una matriz de forma (n, 2), donde n es el número adecuado de\n",
        "filas. Si es necesario, agrega ceros al final del array para completar la matriz.\n",
        "c) Calcula la suma de cada fila y crea un nuevo array que contenga estos valores."
      ],
      "metadata": {
        "id": "I-efsz8aKH-i"
      }
    },
    {
      "cell_type": "code",
      "source": [
        "import numpy as np\n",
        "\n",
        "\n",
        "# a) funcion para retornar los primos\n",
        "def es_primo(n):\n",
        "    if n < 2:\n",
        "        return False\n",
        "    return np.all(n % np.arange(2, int(np.sqrt(n)) + 1) != 0)\n",
        "\n",
        "primos = np.array([n for n in range(1, 51) if es_primo(n)])\n",
        "\n",
        "# b)\n",
        "if len(primos) % 2 != 0:\n",
        "    primos = np.append(primos, 0)\n",
        "matriz = primos.reshape(-1, 2)\n",
        "\n",
        "# c)\n",
        "suma_filas = matriz.sum(axis=1)\n",
        "\n",
        "print(\"Array unidimensional de números primos:\", primos)\n",
        "print(\"Matriz (n, 2):\\n\", matriz)\n",
        "print(\"Suma de cada fila:\", suma_filas)\n"
      ],
      "metadata": {
        "id": "LrbPxbmvKJHg"
      },
      "execution_count": 3,
      "outputs": []
    },
    {
      "cell_type": "markdown",
      "source": [
        "###Pregunta 2:\n",
        "a) Crea un array bidimensional de forma (4, 4) que contenga números enteros aleatorios entre 1 y 100.\n",
        "b) Cambia el tipo de datos del array a float64 y divide todos los elementos por 3.7.\n",
        "c) Calcula y muestra las siguientes propiedades del array resultante:\n",
        "● Dimensiones (ndim)\n",
        "● Forma (shape)\n",
        "● Tamaño total (size)\n",
        "● Tipo de datos (dtype)\n"
      ],
      "metadata": {
        "id": "RU0ZiIQvKJis"
      }
    },
    {
      "cell_type": "code",
      "source": [
        "array_bidimensional = np.random.randint(1,101,(4,4))\n",
        "array_float = array_bidimensional.astype(np.float64)/3.7\n",
        "print(\"Dimensiones (ndim):\", array_float.ndim)\n",
        "print(\"Forma (shape):\", array_float.shape)\n",
        "print(\"Tamaño total (size):\", array_float.size)\n",
        "print(\"Tipo de datos (dtype):\", array_float.dtype)"
      ],
      "metadata": {
        "id": "vAz1hvO3KLzW",
        "outputId": "f4a252a9-2727-4374-83db-c5fbe54e077c",
        "colab": {
          "base_uri": "https://localhost:8080/"
        }
      },
      "execution_count": 5,
      "outputs": [
        {
          "output_type": "stream",
          "name": "stdout",
          "text": [
            "Dimensiones (ndim): 2\n",
            "Forma (shape): (4, 4)\n",
            "Tamaño total (size): 16\n",
            "Tipo de datos (dtype): float64\n"
          ]
        }
      ]
    },
    {
      "cell_type": "markdown",
      "source": [
        "###Pregunta 3:\n",
        "a) Crea un array x que contenga 100 valores equiespaciados entre -10 y 10.\n",
        "b) Calcula el valor de la función f(x)=e**(-x**2) para cada elemento de x.\n",
        "c) Encuentra el valor máximo y mínimo de f(x) y las posiciones en el array donde ocurren"
      ],
      "metadata": {
        "id": "0rWBZKRyKOpA"
      }
    },
    {
      "cell_type": "code",
      "source": [
        "x = np.linspace(-10,10,100)\n",
        "funcion_x = np.e**(-x**2)\n",
        "valor_maximo = funcion_x.max()\n",
        "valor_minimo = funcion_x.min()\n",
        "posicion_maximo = funcion_x.argmax()\n",
        "posicion_minimo = funcion_x.argmin()\n",
        "\n",
        "print(posicion_maximo)\n",
        "print(posicion_minimo)"
      ],
      "metadata": {
        "id": "pE2np5HTKP1s",
        "outputId": "c8158acb-8a2c-46db-9b85-0dd2f7d24ff5",
        "colab": {
          "base_uri": "https://localhost:8080/"
        }
      },
      "execution_count": 9,
      "outputs": [
        {
          "output_type": "stream",
          "name": "stdout",
          "text": [
            "49\n",
            "0\n"
          ]
        }
      ]
    },
    {
      "cell_type": "markdown",
      "source": [],
      "metadata": {
        "id": "QnqYxHUVKQJ8"
      }
    },
    {
      "cell_type": "markdown",
      "source": [
        "###Pregunta 4: Indexación y Slicing Avanzado\n",
        "Dado el siguiente array bidimensional:\n",
        "array = np.arange(1, 101).reshape(10, 10)\n",
        "a) Extrae un subarray que contenga los elementos en posiciones pares de filas y columnas (es decir, filas y\n",
        "columnas con índices 0, 2, 4, 6, 8).\n",
        "b) Reemplaza todos los elementos que son múltiplos de 3 por -1.\n",
        "c) Utiliza indexación avanzada para extraer todos los números primos del array original y crea un nuevo array\n",
        "con estos valores.\n"
      ],
      "metadata": {
        "id": "NHK6YyMQPjHa"
      }
    },
    {
      "cell_type": "code",
      "source": [
        "array = np.arange(1, 101).reshape(10, 10)\n",
        "\n",
        "sub_array = array[::2,::2]\n",
        "print(sub_array)\n",
        "#imprimimos para ver si esta bien el slicing"
      ],
      "metadata": {
        "id": "x-rZVlCNPkq9",
        "outputId": "d4f58929-94e8-47cc-b9b6-1badca655207",
        "colab": {
          "base_uri": "https://localhost:8080/"
        }
      },
      "execution_count": 11,
      "outputs": [
        {
          "output_type": "stream",
          "name": "stdout",
          "text": [
            "[[ 1  3  5  7  9]\n",
            " [21 23 25 27 29]\n",
            " [41 43 45 47 49]\n",
            " [61 63 65 67 69]\n",
            " [81 83 85 87 89]]\n"
          ]
        }
      ]
    },
    {
      "cell_type": "code",
      "source": [
        "array_modificado = sub_array.copy()\n",
        "if array_modificado"
      ],
      "metadata": {
        "id": "hJgwJIgxQtY0"
      },
      "execution_count": null,
      "outputs": []
    },
    {
      "cell_type": "markdown",
      "source": [
        "### Pregunta 5:\n",
        "a) Crea tres arrays unidimensionales de longitud 5 con números aleatorios entre 0 y 1.\n",
        "b) Combina estos arrays para formar una matriz de forma (5, 3).\n",
        "c) Agrega una columna de unos al principio de la matriz resultante, obteniendo una matriz de forma (5, 4).\n",
        "d) Reordena las columnas de la matriz para que la columna de unos esté al final.\n"
      ],
      "metadata": {
        "id": "Pv1pW0hLRsEA"
      }
    },
    {
      "cell_type": "code",
      "source": [
        "a = np.random.rand(5,)\n",
        "b = np.random.rand(5,)\n",
        "c = np.random.rand(5,)\n",
        "\n",
        "matriz = np.concatenate([a.reshape(5, 1), b.reshape(5, 1), c.reshape(5, 1)], axis=1)\n",
        "\n",
        "\n",
        "matriz_unos = np.ones((5, 1))\n",
        "matriz_con_unos_inicio = np.concatenate([matriz_unos, matriz], axis=1)\n",
        "\n",
        "matriz_reordenada = np.concatenate([matriz, matriz_unos], axis=1)\n",
        "\n",
        "print(\"Matriz inicial (5x3):\\n\", matriz)\n",
        "print(\"Matriz con columna de unos al principio:\\n\", matriz_con_unos_inicio)\n",
        "print(\"Matriz con columna de unos al final:\\n\", matriz_reordenada)"
      ],
      "metadata": {
        "id": "zTS_YqoyRt3E",
        "outputId": "aed8fc98-d1f2-47cd-e5c8-bb389ed2afe6",
        "colab": {
          "base_uri": "https://localhost:8080/"
        }
      },
      "execution_count": 17,
      "outputs": [
        {
          "output_type": "stream",
          "name": "stdout",
          "text": [
            "Matriz inicial (5x3):\n",
            " [[0.39899691 0.26747224 0.17190951]\n",
            " [0.38943949 0.29700328 0.58376779]\n",
            " [0.10369283 0.16201754 0.53155988]\n",
            " [0.88325114 0.35260403 0.39336386]\n",
            " [0.45900691 0.78524073 0.70900192]]\n",
            "Matriz con columna de unos al principio:\n",
            " [[1.         0.39899691 0.26747224 0.17190951]\n",
            " [1.         0.38943949 0.29700328 0.58376779]\n",
            " [1.         0.10369283 0.16201754 0.53155988]\n",
            " [1.         0.88325114 0.35260403 0.39336386]\n",
            " [1.         0.45900691 0.78524073 0.70900192]]\n",
            "Matriz con columna de unos al final:\n",
            " [[0.39899691 0.26747224 0.17190951 1.        ]\n",
            " [0.38943949 0.29700328 0.58376779 1.        ]\n",
            " [0.10369283 0.16201754 0.53155988 1.        ]\n",
            " [0.88325114 0.35260403 0.39336386 1.        ]\n",
            " [0.45900691 0.78524073 0.70900192 1.        ]]\n"
          ]
        }
      ]
    },
    {
      "cell_type": "markdown",
      "source": [
        "###Pregunta 6:\n",
        "a) Crea una matriz simétrica positiva definida de tamaño 3x3.\n",
        "b) Calcula sus valores y vectores propios (eigenvalores y eigenvectores).\n",
        "c) Verifica que la multiplicación de la matriz original por un vector propio es igual al producto del eigenvalor\n",
        "correspondiente por el vector propio.\n"
      ],
      "metadata": {
        "id": "XjSnHp9GUUxw"
      }
    },
    {
      "cell_type": "code",
      "source": [
        "#a)\n",
        "A = np.random.rand(3, 3)\n",
        "#Multiplicandolo por su transpuesta se\n",
        "matriz_simetrica = np.dot(A, A.T)\n",
        "\n",
        "#b)\n",
        "eigenvalores, eigenvectores = np.linalg.eigh(matriz_simetrica)\n",
        "\n",
        "#c)\n",
        "\n",
        "\n"
      ],
      "metadata": {
        "id": "3y7nNEDbUXmJ"
      },
      "execution_count": 19,
      "outputs": []
    },
    {
      "cell_type": "markdown",
      "source": [
        "###Pregunta 7:\n",
        "a) Construye un sistema de ecuaciones lineales con tres ecuaciones y tres incógnitas donde la matriz de\n",
        "coeficientes es singular (no invertible).\n",
        "b) Intenta resolver el sistema utilizando np.linalg.solve() y explica el resultado obtenido.\n"
      ],
      "metadata": {
        "id": "4b9rr5tnUX-k"
      }
    },
    {
      "cell_type": "code",
      "source": [
        "# a)\n",
        "#Separamos los coeficientes y la matriz de constantes\n",
        "coeficientes = np.array([[2, 1, -1], [4, 2, -2], [1, 1, -1]])\n",
        "constantes = np.array([1, 2, 0])\n",
        "\n",
        "# b) Resolver el sistema usando np.linalg.solve()\n",
        "\n",
        "solucion = np.linalg.solve(coeficientes, constantes)\n",
        "\n",
        "\n",
        "# Vemos que sale error porque la matriz de coeficientes (extraida del curso de matetrmatica) no es inversible, lo cual teoricamente se comprueba si su terminante es 0\n"
      ],
      "metadata": {
        "id": "_GJI5zggUaYx",
        "outputId": "186249c9-9d2c-4c30-82a1-47ac85300b76",
        "colab": {
          "base_uri": "https://localhost:8080/",
          "height": 365
        }
      },
      "execution_count": 20,
      "outputs": [
        {
          "output_type": "error",
          "ename": "LinAlgError",
          "evalue": "Singular matrix",
          "traceback": [
            "\u001b[0;31m---------------------------------------------------------------------------\u001b[0m",
            "\u001b[0;31mLinAlgError\u001b[0m                               Traceback (most recent call last)",
            "\u001b[0;32m<ipython-input-20-0baad2ab73a5>\u001b[0m in \u001b[0;36m<cell line: 8>\u001b[0;34m()\u001b[0m\n\u001b[1;32m      6\u001b[0m \u001b[0;31m# b) Resolver el sistema usando np.linalg.solve()\u001b[0m\u001b[0;34m\u001b[0m\u001b[0;34m\u001b[0m\u001b[0m\n\u001b[1;32m      7\u001b[0m \u001b[0;34m\u001b[0m\u001b[0m\n\u001b[0;32m----> 8\u001b[0;31m \u001b[0msolucion\u001b[0m \u001b[0;34m=\u001b[0m \u001b[0mnp\u001b[0m\u001b[0;34m.\u001b[0m\u001b[0mlinalg\u001b[0m\u001b[0;34m.\u001b[0m\u001b[0msolve\u001b[0m\u001b[0;34m(\u001b[0m\u001b[0mcoeficientes\u001b[0m\u001b[0;34m,\u001b[0m \u001b[0mconstantes\u001b[0m\u001b[0;34m)\u001b[0m\u001b[0;34m\u001b[0m\u001b[0;34m\u001b[0m\u001b[0m\n\u001b[0m\u001b[1;32m      9\u001b[0m \u001b[0;34m\u001b[0m\u001b[0m\n\u001b[1;32m     10\u001b[0m \u001b[0;34m\u001b[0m\u001b[0m\n",
            "\u001b[0;32m/usr/local/lib/python3.10/dist-packages/numpy/linalg/linalg.py\u001b[0m in \u001b[0;36msolve\u001b[0;34m(a, b)\u001b[0m\n\u001b[1;32m    407\u001b[0m     \u001b[0msignature\u001b[0m \u001b[0;34m=\u001b[0m \u001b[0;34m'DD->D'\u001b[0m \u001b[0;32mif\u001b[0m \u001b[0misComplexType\u001b[0m\u001b[0;34m(\u001b[0m\u001b[0mt\u001b[0m\u001b[0;34m)\u001b[0m \u001b[0;32melse\u001b[0m \u001b[0;34m'dd->d'\u001b[0m\u001b[0;34m\u001b[0m\u001b[0;34m\u001b[0m\u001b[0m\n\u001b[1;32m    408\u001b[0m     \u001b[0mextobj\u001b[0m \u001b[0;34m=\u001b[0m \u001b[0mget_linalg_error_extobj\u001b[0m\u001b[0;34m(\u001b[0m\u001b[0m_raise_linalgerror_singular\u001b[0m\u001b[0;34m)\u001b[0m\u001b[0;34m\u001b[0m\u001b[0;34m\u001b[0m\u001b[0m\n\u001b[0;32m--> 409\u001b[0;31m     \u001b[0mr\u001b[0m \u001b[0;34m=\u001b[0m \u001b[0mgufunc\u001b[0m\u001b[0;34m(\u001b[0m\u001b[0ma\u001b[0m\u001b[0;34m,\u001b[0m \u001b[0mb\u001b[0m\u001b[0;34m,\u001b[0m \u001b[0msignature\u001b[0m\u001b[0;34m=\u001b[0m\u001b[0msignature\u001b[0m\u001b[0;34m,\u001b[0m \u001b[0mextobj\u001b[0m\u001b[0;34m=\u001b[0m\u001b[0mextobj\u001b[0m\u001b[0;34m)\u001b[0m\u001b[0;34m\u001b[0m\u001b[0;34m\u001b[0m\u001b[0m\n\u001b[0m\u001b[1;32m    410\u001b[0m \u001b[0;34m\u001b[0m\u001b[0m\n\u001b[1;32m    411\u001b[0m     \u001b[0;32mreturn\u001b[0m \u001b[0mwrap\u001b[0m\u001b[0;34m(\u001b[0m\u001b[0mr\u001b[0m\u001b[0;34m.\u001b[0m\u001b[0mastype\u001b[0m\u001b[0;34m(\u001b[0m\u001b[0mresult_t\u001b[0m\u001b[0;34m,\u001b[0m \u001b[0mcopy\u001b[0m\u001b[0;34m=\u001b[0m\u001b[0;32mFalse\u001b[0m\u001b[0;34m)\u001b[0m\u001b[0;34m)\u001b[0m\u001b[0;34m\u001b[0m\u001b[0;34m\u001b[0m\u001b[0m\n",
            "\u001b[0;32m/usr/local/lib/python3.10/dist-packages/numpy/linalg/linalg.py\u001b[0m in \u001b[0;36m_raise_linalgerror_singular\u001b[0;34m(err, flag)\u001b[0m\n\u001b[1;32m    110\u001b[0m \u001b[0;34m\u001b[0m\u001b[0m\n\u001b[1;32m    111\u001b[0m \u001b[0;32mdef\u001b[0m \u001b[0m_raise_linalgerror_singular\u001b[0m\u001b[0;34m(\u001b[0m\u001b[0merr\u001b[0m\u001b[0;34m,\u001b[0m \u001b[0mflag\u001b[0m\u001b[0;34m)\u001b[0m\u001b[0;34m:\u001b[0m\u001b[0;34m\u001b[0m\u001b[0;34m\u001b[0m\u001b[0m\n\u001b[0;32m--> 112\u001b[0;31m     \u001b[0;32mraise\u001b[0m \u001b[0mLinAlgError\u001b[0m\u001b[0;34m(\u001b[0m\u001b[0;34m\"Singular matrix\"\u001b[0m\u001b[0;34m)\u001b[0m\u001b[0;34m\u001b[0m\u001b[0;34m\u001b[0m\u001b[0m\n\u001b[0m\u001b[1;32m    113\u001b[0m \u001b[0;34m\u001b[0m\u001b[0m\n\u001b[1;32m    114\u001b[0m \u001b[0;32mdef\u001b[0m \u001b[0m_raise_linalgerror_nonposdef\u001b[0m\u001b[0;34m(\u001b[0m\u001b[0merr\u001b[0m\u001b[0;34m,\u001b[0m \u001b[0mflag\u001b[0m\u001b[0;34m)\u001b[0m\u001b[0;34m:\u001b[0m\u001b[0;34m\u001b[0m\u001b[0;34m\u001b[0m\u001b[0m\n",
            "\u001b[0;31mLinAlgError\u001b[0m: Singular matrix"
          ]
        }
      ]
    },
    {
      "cell_type": "code",
      "source": [
        "#vemos si su determinante es 0\n",
        "determinante = np.linalg.det(coeficientes)\n",
        "print(determinante)\n",
        "# se comprueba que que sale error porque la matriz es no invertible."
      ],
      "metadata": {
        "id": "Bi7PhTJXWsQb",
        "outputId": "b210add2-bff2-4487-a9a9-80d5a502c74d",
        "colab": {
          "base_uri": "https://localhost:8080/"
        }
      },
      "execution_count": 21,
      "outputs": [
        {
          "output_type": "stream",
          "name": "stdout",
          "text": [
            "0.0\n"
          ]
        }
      ]
    },
    {
      "cell_type": "markdown",
      "source": [
        "### Pregunta 8:\n",
        "a) Crea un array de forma (4, 4, 4) con números enteros aleatorios entre 0 y 100.\n",
        "b) Calcula la suma a lo largo del eje 0, obteniendo un array de forma (4, 4).\n",
        "c) Calcula el promedio a lo largo del eje 1, obteniendo un array de forma (4, 4).\n",
        "d) Reestructura el array original en una nueva forma de (8, 8) sin perder datos.\n"
      ],
      "metadata": {
        "id": "lfqSqQRaW-v0"
      }
    },
    {
      "cell_type": "code",
      "source": [
        "\n",
        "\n",
        "# a)\n",
        "array = np.random.randint(0, 101, (4, 4, 4))\n",
        "\n",
        "# b)\n",
        "suma_eje_cero = np.sum(array, axis=0)\n",
        "\n",
        "# c)\n",
        "promedio_eje1 = np.mean(array, axis=1)\n",
        "\n",
        "# d)\n",
        "array_reestructurado = array.reshape(8, 8)\n",
        "\n",
        "print(\"Array original (4, 4, 4):\\n\", array)\n",
        "print(\"Suma a lo largo del eje 0 (4, 4):\\n\", suma_eje_cero)\n",
        "print(\"Promedio a lo largo del eje 1 (4, 4):\\n\", promedio_eje1)\n",
        "print(\"Array reestructurado (8, 8):\\n\", array_reestructurado)\n"
      ],
      "metadata": {
        "id": "6ownKyGoW-hp",
        "outputId": "1a3e1be1-1c53-41b7-b848-48779fa4fe5e",
        "colab": {
          "base_uri": "https://localhost:8080/"
        }
      },
      "execution_count": 22,
      "outputs": [
        {
          "output_type": "stream",
          "name": "stdout",
          "text": [
            "Array original (4, 4, 4):\n",
            " [[[52 60 59 87]\n",
            "  [12 12 44 69]\n",
            "  [14 61 39 65]\n",
            "  [97 73  0 36]]\n",
            "\n",
            " [[47 64 30  9]\n",
            "  [97  1 13 45]\n",
            "  [40 23 22 66]\n",
            "  [35 47 20 39]]\n",
            "\n",
            " [[ 1 62 55 22]\n",
            "  [ 9 33 93 46]\n",
            "  [63 79  2 78]\n",
            "  [87  6 54 38]]\n",
            "\n",
            " [[55 28 82 13]\n",
            "  [54 18 88 86]\n",
            "  [23  7  3 32]\n",
            "  [14 74 12  3]]]\n",
            "Suma a lo largo del eje 0 (4, 4):\n",
            " [[155 214 226 131]\n",
            " [172  64 238 246]\n",
            " [140 170  66 241]\n",
            " [233 200  86 116]]\n",
            "Promedio a lo largo del eje 1 (4, 4):\n",
            " [[43.75 51.5  35.5  64.25]\n",
            " [54.75 33.75 21.25 39.75]\n",
            " [40.   45.   51.   46.  ]\n",
            " [36.5  31.75 46.25 33.5 ]]\n",
            "Array reestructurado (8, 8):\n",
            " [[52 60 59 87 12 12 44 69]\n",
            " [14 61 39 65 97 73  0 36]\n",
            " [47 64 30  9 97  1 13 45]\n",
            " [40 23 22 66 35 47 20 39]\n",
            " [ 1 62 55 22  9 33 93 46]\n",
            " [63 79  2 78 87  6 54 38]\n",
            " [55 28 82 13 54 18 88 86]\n",
            " [23  7  3 32 14 74 12  3]]\n"
          ]
        }
      ]
    },
    {
      "cell_type": "markdown",
      "source": [
        "### Pregunta 9:\n",
        "Se define una secuencia de números donde cada elemento es el factorial del índice correspondiente.\n",
        "Formalmente:\n",
        "a) Usando NumPy, crea un array que contenga los primeros 10 elementos de esta secuencia sin utilizar bucles\n",
        "explícitos.\n",
        "b) Calcula la suma de todos los elementos del array creado.\n",
        "c) Dado que los factoriales pueden ser números muy grandes, cambia el tipo de datos del array a object para\n",
        "manejar enteros arbitrariamente grandes y recalcula la suma.\n"
      ],
      "metadata": {
        "id": "VEIgyc1KXDJk"
      }
    },
    {
      "cell_type": "code",
      "source": [
        "import numpy as np\n",
        "\n",
        "# a)\n",
        "indices = np.arange(10)\n",
        "factoriales = np.array([np.prod(np.arange(1, i + 1)) for i in indices])\n",
        "\n",
        "# b)\n",
        "suma_factoriales = np.sum(factoriales)\n",
        "\n",
        "# c)\n",
        "factoriales_object = factoriales.astype(object)\n",
        "suma_factoriales_object = np.sum(factoriales_object)\n",
        "\n",
        "\n",
        "print(\"Factoriales (primeros 10 elementos):\", factoriales)\n",
        "print(\"Suma de factoriales (int64):\", suma_factoriales)\n",
        "print(\"Suma de factoriales (object):\", suma_factoriales_object)\n",
        "\n"
      ],
      "metadata": {
        "id": "ZVOXB0oQXHsn",
        "outputId": "56072ed8-391f-482c-edb5-a0ffd525ef8b",
        "colab": {
          "base_uri": "https://localhost:8080/"
        }
      },
      "execution_count": 23,
      "outputs": [
        {
          "output_type": "stream",
          "name": "stdout",
          "text": [
            "Factoriales (primeros 10 elementos): [     1      1      2      6     24    120    720   5040  40320 362880]\n",
            "Suma de factoriales (int64): 409114\n",
            "Suma de factoriales (object): 409114\n"
          ]
        }
      ]
    },
    {
      "cell_type": "markdown",
      "source": [
        "### Pregunta 10:\n",
        "a) Simula un conjunto de datos que represente las alturas (en cm) de 500 personas, siguiendo una distribución\n",
        "normal con media 170 y desviación estándar 10.\n",
        "c) Encuentra cuántas personas miden más de 180 cm y menos de 160 cm.\n",
        "d) Normaliza los datos de altura para que tengan media 0 y desviación estándar 1"
      ],
      "metadata": {
        "id": "sCLFT3FVXIHb"
      }
    },
    {
      "cell_type": "code",
      "source": [
        "# a)\n",
        "media = 170\n",
        "desviacion_estandar = 10\n",
        "numero_personas = 500\n",
        "alturas = np.random.normal(media, desviacion_estandar, numero_personas)\n",
        "\n",
        "# c)\n",
        "mas_180 = np.sum(alturas > 180)\n",
        "menos_160 = np.sum(alturas < 160)\n",
        "\n",
        "# d)\n",
        "alturas_normalizadas = (alturas - alturas.mean()) / alturas.std()\n",
        "\n",
        "print(\"Número de personas > 180 cm:\", mas_180)\n",
        "print(\"Número de personas < 160 cm:\", menos_160)\n",
        "print(\"Alturas normalizadas (primeros 10 elementos):\", alturas_normalizadas[:10])\n"
      ],
      "metadata": {
        "id": "vdfAFtnoX-rx",
        "outputId": "f6d4bb74-b5ac-4fe2-c265-fdf656f65c0f",
        "colab": {
          "base_uri": "https://localhost:8080/"
        }
      },
      "execution_count": 24,
      "outputs": [
        {
          "output_type": "stream",
          "name": "stdout",
          "text": [
            "Número de personas > 180 cm: 73\n",
            "Número de personas < 160 cm: 96\n",
            "Alturas normalizadas (primeros 10 elementos): [ 1.59876847 -0.37091863  0.31287617  0.57881424  0.26727005  0.85939134\n",
            "  0.02850262 -0.67649589 -0.1923522   1.118562  ]\n"
          ]
        }
      ]
    },
    {
      "cell_type": "markdown",
      "source": [],
      "metadata": {
        "id": "BmftdzStXPNP"
      }
    }
  ]
}