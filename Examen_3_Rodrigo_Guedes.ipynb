{
  "nbformat": 4,
  "nbformat_minor": 0,
  "metadata": {
    "colab": {
      "provenance": [],
      "authorship_tag": "ABX9TyPRKDIUH6jkDSwxi1m+zLS/",
      "include_colab_link": true
    },
    "kernelspec": {
      "name": "python3",
      "display_name": "Python 3"
    },
    "language_info": {
      "name": "python"
    }
  },
  "cells": [
    {
      "cell_type": "markdown",
      "metadata": {
        "id": "view-in-github",
        "colab_type": "text"
      },
      "source": [
        "<a href=\"https://colab.research.google.com/github/RodrigoGuedesDP/Programacion_101/blob/main/Examen_3_Rodrigo_Guedes.ipynb\" target=\"_parent\"><img src=\"https://colab.research.google.com/assets/colab-badge.svg\" alt=\"Open In Colab\"/></a>"
      ]
    },
    {
      "cell_type": "markdown",
      "source": [
        "###Pregunta 1:\n",
        "a) Crea un array unidimensional que contenga los números primos entre 1 y 50.\n",
        "b) Convierte el array unidimensional anterior en una matriz de forma (n, 2), donde n es el número adecuado de\n",
        "filas. Si es necesario, agrega ceros al final del array para completar la matriz.\n",
        "c) Calcula la suma de cada fila y crea un nuevo array que contenga estos valores."
      ],
      "metadata": {
        "id": "I-efsz8aKH-i"
      }
    },
    {
      "cell_type": "code",
      "source": [
        "import numpy as np\n"
      ],
      "metadata": {
        "id": "LrbPxbmvKJHg"
      },
      "execution_count": 1,
      "outputs": []
    },
    {
      "cell_type": "markdown",
      "source": [
        "###Pregunta 2:\n",
        "a) Crea un array bidimensional de forma (4, 4) que contenga números enteros aleatorios entre 1 y 100.\n",
        "b) Cambia el tipo de datos del array a float64 y divide todos los elementos por 3.7.\n",
        "c) Calcula y muestra las siguientes propiedades del array resultante:\n",
        "● Dimensiones (ndim)\n",
        "● Forma (shape)\n",
        "● Tamaño total (size)\n",
        "● Tipo de datos (dtype)\n"
      ],
      "metadata": {
        "id": "RU0ZiIQvKJis"
      }
    },
    {
      "cell_type": "code",
      "source": [
        "array_bidimensional = np.random.ranint"
      ],
      "metadata": {
        "id": "vAz1hvO3KLzW"
      },
      "execution_count": null,
      "outputs": []
    },
    {
      "cell_type": "markdown",
      "source": [
        "###Pregunta 3:\n",
        "a) Crea un array x que contenga 100 valores equiespaciados entre -10 y 10.\n",
        "b) Calcula el valor de la función f(x)=e**(-x**2) para cada elemento de x.\n",
        "c) Encuentra el valor máximo y mínimo de f(x) y las posiciones en el array donde ocurren"
      ],
      "metadata": {
        "id": "0rWBZKRyKOpA"
      }
    },
    {
      "cell_type": "code",
      "source": [],
      "metadata": {
        "id": "pE2np5HTKP1s"
      },
      "execution_count": null,
      "outputs": []
    },
    {
      "cell_type": "markdown",
      "source": [],
      "metadata": {
        "id": "QnqYxHUVKQJ8"
      }
    }
  ]
}