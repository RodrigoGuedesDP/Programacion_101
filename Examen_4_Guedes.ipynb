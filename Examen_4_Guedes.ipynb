{
  "nbformat": 4,
  "nbformat_minor": 0,
  "metadata": {
    "colab": {
      "provenance": [],
      "authorship_tag": "ABX9TyOz7YSwp1Ly3wTOwq+K4C9O",
      "include_colab_link": true
    },
    "kernelspec": {
      "name": "python3",
      "display_name": "Python 3"
    },
    "language_info": {
      "name": "python"
    }
  },
  "cells": [
    {
      "cell_type": "markdown",
      "metadata": {
        "id": "view-in-github",
        "colab_type": "text"
      },
      "source": [
        "<a href=\"https://colab.research.google.com/github/RodrigoGuedesDP/Programacion_101/blob/main/Examen_4_Guedes.ipynb\" target=\"_parent\"><img src=\"https://colab.research.google.com/assets/colab-badge.svg\" alt=\"Open In Colab\"/></a>"
      ]
    },
    {
      "cell_type": "markdown",
      "source": [
        "\n",
        "Pregunta N° 01\n",
        "\n",
        "Carga diabetes.csv en un DataFrame df_diabetes.\n",
        "Muestra las 5 primeras filas.\n",
        "Imprime el número total de filas, columnas y el tipo de cada columna.\n",
        "Convierte la columna Outcome a tipo categórico y verifica el cambio imprimiendo la información del DataFrame (df_diabetes.info())."
      ],
      "metadata": {
        "id": "Q8FTe7UJ_vGb"
      }
    },
    {
      "cell_type": "code",
      "source": [
        "import pandas as pd\n",
        "\n"
      ],
      "metadata": {
        "id": "2QE5WGWj_whD"
      },
      "execution_count": null,
      "outputs": []
    },
    {
      "cell_type": "markdown",
      "source": [
        "Pregunta N° 02:\n",
        "\n",
        "Crea un DataFrame df_filtrado con todas las filas de df_diabetes donde Glucose > 120.\n",
        "Agrega a df_filtrado una columna BMI_Category que clasifique el BMI así:\n",
        "\"Bajo\" si BMI < 18.5\n",
        "\"Normal\" si 18.5 ≤ BMI < 25\n",
        "\"Sobrepeso\" si 25 ≤ BMI < 30\n",
        "\"Obeso\" si BMI ≥ 30\n",
        "Muestra las primeras 5 filas de df_filtrado con la nueva columna incluida."
      ],
      "metadata": {
        "id": "toWtkINW_x7V"
      }
    },
    {
      "cell_type": "code",
      "source": [],
      "metadata": {
        "id": "jCxDcT2S_2SQ"
      },
      "execution_count": null,
      "outputs": []
    },
    {
      "cell_type": "markdown",
      "source": [
        "Pregunta N° 03:\n",
        "\n",
        "Carga age_groups.csv en un DataFrame df_age_groups.\n",
        "Haz un merge de df_diabetes con df_age_groups por la columna Age. El resultado se llamará df_combinado. Debe ser un left merge para mantener todas las filas de df_diabetes.\n",
        "Muestra las 5 primeras filas de df_combinado para verificar que la columna AgeGroup se haya agregado correctamente."
      ],
      "metadata": {
        "id": "eD0aPUZt_26M"
      }
    },
    {
      "cell_type": "code",
      "source": [],
      "metadata": {
        "id": "xMkT4VC5_6SA"
      },
      "execution_count": null,
      "outputs": []
    },
    {
      "cell_type": "markdown",
      "source": [
        "Pregunta N° 04:\n",
        "\n",
        "Agrupa df_combinado por AgeGroup.\n",
        "Calcula el promedio de Glucose y el promedio de BMI para cada grupo de edad.\n",
        "Ordena el resultado por el promedio de Glucose de mayor a menor.\n",
        "Muestra el DataFrame resultante."
      ],
      "metadata": {
        "id": "7fKScAcY_8jW"
      }
    },
    {
      "cell_type": "code",
      "source": [],
      "metadata": {
        "id": "Ku-h-QTv_9XW"
      },
      "execution_count": null,
      "outputs": []
    },
    {
      "cell_type": "markdown",
      "source": [
        "Pregunta N° 05:\n",
        "\n",
        "A partir de df_combinado, filtra las filas donde AgeGroup = \"Adulto\" y Outcome = 1 (casos positivos de diabetes en adultos).\n",
        "De este subconjunto, selecciona los 5 registros con el mayor valor de BMI.\n",
        "Muestra únicamente las columnas Age, Glucose, BMI, DiabetesPedigreeFunction, ordenadas por BMI de mayor a menor."
      ],
      "metadata": {
        "id": "wKm12CW7_9jk"
      }
    },
    {
      "cell_type": "code",
      "source": [],
      "metadata": {
        "id": "tKzaEyCh__T4"
      },
      "execution_count": null,
      "outputs": []
    },
    {
      "cell_type": "markdown",
      "source": [
        "Pregunta N° 06:\n",
        "\n",
        "Usando df_combinado, crea una tabla pivote que tenga:\n",
        "Índice: AgeGroup\n",
        "Columnas: Outcome\n",
        "Valores: promedio de Glucose y BMI\n",
        "La pivot table debe mostrar el promedio de Glucose y BMI por combinación de AgeGroup y Outcome.\n",
        "De la tabla resultante, filtra y muestra únicamente las filas (AgeGroups) donde el promedio de BMI para cualquiera de los valores de Outcome sea mayor a 30."
      ],
      "metadata": {
        "id": "qM_-1ATj__si"
      }
    },
    {
      "cell_type": "code",
      "source": [],
      "metadata": {
        "id": "o1XqoDlCACWD"
      },
      "execution_count": null,
      "outputs": []
    }
  ]
}