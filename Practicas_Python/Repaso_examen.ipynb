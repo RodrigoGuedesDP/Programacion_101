{
  "nbformat": 4,
  "nbformat_minor": 0,
  "metadata": {
    "colab": {
      "provenance": [],
      "include_colab_link": true
    },
    "kernelspec": {
      "name": "python3",
      "display_name": "Python 3"
    },
    "language_info": {
      "name": "python"
    }
  },
  "cells": [
    {
      "cell_type": "markdown",
      "metadata": {
        "id": "view-in-github",
        "colab_type": "text"
      },
      "source": [
        "<a href=\"https://colab.research.google.com/github/RodrigoGuedesDP/Programacion_101/blob/main/Practicas_Python/Repaso_examen.ipynb\" target=\"_parent\"><img src=\"https://colab.research.google.com/assets/colab-badge.svg\" alt=\"Open In Colab\"/></a>"
      ]
    },
    {
      "cell_type": "code",
      "source": [
        "nombre = \"Rodrigo\"\n",
        "nombre_2 = \"Fernando\"\n",
        "apellido_paterno = \"Guedes\"\n",
        "apellido_materno = \"del Pozo\"\n",
        "\n",
        "print(f\"Mi nombre completo es {nombre} {nombre_2} {apellido_paterno} {apellido_materno}\")"
      ],
      "metadata": {
        "id": "-gP8coonxE-L"
      },
      "execution_count": null,
      "outputs": []
    },
    {
      "cell_type": "code",
      "execution_count": null,
      "metadata": {
        "id": "3caedE9ylEuC"
      },
      "outputs": [],
      "source": [
        "nombre = \"rodrigo\"\n",
        "nombre_2 = \"fernando\"\n",
        "apellido_paterno = \"Guedes\"\n",
        "apellido_materno = \"del Pozo\"\n",
        "nombre_completo = nombre + \" \" + nombre_2 + \" \" + apellido_paterno + \" \" + apellido_materno\n",
        "print(nombre_completo.title())\n",
        "#title() conviere en mayuscula todas las primeras letras de las palabras de un string\n",
        "print(nombre_completo.capitalize())\n",
        "#mayuscula la primera letra\n",
        "print(nombre_completo.upper())\n",
        "#todo en mayuscula\n",
        "print(nombre_completo.lower())\n",
        "#todo en minuscula"
      ]
    },
    {
      "cell_type": "code",
      "source": [
        "edad = int(input(\"Ingrese su edad: \"))\n",
        "if edad < 18:\n",
        "  descuento = 50\n",
        "elif  18 <= edad <= 65:\n",
        "  descuento = 10\n",
        "elif edad > 65:\n",
        "  descuento = 30\n",
        "print(f\"El descuento es de {descuento}%\")"
      ],
      "metadata": {
        "id": "WdqNJyIVxBW_",
        "outputId": "0638aba0-bed0-4cd2-e182-ec655ead13de",
        "colab": {
          "base_uri": "https://localhost:8080/"
        }
      },
      "execution_count": 3,
      "outputs": [
        {
          "output_type": "stream",
          "name": "stdout",
          "text": [
            "Ingrese su edad: 19\n",
            "El descuento es de 10%\n"
          ]
        }
      ]
    },
    {
      "cell_type": "markdown",
      "source": [
        "##Ejercicio 3.2: Estado de la temperatura\n",
        "Crea un programa que pida al usuario la temperatura en su ciudad y determine:\n",
        "\n",
        "Si es mayor de 30 grados, imprime \"Hace mucho calor\".\n",
        "Si está entre 20 y 30 grados, imprime \"El clima es agradable\".\n",
        "Si es menor de 20 grados, imprime \"Hace frío\"."
      ],
      "metadata": {
        "id": "vL5P6Wdkyxt0"
      }
    },
    {
      "cell_type": "code",
      "source": [
        "temperatura = int(input(\"Ingrese la temperatura en su ciudad: \"))\n",
        "if temperatura > 30:\n",
        "  print(\"Hace mucho calor\")\n",
        "elif 20 <= temperatura <= 30:\n",
        "  print(\"El clima es agradable\")\n",
        "elif temperatura < 20:\n",
        "  print(\"Hace frio\")\n",
        "\n"
      ],
      "metadata": {
        "id": "RVoeL6CKyzHC",
        "outputId": "17d93998-305c-46eb-df59-6bf0b0193e04",
        "colab": {
          "base_uri": "https://localhost:8080/"
        }
      },
      "execution_count": 4,
      "outputs": [
        {
          "output_type": "stream",
          "name": "stdout",
          "text": [
            "Ingrese la temperatura en su ciudad: 21\n",
            "El clima es agradable\n"
          ]
        }
      ]
    },
    {
      "cell_type": "markdown",
      "source": [
        "### Ejercicio 3.3: Sistema de votación\n",
        "Crea un programa que determine si una persona puede votar. Pide al usuario su nacionalidad y edad.\n",
        "\n",
        "Si la persona es de nacionalidad \"Peruana\" y mayor de 18 años, permite que vote.\n",
        "Si es menor de edad o no es de esa nacionalidad, no puede votar."
      ],
      "metadata": {
        "id": "NwLU7rfK2FjL"
      }
    },
    {
      "cell_type": "code",
      "source": [
        "edad = int(input(\"Ingrese su edad: \"))\n",
        "nacionalidad = input(\"Ingrese su nacionalidad: \")\n",
        "if nacionalidad.lower() == \"peruana\":\n",
        "  if edad > 18:\n",
        "    print(\"puede votar\")\n",
        "  else:\n",
        "    print(\"No puede votar\")\n",
        "else:\n",
        "  print(\"no puede votar\")"
      ],
      "metadata": {
        "id": "h0VAEMDm2HMB",
        "outputId": "1967662a-6f34-4c0f-f253-9c9ac686e198",
        "colab": {
          "base_uri": "https://localhost:8080/"
        }
      },
      "execution_count": 6,
      "outputs": [
        {
          "output_type": "stream",
          "name": "stdout",
          "text": [
            "Ingrese su edad: 20\n",
            "Ingrese su nacionalidad: peruana\n",
            "puede votar\n"
          ]
        }
      ]
    },
    {
      "cell_type": "markdown",
      "source": [
        "## Desafío 1: Calculadora de propinas inteligente\n",
        "Crea un programa que simule una calculadora de propinas en un restaurante. El programa debe:\n",
        "\n",
        "Pedir al usuario que ingrese el total de la cuenta.\n",
        "Pedir el porcentaje de propina que le gustaría dejar (por ejemplo, 10%, 15%, 20%).\n",
        "Usar condicionales para sugerir automáticamente un valor si no se ingresa un porcentaje, basándose en la experiencia:\n",
        "\n",
        "Si el servicio fue excelente, sugerir 20%.\n",
        "Si el servicio fue bueno, sugerir 15%.\n",
        "Si el servicio fue mediocre, sugerir 10%.\n",
        "Si el servicio fue malo, no sugerir propina.\n",
        "Calcular e imprimir la cantidad de propina y el total a pagar (cuenta + propina).\n"
      ],
      "metadata": {
        "id": "Kj8vZviI3GTm"
      }
    },
    {
      "cell_type": "code",
      "source": [
        "total_cuenta = int(input(\"Ingrese el total de la cuenta: \"))\n",
        "propina = input(\"Ingrese el procentaje de propina que le gustaria dejar (en %): \")\n",
        "if propina == \"\":\n",
        "  servicio = (input(\"Como fue su servicio? Por favor, eliga entre una de las siguientes opciones: Excelente, Bueno, Mediocre, malo\"))\n",
        "  if servicio.lower() == \"excelente\":\n",
        "    propina = 20\n",
        "  elif servicio.lower() == \"bueno\":\n",
        "    propina = 15\n",
        "  elif servicio.lower() == \"mediocre\":\n",
        "    propina = 10\n",
        "  elif servicio.lower() == \"malo\":\n",
        "    propina = 0\n",
        "  propina = int(propina)\n",
        "else:\n",
        "   propina = int(propina)\n",
        "cantidad_propina = total_cuenta * int(propina)/100\n",
        "total_pagar = total_cuenta + cantidad_propina\n",
        "print(f\"La propina que esta dejando es {cantidad_propina}, \\n y el monto total a pagar es {total_pagar}\")\n",
        "\n",
        "\n",
        "\n"
      ],
      "metadata": {
        "id": "HYE2_RSz3JZs",
        "outputId": "97f1afd4-01ec-4f08-ea1c-4b4be04fca91",
        "colab": {
          "base_uri": "https://localhost:8080/"
        }
      },
      "execution_count": 16,
      "outputs": [
        {
          "output_type": "stream",
          "name": "stdout",
          "text": [
            "Ingrese el total de la cuenta: 200\n",
            "Ingrese el procentaje de propina que le gustaria dejar (en %): \n",
            "Como fue su servicio? Por favor, eliga entre una de las siguientes opciones: Excelente, Bueno, Mediocre, malomediocre\n",
            "La propina que esta dejando es 20.0, \n",
            " y el monto total a pagar es 220.0\n"
          ]
        }
      ]
    },
    {
      "cell_type": "markdown",
      "source": [
        "## Desafío 2: Clasificación de Números\n",
        "Escribe un programa que clasifique un número dado por el usuario según sus características numéricas. El programa debe:\n",
        "\n",
        "Pedir al usuario que ingrese un número entero.\n",
        "\n",
        "Determinar si el número es:\n",
        "\n",
        "Par o impar.\n",
        "Positivo, negativo o cero.\n",
        "Primo o no primo (un número primo solo es divisible por 1 y por sí mismo).\n",
        "Imprimir una clasificación completa del número según las tres categorías anteriores."
      ],
      "metadata": {
        "id": "FyLNSdy88HwK"
      }
    },
    {
      "cell_type": "code",
      "source": [
        "numero = int(input(\"Ingrese un numero entero: \"))\n",
        "if numero > 0:\n",
        "  signo = \"Positivo\"\n",
        "elif numero = 0:\n",
        "  signo = \"Cero\"\n",
        "elif numero < 0:\n",
        "  signo = \"Negativo\"\n",
        "if numero % 2 == 0:\n",
        "  paridad = \"Par\"\n",
        "else:\n",
        "  paridad = \"Impar\"\n",
        "if numero\n"
      ],
      "metadata": {
        "id": "kvQOwoKb8HX2"
      },
      "execution_count": null,
      "outputs": []
    },
    {
      "cell_type": "code",
      "source": [
        "lista = list(range(10, 0, -1))\n",
        "print(lista)"
      ],
      "metadata": {
        "id": "NdwoGwrRKlJo",
        "outputId": "2f0c7575-d572-4798-9b60-d926935d0623",
        "colab": {
          "base_uri": "https://localhost:8080/"
        }
      },
      "execution_count": 19,
      "outputs": [
        {
          "output_type": "stream",
          "name": "stdout",
          "text": [
            "[10, 9, 8, 7, 6, 5, 4, 3, 2, 1]\n"
          ]
        }
      ]
    },
    {
      "cell_type": "code",
      "source": [
        "# Crear una lista de múltiplos de 5 entre 0 y 50\n",
        "lista = list(range(0, 51, 5))"
      ],
      "metadata": {
        "id": "gcAnptC3K2rN"
      },
      "execution_count": 20,
      "outputs": []
    },
    {
      "cell_type": "markdown",
      "source": [
        "## Desafío 1: Análisis de ventas de una tienda de ropa\n",
        "Eres el encargado de una tienda de ropa y tienes una lista de ventas diarias para diferentes productos. Cada día, vendes camisetas, pantalones y zapatos. Quieres analizar las ventas para entender mejor el rendimiento de cada producto.\n",
        "\n",
        "Objetivo:\n",
        "\n",
        "Crea tres listas: una para camisetas, otra para pantalones y una para zapatos, con la cantidad vendida cada día durante una semana.\n",
        "\n",
        "Usa slicing para extraer las ventas de los últimos 3 días de cada producto.\n",
        "\n",
        "Usa listas por comprensión para calcular el total de ventas de cada producto y el promedio de ventas diarias.\n",
        "\n",
        "Clasifica los productos en \"buenas ventas\" o \"malas ventas\" según si el promedio de ventas diarias es mayor o menor a 5.\n",
        "\n",
        "Instrucciones:\n",
        "\n",
        "Genera los datos de ventas usando listas manualmente o simulándolos con valores constantes.\n",
        "Calcula el total de ventas por producto usando sum() y el promedio con len().\n",
        "Usa listas por comprensión para clasificar las ventas de los productos."
      ],
      "metadata": {
        "id": "GreVEvLLQTfI"
      }
    },
    {
      "cell_type": "code",
      "source": [
        "camisetas = [2, 3, 4, 5, 4, 3, 5]\n",
        "pantalones = [20, 15, 33, 19, 46, 49, 60]\n",
        "zapatos = [7, 10, 15, 20, 25, 30, 40]\n",
        "total_productos = [camisetas, pantalones, zapatos]\n",
        "camisetas_ultimos_3 = camisetas[-3:]\n",
        "pantalones_ultimos_3 = pantalones[-3:]\n",
        "zapatos_ultimos_3 = zapatos[-3:]\n",
        "total_ventas = [sum(x) for x in total_productos]\n",
        "promedio_diario = [sum(x)/len(x) for x in total_productos]\n",
        "clasificacion = ['Buenas ventas' if x > 5 else \"malas ventas\" for x in promedio_diario]\n",
        "print(total_ventas)\n",
        "print(promedio_diario)\n",
        "print(clasificacion)"
      ],
      "metadata": {
        "id": "ek9M1loNQVAi",
        "outputId": "df1e3d18-d052-49e9-c187-1ea54ef70c0e",
        "colab": {
          "base_uri": "https://localhost:8080/"
        }
      },
      "execution_count": 25,
      "outputs": [
        {
          "output_type": "stream",
          "name": "stdout",
          "text": [
            "[26, 242, 147]\n",
            "[3.7142857142857144, 34.57142857142857, 21.0]\n",
            "['malas ventas', 'Buenas ventas', 'Buenas ventas']\n"
          ]
        }
      ]
    }
  ]
}