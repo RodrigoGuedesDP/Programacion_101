{
  "nbformat": 4,
  "nbformat_minor": 0,
  "metadata": {
    "colab": {
      "provenance": [],
      "authorship_tag": "ABX9TyOpXvWCWTfCvfvCi7DCY4Zr",
      "include_colab_link": true
    },
    "kernelspec": {
      "name": "python3",
      "display_name": "Python 3"
    },
    "language_info": {
      "name": "python"
    }
  },
  "cells": [
    {
      "cell_type": "markdown",
      "metadata": {
        "id": "view-in-github",
        "colab_type": "text"
      },
      "source": [
        "<a href=\"https://colab.research.google.com/github/RodrigoGuedesDP/Programacion_101/blob/main/Practicas_Python/Practica_examen_numpy.ipynb\" target=\"_parent\"><img src=\"https://colab.research.google.com/assets/colab-badge.svg\" alt=\"Open In Colab\"/></a>"
      ]
    },
    {
      "cell_type": "markdown",
      "source": [
        "\n",
        "\n",
        "## **1. Creación y Tipos de Arrays**\n",
        "\n",
        "**a)**\n",
        "Crea un array unidimensional de números enteros del 10 al 49.\n",
        "\n",
        "**b)**\n",
        "Genera un array bidimensional de tamaño 3x3 con números aleatorios de distribución normal estándar.\n",
        "\n",
        "**c)**\n",
        "Crea un array de tipo `float64` con valores [1, 2, 3], y luego convierte su tipo de datos a `int32`.\n",
        "\n",
        "---\n",
        "\n"
      ],
      "metadata": {
        "id": "Qdls8zK2eDbd"
      }
    },
    {
      "cell_type": "code",
      "execution_count": null,
      "metadata": {
        "id": "IV_XvEkud_Xf"
      },
      "outputs": [],
      "source": []
    },
    {
      "cell_type": "markdown",
      "source": [
        "\n",
        "\n",
        "## **2. Propiedades de los Arrays**\n",
        "\n",
        "**a)**\n",
        "Dado el siguiente array:\n",
        "\n",
        "```python\n",
        "import numpy as np\n",
        "a = np.array([[1, 2, 3], [4, 5, 6]])\n",
        "```\n",
        "\n",
        "Encuentra:\n",
        "\n",
        "- El número de dimensiones.\n",
        "- La forma del array.\n",
        "- El número total de elementos.\n",
        "- El tipo de datos de los elementos.\n",
        "\n",
        "**b)**\n",
        "Crea un array de 20 elementos igualmente espaciados entre 0 y 5, ambos inclusive.\n",
        "\n",
        "---\n"
      ],
      "metadata": {
        "id": "6ZyXac0YeSO1"
      }
    },
    {
      "cell_type": "code",
      "source": [],
      "metadata": {
        "id": "cAhLTbp8edqP"
      },
      "execution_count": null,
      "outputs": []
    },
    {
      "cell_type": "markdown",
      "source": [
        "\n",
        "\n",
        "## **3. Operaciones Básicas**\n",
        "\n",
        "**a)**\n",
        "Dado los arrays:\n",
        "\n",
        "```python\n",
        "a = np.array([1, 2, 3])\n",
        "b = np.array([4, 5, 6])\n",
        "```\n",
        "\n",
        "Calcula:\n",
        "\n",
        "- La suma de `a` y `b`.\n",
        "- El producto elemento a elemento.\n",
        "- El producto punto de `a` y `b`.\n",
        "\n",
        "**b)**\n",
        "Genera un array de 100 números aleatorios entre 0 y 10, y calcula:\n",
        "\n",
        "- El valor máximo.\n",
        "- El valor mínimo.\n",
        "- La media.\n",
        "- La desviación estándar.\n",
        "\n",
        "---\n",
        "\n"
      ],
      "metadata": {
        "id": "5DaT6OTced8x"
      }
    },
    {
      "cell_type": "code",
      "source": [],
      "metadata": {
        "id": "6ou3oWnNem9V"
      },
      "execution_count": null,
      "outputs": []
    },
    {
      "cell_type": "markdown",
      "source": [
        "\n",
        "\n",
        "## **4. Indexación y Slicing**\n",
        "\n",
        "**a)**\n",
        "Dado el siguiente array:\n",
        "\n",
        "```python\n",
        "a = np.arange(1, 21).reshape(4, 5)\n",
        "```\n",
        "\n",
        "Realiza las siguientes operaciones:\n",
        "\n",
        "- Extrae la segunda fila.\n",
        "- Obtén el elemento en la tercera fila, cuarta columna.\n",
        "- Extrae las dos primeras columnas.\n",
        "- Obtén una vista del array con los elementos desde el 5 al 15.\n",
        "\n",
        "**b)**\n",
        "Invierte el array unidimensional `a = np.arange(10)`.\n",
        "\n"
      ],
      "metadata": {
        "id": "Sr7GyyVTenMN"
      }
    },
    {
      "cell_type": "code",
      "source": [],
      "metadata": {
        "id": "SkBnWUT7epb_"
      },
      "execution_count": null,
      "outputs": []
    },
    {
      "cell_type": "markdown",
      "source": [
        "\n",
        "\n",
        "## **5. Manipulación de la Forma**\n",
        "\n",
        "**a)**\n",
        "Dado el array:\n",
        "\n",
        "```python\n",
        "a = np.arange(12)\n",
        "```\n",
        "\n",
        "Cambia su forma para que sea un array 3D de dimensiones 2x2x3.\n",
        "\n",
        "**b)**\n",
        "Aplana el siguiente array bidimensional:\n",
        "\n",
        "```python\n",
        "b = np.array([[1, 2, 3], [4, 5, 6]])\n",
        "```\n",
        "\n"
      ],
      "metadata": {
        "id": "A0E2gvz1epI9"
      }
    },
    {
      "cell_type": "code",
      "source": [],
      "metadata": {
        "id": "Jw6PafS4eocJ"
      },
      "execution_count": null,
      "outputs": []
    },
    {
      "cell_type": "markdown",
      "source": [
        "\n",
        "\n",
        "## **6. Broadcasting**\n",
        "\n",
        "**a)**\n",
        "Crea un array `a` de forma (4, 1) con todos los elementos igual a 3, y un array `b` de forma (1, 5) con todos los elementos igual a 2. Utiliza broadcasting para obtener un array `c` que sea la suma de `a` y `b`.\n",
        "\n",
        "**b)**\n",
        "Dado el array:\n",
        "\n",
        "```python\n",
        "a = np.ones((3, 4))\n",
        "```\n",
        "\n",
        "Multiplica cada fila por un vector `[1, 2, 3, 4]` utilizando broadcasting.\n",
        "\n"
      ],
      "metadata": {
        "id": "JGzeWvGCe59d"
      }
    },
    {
      "cell_type": "code",
      "source": [],
      "metadata": {
        "id": "_8-wOWR1fCT3"
      },
      "execution_count": null,
      "outputs": []
    },
    {
      "cell_type": "markdown",
      "source": [
        "\n",
        "\n",
        "## **7. Álgebra Lineal**\n",
        "\n",
        "**a)**\n",
        "Resuelve el sistema de ecuaciones lineales:\n",
        "\n",
        "\\[\n",
        "\\begin{cases}\n",
        "2x + y = 5 \\\\\n",
        "x - y = 1\n",
        "\\end{cases}\n",
        "\\]\n",
        "\n",
        "Utilizando funciones de NumPy.\n",
        "\n",
        "**b)**\n",
        "Calcula el determinante y la inversa de la siguiente matriz:\n",
        "\n",
        "```python\n",
        "A = np.array([[4, 7], [2, 6]])\n",
        "```\n",
        "\n"
      ],
      "metadata": {
        "id": "zjgrNyFQfB7t"
      }
    },
    {
      "cell_type": "code",
      "source": [],
      "metadata": {
        "id": "VPdd4MIsfA77"
      },
      "execution_count": null,
      "outputs": []
    },
    {
      "cell_type": "markdown",
      "source": [
        "\n",
        "## **8. Funciones Universales y Agregaciones**\n",
        "\n",
        "**a)**\n",
        "Dado el array:\n",
        "\n",
        "```python\n",
        "a = np.array([0, np.pi/2, np.pi, 3*np.pi/2])\n",
        "```\n",
        "\n",
        "Calcula el seno y el coseno de cada elemento.\n",
        "\n",
        "**b)**\n",
        "Genera un array de 1,000,000 de números aleatorios entre 0 y 1. Calcula la suma total y verifica el tiempo que toma utilizando las funciones de NumPy.\n",
        "\n"
      ],
      "metadata": {
        "id": "smmx68uufAx7"
      }
    },
    {
      "cell_type": "code",
      "source": [],
      "metadata": {
        "id": "ZjFBCZ9ifApv"
      },
      "execution_count": null,
      "outputs": []
    },
    {
      "cell_type": "markdown",
      "source": [
        "## **9. Máscaras y Filtrado**\n",
        "\n",
        "**a)**\n",
        "Dado el array:\n",
        "\n",
        "```python\n",
        "a = np.arange(20)\n",
        "```\n",
        "\n",
        "Obtén todos los elementos que sean múltiplos de 3.\n",
        "\n",
        "**b)**\n",
        "Crea una matriz de números enteros aleatorios entre 0 y 10 de tamaño 5x5. Reemplaza todos los elementos menores a 5 por 0.\n",
        "\n"
      ],
      "metadata": {
        "id": "1f_0JgElfAhb"
      }
    },
    {
      "cell_type": "code",
      "source": [],
      "metadata": {
        "id": "igCe22_KfAYf"
      },
      "execution_count": null,
      "outputs": []
    },
    {
      "cell_type": "markdown",
      "source": [
        "\n",
        "\n",
        "## **10. Concatenación y División de Arrays**\n",
        "\n",
        "**a)**\n",
        "Crea dos arrays:\n",
        "\n",
        "```python\n",
        "a = np.ones((2, 3))\n",
        "b = np.zeros((2, 3))\n",
        "```\n",
        "\n",
        "Concáténalos verticalmente y horizontalmente.\n",
        "\n",
        "**b)**\n",
        "Divide el siguiente array en tres sub-arrays iguales horizontalmente:\n",
        "\n",
        "```python\n",
        "a = np.arange(12).reshape(2, 6)\n",
        "```\n",
        "\n"
      ],
      "metadata": {
        "id": "O0_On2fhfAOr"
      }
    },
    {
      "cell_type": "code",
      "source": [],
      "metadata": {
        "id": "JEyXfkoDfAC1"
      },
      "execution_count": null,
      "outputs": []
    },
    {
      "cell_type": "markdown",
      "source": [
        "\n",
        "\n",
        "## **11. Uso de Fancy Indexing**\n",
        "\n",
        "**a)**\n",
        "Dado el array:\n",
        "\n",
        "```python\n",
        "a = np.arange(10, 0, -1)\n",
        "```\n",
        "\n",
        "Utiliza fancy indexing para ordenar el array en orden ascendente.\n",
        "\n",
        "**b)**\n",
        "Crea un array bidimensional de tamaño 5x5 con números enteros aleatorios entre 1 y 100. Selecciona los elementos en las posiciones (0,0), (1,1), (2,2), (3,3), (4,4).\n",
        "\n"
      ],
      "metadata": {
        "id": "Srqndnpee_xV"
      }
    },
    {
      "cell_type": "code",
      "source": [],
      "metadata": {
        "id": "VLKxuwb_e_jP"
      },
      "execution_count": null,
      "outputs": []
    },
    {
      "cell_type": "markdown",
      "source": [
        "\n",
        "\n",
        "## **12. Operaciones Lógicas**\n",
        "\n",
        "**a)**\n",
        "Dado los arrays:\n",
        "\n",
        "```python\n",
        "a = np.array([1, 3, 5, 7])\n",
        "b = np.array([2, 3, 5, 8])\n",
        "```\n",
        "\n",
        "Encuentra:\n",
        "\n",
        "- Los elementos comunes entre `a` y `b`.\n",
        "- Los elementos que están en `a` pero no en `b`.\n",
        "- Verifica si todos los elementos de `a` son menores que los de `b`.\n",
        "\n"
      ],
      "metadata": {
        "id": "oeKQlXBwfQNT"
      }
    },
    {
      "cell_type": "code",
      "source": [],
      "metadata": {
        "id": "R9jgZBqRfQ2d"
      },
      "execution_count": null,
      "outputs": []
    },
    {
      "cell_type": "markdown",
      "source": [
        "\n",
        "\n",
        "## **13. Funciones Estadísticas**\n",
        "\n",
        "**a)**\n",
        "Genera una matriz 4x5 de números aleatorios enteros entre 10 y 50. Calcula:\n",
        "\n",
        "- La media de cada fila.\n",
        "- La mediana de cada columna.\n",
        "- El valor más frecuente en toda la matriz.\n",
        "\n"
      ],
      "metadata": {
        "id": "amqiDlxpfRGd"
      }
    },
    {
      "cell_type": "code",
      "source": [],
      "metadata": {
        "id": "8fhTCIlNfRwn"
      },
      "execution_count": null,
      "outputs": []
    },
    {
      "cell_type": "markdown",
      "source": [
        "\n",
        "\n",
        "## **14. Ordenamiento y Búsqueda**\n",
        "\n",
        "**a)**\n",
        "Crea un array de 15 elementos aleatorios entre 1 y 100. Ordena el array y encuentra los 5 valores más pequeños.\n",
        "\n",
        "**b)**\n",
        "Dado el array:\n",
        "\n",
        "```python\n",
        "a = np.array([5, 2, 7, 4, 1, 3, 6])\n",
        "```\n",
        "\n",
        "Obtén los índices que ordenarían el array.\n",
        "\n"
      ],
      "metadata": {
        "id": "fODuk2AnfR9d"
      }
    },
    {
      "cell_type": "code",
      "source": [],
      "metadata": {
        "id": "M7sirpMsfSfr"
      },
      "execution_count": null,
      "outputs": []
    },
    {
      "cell_type": "markdown",
      "source": [
        "\n",
        "\n",
        "## **15. Copias y Vistas**\n",
        "\n",
        "**a)**\n",
        "Explica y demuestra la diferencia entre una copia y una vista en NumPy utilizando un ejemplo.\n",
        "\n",
        "**b)**\n",
        "Crea un array y genera una vista y una copia. Modifica ambas y observa cómo afectan al array original.\n",
        "\n"
      ],
      "metadata": {
        "id": "6d0dCaSYfSuz"
      }
    },
    {
      "cell_type": "code",
      "source": [],
      "metadata": {
        "id": "GQmZa9I2fTMA"
      },
      "execution_count": null,
      "outputs": []
    },
    {
      "cell_type": "markdown",
      "source": [
        "\n",
        "\n",
        "## **16. Manejo de Datos Faltantes**\n",
        "\n",
        "**a)**\n",
        "Crea un array que contenga algunos valores `np.nan`. Calcula la media del array ignorando los valores `nan`.\n",
        "\n",
        "**b)**\n",
        "Dado el array:\n",
        "\n",
        "```python\n",
        "a = np.array([1, 2, np.nan, 4, np.nan, 6])\n",
        "```\n",
        "\n",
        "Reemplaza los valores `nan` por el valor promedio de los elementos no nulos.\n",
        "\n"
      ],
      "metadata": {
        "id": "n-9cB-ohfTWN"
      }
    },
    {
      "cell_type": "code",
      "source": [],
      "metadata": {
        "id": "8hIrNlgjfT5d"
      },
      "execution_count": null,
      "outputs": []
    },
    {
      "cell_type": "markdown",
      "source": [
        "\n",
        "\n",
        "## **17. Funciones Matemáticas Especiales**\n",
        "\n",
        "**a)**\n",
        "Calcula el valor de la función sigmoid para cada elemento del siguiente array:\n",
        "\n",
        "```python\n",
        "a = np.array([-1, 0, 1])\n",
        "```\n",
        "\n",
        "Recordando que la función sigmoid es:\n",
        "\n",
        "\\[\n",
        "\\sigma(x) = \\frac{1}{1 + e^{-x}}\n",
        "\\]\n",
        "\n",
        "**b)**\n",
        "Evalúa la función de Bessel de primer tipo de orden cero en los puntos del array:\n",
        "\n",
        "```python\n",
        "x = np.linspace(0, 10, 5)\n",
        "```\n",
        "\n",
        "Utilizando las funciones especiales de SciPy.\n",
        "\n"
      ],
      "metadata": {
        "id": "JPN689xgfUHT"
      }
    },
    {
      "cell_type": "code",
      "source": [],
      "metadata": {
        "id": "QnnhtQtefUo5"
      },
      "execution_count": null,
      "outputs": []
    },
    {
      "cell_type": "markdown",
      "source": [
        "\n",
        "\n",
        "## **18. Trabajando con Fechas y Tiempos**\n",
        "\n",
        "**a)**\n",
        "Crea un array de fechas que represente todos los días del mes actual.\n",
        "\n",
        "**b)**\n",
        "Calcula la cantidad de días transcurridos entre dos fechas dadas utilizando arrays de NumPy.\n",
        "\n"
      ],
      "metadata": {
        "id": "4kUrG_xHfUzH"
      }
    },
    {
      "cell_type": "code",
      "source": [],
      "metadata": {
        "id": "JoaEzfMnfVRT"
      },
      "execution_count": null,
      "outputs": []
    },
    {
      "cell_type": "markdown",
      "source": [
        "\n",
        "\n",
        "## **19. Lectura y Escritura de Datos**\n",
        "\n",
        "**a)**\n",
        "Guarda un array de números aleatorios en un archivo de texto y luego cárgalo nuevamente.\n",
        "\n",
        "**b)**\n",
        "Lee un archivo CSV con datos numéricos y carga los datos en un array de NumPy.\n",
        "\n"
      ],
      "metadata": {
        "id": "4FBqOarzfVbh"
      }
    },
    {
      "cell_type": "code",
      "source": [],
      "metadata": {
        "id": "zEaUsmsifV3l"
      },
      "execution_count": null,
      "outputs": []
    },
    {
      "cell_type": "markdown",
      "source": [
        "\n",
        "\n",
        "## **20. Aplicaciones de Álgebra Lineal Avanzada**\n",
        "\n",
        "**a)**\n",
        "Dado el siguiente sistema de ecuaciones:\n",
        "\n",
        "\\[\n",
        "\\begin{cases}\n",
        "x + 2y + 3z = 14 \\\\\n",
        "4x + 5y + 6z = 32 \\\\\n",
        "7x + 8y + 9z = 50\n",
        "\\end{cases}\n",
        "\\]\n",
        "\n",
        "Resuélvelo utilizando NumPy.\n",
        "\n",
        "**b)**\n",
        "Calcula los valores y vectores propios de la siguiente matriz:\n",
        "\n",
        "```python\n",
        "A = np.array([[1, 2], [2, 1]])\n",
        "```\n",
        "\n"
      ],
      "metadata": {
        "id": "us05I8AVfWBh"
      }
    },
    {
      "cell_type": "code",
      "source": [],
      "metadata": {
        "id": "9Mae0uI4fWfX"
      },
      "execution_count": null,
      "outputs": []
    }
  ]
}