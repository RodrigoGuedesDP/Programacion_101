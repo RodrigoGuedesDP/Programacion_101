{
  "nbformat": 4,
  "nbformat_minor": 0,
  "metadata": {
    "colab": {
      "provenance": [],
      "authorship_tag": "ABX9TyMIbsrCx/poBO3AANQjltCT",
      "include_colab_link": true
    },
    "kernelspec": {
      "name": "python3",
      "display_name": "Python 3"
    },
    "language_info": {
      "name": "python"
    }
  },
  "cells": [
    {
      "cell_type": "markdown",
      "metadata": {
        "id": "view-in-github",
        "colab_type": "text"
      },
      "source": [
        "<a href=\"https://colab.research.google.com/github/RodrigoGuedesDP/Programacion_101/blob/main/Practicas_Python/Tic_tac_toe.ipynb\" target=\"_parent\"><img src=\"https://colab.research.google.com/assets/colab-badge.svg\" alt=\"Open In Colab\"/></a>"
      ]
    },
    {
      "cell_type": "markdown",
      "source": [
        "###TIC TAC TOE\n",
        "Programaremos un juego de tic tac toe donde la computadora juega random. Lo haremos con listas"
      ],
      "metadata": {
        "id": "sxf6Wg-49nAQ"
      }
    },
    {
      "cell_type": "code",
      "execution_count": 46,
      "metadata": {
        "colab": {
          "base_uri": "https://localhost:8080/",
          "height": 738
        },
        "id": "dCWzOsGX66GK",
        "outputId": "df7484dd-8c2a-4896-8306-31c7d0c68268"
      },
      "outputs": [
        {
          "output_type": "stream",
          "name": "stdout",
          "text": [
            "[' ' ' ' ' ']\n",
            "[' ' ' ' ' ']\n",
            "[' ' ' ' ' ']\n",
            "\n",
            "Menu de opciones:\n",
            "1. Arriba-izquierda\n",
            "2. Arriba-medio\n",
            "3. Arriba-derecha\n",
            "4. Medio-izquierda\n",
            "5. Medio\n",
            "6. Medio-derecha\n",
            "7. Abajo-izquierda\n",
            "8. Abajo-medio\n",
            "9. Abajo-derecha\n",
            " Eliga su movimiento: \n",
            "5\n",
            "[' ' ' ' ' ']\n",
            "[' ' 'X' ' ']\n",
            "[' ' ' ' ' ']\n",
            "[' ' ' ' ' ']\n",
            "[' ' 'X' ' ']\n",
            "[' ' ' ' 'O']\n"
          ]
        },
        {
          "output_type": "error",
          "ename": "KeyboardInterrupt",
          "evalue": "Interrupted by user",
          "traceback": [
            "\u001b[0;31m---------------------------------------------------------------------------\u001b[0m",
            "\u001b[0;31mKeyboardInterrupt\u001b[0m                         Traceback (most recent call last)",
            "\u001b[0;32m<ipython-input-46-fe2db156daea>\u001b[0m in \u001b[0;36m<cell line: 90>\u001b[0;34m()\u001b[0m\n\u001b[1;32m     88\u001b[0m \u001b[0;31m#probamos si funciona:\u001b[0m\u001b[0;34m\u001b[0m\u001b[0;34m\u001b[0m\u001b[0m\n\u001b[1;32m     89\u001b[0m \u001b[0;34m\u001b[0m\u001b[0m\n\u001b[0;32m---> 90\u001b[0;31m \u001b[0mjuego_tic_tac_toe\u001b[0m\u001b[0;34m(\u001b[0m\u001b[0mtictactoe\u001b[0m\u001b[0;34m)\u001b[0m\u001b[0;34m\u001b[0m\u001b[0;34m\u001b[0m\u001b[0m\n\u001b[0m\u001b[1;32m     91\u001b[0m \u001b[0;34m\u001b[0m\u001b[0m\n\u001b[1;32m     92\u001b[0m \u001b[0;34m\u001b[0m\u001b[0m\n",
            "\u001b[0;32m<ipython-input-46-fe2db156daea>\u001b[0m in \u001b[0;36mjuego_tic_tac_toe\u001b[0;34m(matriz)\u001b[0m\n\u001b[1;32m     69\u001b[0m   \u001b[0mcondiciones_juego\u001b[0m \u001b[0;34m=\u001b[0m \u001b[0;32mTrue\u001b[0m\u001b[0;34m\u001b[0m\u001b[0;34m\u001b[0m\u001b[0m\n\u001b[1;32m     70\u001b[0m   \u001b[0;32mwhile\u001b[0m \u001b[0mcondiciones_juego\u001b[0m \u001b[0;32mand\u001b[0m \u001b[0mcontador\u001b[0m \u001b[0;34m!=\u001b[0m \u001b[0;34m[\u001b[0m\u001b[0;34m]\u001b[0m\u001b[0;34m:\u001b[0m\u001b[0;34m\u001b[0m\u001b[0;34m\u001b[0m\u001b[0m\n\u001b[0;32m---> 71\u001b[0;31m     \u001b[0mjugada\u001b[0m\u001b[0;34m(\u001b[0m\u001b[0mmatriz\u001b[0m\u001b[0;34m)\u001b[0m\u001b[0;34m\u001b[0m\u001b[0;34m\u001b[0m\u001b[0m\n\u001b[0m\u001b[1;32m     72\u001b[0m     \u001b[0mcondicion\u001b[0m\u001b[0;34m(\u001b[0m\u001b[0mmatriz\u001b[0m\u001b[0;34m)\u001b[0m\u001b[0;34m\u001b[0m\u001b[0;34m\u001b[0m\u001b[0m\n\u001b[1;32m     73\u001b[0m     \u001b[0;32mif\u001b[0m \u001b[0mcondiciones_juego\u001b[0m \u001b[0;34m==\u001b[0m \u001b[0;32mFalse\u001b[0m\u001b[0;34m:\u001b[0m\u001b[0;34m\u001b[0m\u001b[0;34m\u001b[0m\u001b[0m\n",
            "\u001b[0;32m<ipython-input-46-fe2db156daea>\u001b[0m in \u001b[0;36mjugada\u001b[0;34m(matriz)\u001b[0m\n\u001b[1;32m     13\u001b[0m   \u001b[0;32mfor\u001b[0m \u001b[0mfila\u001b[0m \u001b[0;32min\u001b[0m \u001b[0mmatriz\u001b[0m\u001b[0;34m:\u001b[0m\u001b[0;34m\u001b[0m\u001b[0;34m\u001b[0m\u001b[0m\n\u001b[1;32m     14\u001b[0m     \u001b[0mprint\u001b[0m\u001b[0;34m(\u001b[0m\u001b[0mfila\u001b[0m\u001b[0;34m)\u001b[0m\u001b[0;34m\u001b[0m\u001b[0;34m\u001b[0m\u001b[0m\n\u001b[0;32m---> 15\u001b[0;31m   \u001b[0mmovimiento\u001b[0m \u001b[0;34m=\u001b[0m \u001b[0mint\u001b[0m\u001b[0;34m(\u001b[0m\u001b[0minput\u001b[0m\u001b[0;34m(\u001b[0m\u001b[0;34m\"\\nMenu de opciones:\\n1. Arriba-izquierda\\n2. Arriba-medio\\n3. Arriba-derecha\\n4. Medio-izquierda\\n5. Medio\\n6. Medio-derecha\\n7. Abajo-izquierda\\n8. Abajo-medio\\n9. Abajo-derecha\\n Eliga su movimiento: \\n\"\u001b[0m\u001b[0;34m)\u001b[0m\u001b[0;34m)\u001b[0m\u001b[0;34m\u001b[0m\u001b[0;34m\u001b[0m\u001b[0m\n\u001b[0m\u001b[1;32m     16\u001b[0m   \u001b[0;32mwhile\u001b[0m \u001b[0mmovimiento\u001b[0m \u001b[0;32mnot\u001b[0m \u001b[0;32min\u001b[0m \u001b[0mcontador\u001b[0m\u001b[0;34m:\u001b[0m\u001b[0;34m\u001b[0m\u001b[0;34m\u001b[0m\u001b[0m\n\u001b[1;32m     17\u001b[0m     \u001b[0mmovimiento\u001b[0m \u001b[0;34m=\u001b[0m \u001b[0mint\u001b[0m\u001b[0;34m(\u001b[0m\u001b[0minput\u001b[0m\u001b[0;34m(\u001b[0m\u001b[0;34m\"Debe elegir otra opcion porque ya esta tomada o es un valor incorrecto\"\u001b[0m\u001b[0;34m)\u001b[0m\u001b[0;34m)\u001b[0m\u001b[0;34m\u001b[0m\u001b[0;34m\u001b[0m\u001b[0m\n",
            "\u001b[0;32m/usr/local/lib/python3.10/dist-packages/ipykernel/kernelbase.py\u001b[0m in \u001b[0;36mraw_input\u001b[0;34m(self, prompt)\u001b[0m\n\u001b[1;32m    849\u001b[0m                 \u001b[0;34m\"raw_input was called, but this frontend does not support input requests.\"\u001b[0m\u001b[0;34m\u001b[0m\u001b[0;34m\u001b[0m\u001b[0m\n\u001b[1;32m    850\u001b[0m             )\n\u001b[0;32m--> 851\u001b[0;31m         return self._input_request(str(prompt),\n\u001b[0m\u001b[1;32m    852\u001b[0m             \u001b[0mself\u001b[0m\u001b[0;34m.\u001b[0m\u001b[0m_parent_ident\u001b[0m\u001b[0;34m,\u001b[0m\u001b[0;34m\u001b[0m\u001b[0;34m\u001b[0m\u001b[0m\n\u001b[1;32m    853\u001b[0m             \u001b[0mself\u001b[0m\u001b[0;34m.\u001b[0m\u001b[0m_parent_header\u001b[0m\u001b[0;34m,\u001b[0m\u001b[0;34m\u001b[0m\u001b[0;34m\u001b[0m\u001b[0m\n",
            "\u001b[0;32m/usr/local/lib/python3.10/dist-packages/ipykernel/kernelbase.py\u001b[0m in \u001b[0;36m_input_request\u001b[0;34m(self, prompt, ident, parent, password)\u001b[0m\n\u001b[1;32m    893\u001b[0m             \u001b[0;32mexcept\u001b[0m \u001b[0mKeyboardInterrupt\u001b[0m\u001b[0;34m:\u001b[0m\u001b[0;34m\u001b[0m\u001b[0;34m\u001b[0m\u001b[0m\n\u001b[1;32m    894\u001b[0m                 \u001b[0;31m# re-raise KeyboardInterrupt, to truncate traceback\u001b[0m\u001b[0;34m\u001b[0m\u001b[0;34m\u001b[0m\u001b[0m\n\u001b[0;32m--> 895\u001b[0;31m                 \u001b[0;32mraise\u001b[0m \u001b[0mKeyboardInterrupt\u001b[0m\u001b[0;34m(\u001b[0m\u001b[0;34m\"Interrupted by user\"\u001b[0m\u001b[0;34m)\u001b[0m \u001b[0;32mfrom\u001b[0m \u001b[0;32mNone\u001b[0m\u001b[0;34m\u001b[0m\u001b[0;34m\u001b[0m\u001b[0m\n\u001b[0m\u001b[1;32m    896\u001b[0m             \u001b[0;32mexcept\u001b[0m \u001b[0mException\u001b[0m \u001b[0;32mas\u001b[0m \u001b[0me\u001b[0m\u001b[0;34m:\u001b[0m\u001b[0;34m\u001b[0m\u001b[0;34m\u001b[0m\u001b[0m\n\u001b[1;32m    897\u001b[0m                 \u001b[0mself\u001b[0m\u001b[0;34m.\u001b[0m\u001b[0mlog\u001b[0m\u001b[0;34m.\u001b[0m\u001b[0mwarning\u001b[0m\u001b[0;34m(\u001b[0m\u001b[0;34m\"Invalid Message:\"\u001b[0m\u001b[0;34m,\u001b[0m \u001b[0mexc_info\u001b[0m\u001b[0;34m=\u001b[0m\u001b[0;32mTrue\u001b[0m\u001b[0;34m)\u001b[0m\u001b[0;34m\u001b[0m\u001b[0;34m\u001b[0m\u001b[0m\n",
            "\u001b[0;31mKeyboardInterrupt\u001b[0m: Interrupted by user"
          ]
        }
      ],
      "source": [
        "import numpy as np\n",
        "import random\n",
        "matriz1 = [\n",
        "    [\" \", \" \", \" \"],\n",
        "    [\" \", \" \", \" \"],\n",
        "    [\" \", \" \", \" \"]\n",
        "]\n",
        "tictactoe = np.array(matriz1)\n",
        "equivalencias = {1 : [0, 0], 2: [0, 1],3: [0, 2],4: [1, 0],5: [1, 1],6: [1, 2],7: [2, 0],8: [2, 1],9: [2, 2] }\n",
        "contador = list(x for x in range(1, 10))\n",
        "#funcion para la jugada del primer jugador. Haremos otra para el movimiento de la pc.\n",
        "def jugada(matriz):\n",
        "  for fila in matriz:\n",
        "    print(fila)\n",
        "  print(\"\\n       \")\n",
        "  movimiento = int(input(\"\\nMenu de opciones:\\n1. Arriba-izquierda\\n2. Arriba-medio\\n3. Arriba-derecha\\n4. Medio-izquierda\\n5. Medio\\n6. Medio-derecha\\n7. Abajo-izquierda\\n8. Abajo-medio\\n9. Abajo-derecha\\n Eliga su movimiento: \\n\"))\n",
        "  while movimiento not in contador:\n",
        "    movimiento = int(input(\"Debe elegir otra opcion porque ya esta tomada o es un valor incorrecto\"))\n",
        "  lista = equivalencias[movimiento]\n",
        "  x= lista[0]\n",
        "  y= lista[1]\n",
        "  matriz[x][y] = \"X\"\n",
        "  for fila in matriz:\n",
        "    print(fila)\n",
        "  contador.remove(movimiento)\n",
        "  return matriz\n",
        "  return contador\n",
        "#funcion para el movimiento aleatorio de la PC\n",
        "def jugada_pc(matriz):\n",
        "  aleatorio = random.randint(1, 9)\n",
        "  while aleatorio not in contador:\n",
        "    aleatorio = random.randint(1, 9)\n",
        "  lista = equivalencias[aleatorio]\n",
        "  x= lista[0]\n",
        "  y= lista[1]\n",
        "  matriz[x][y] = \"O\"\n",
        "  contador.remove(aleatorio)\n",
        "  return matriz\n",
        "  return contador\n",
        "\n",
        "#las condiciones para ganar son 8 combinaciones de rayas con el mismo valor, y distinto de \" \"\n",
        "def condicion(matriz):\n",
        "  condiciones_juego = True\n",
        "  for i in range (0, 3):\n",
        "    if matriz[i,0] == matriz[i,1] and  matriz[i,0] == matriz[i,2] and matriz[i,0] != \" \" :\n",
        "      condiciones_juego = False\n",
        "    elif matriz[0,i] == matriz[1,i] and  matriz[0,i] == matriz[2,i] and matriz[0,i] != \" \":\n",
        "      condiciones_juego = False\n",
        "    elif matriz[0,0] == matriz[1,1] and  matriz[0,0] == matriz[2,2] and matriz[0,0] != \" \":\n",
        "      condiciones_juego = False\n",
        "    elif matriz[0,2] == matriz[1,1] and  matriz[0,2] == matriz[2,0] and matriz[0,2] != \" \":\n",
        "      condiciones_juego = False\n",
        "  return condiciones_juego\n",
        "\n",
        "# funcion para que una vez haya un ganador lo calcule\n",
        "def ganador(matriz):\n",
        "  for i in range (0, 3):\n",
        "    if matriz[i,0] == matriz[i,1] and  matriz[i,0] == matriz[i,2] and matriz[i,0] != \" \" :\n",
        "      vencedor = matriz[i,0]\n",
        "    elif matriz[0,i] == matriz[1,i] and  matriz[0,i] == matriz[2,i] and matriz[0,i] != \" \":\n",
        "      vencedor = matriz[0,i]\n",
        "    elif matriz[0,0] == matriz[1,1] and  matriz[0,0] == matriz[2,2] and matriz[0,0] != \" \":\n",
        "      vencedor = matriz[0,0]\n",
        "    elif matriz[0,2] == matriz[1,1] and  matriz[0,2] == matriz[2,0] and matriz[0,2] != \" \":\n",
        "      vencedor = matriz[0,2]\n",
        "  return vencedor\n",
        "\n",
        "# funcion del juego que englobe todo\n",
        "def juego_tic_tac_toe(matriz):\n",
        "  condiciones_juego = True\n",
        "  while condiciones_juego and contador != []:\n",
        "    jugada(matriz)\n",
        "    condicion(matriz)\n",
        "    if condiciones_juego == False:\n",
        "      break\n",
        "    jugada_pc(matriz)\n",
        "    condicion(matriz)\n",
        "    if condiciones_juego == False:\n",
        "      break\n",
        "  if condiciones_juego == False:\n",
        "    ganador(matriz)\n",
        "    if vencedor == \"X\":\n",
        "      print(\"Felicitaciones, has ganado!\")\n",
        "    elif vencedor == \"O\":\n",
        "      print(\"Has perdido ante la maquina\")\n",
        "  elif contador == []:\n",
        "     print(\"El juego ha terminado en empate\")\n",
        "\n",
        "#probamos si funciona:\n",
        "\n",
        "juego_tic_tac_toe(tictactoe)\n",
        "\n",
        "\n",
        "\n",
        "\n",
        "\n"
      ]
    },
    {
      "cell_type": "code",
      "source": [
        "import numpy as np\n",
        "matriz1 = [\n",
        "    [\"X\", \" \", \" \"],\n",
        "    [\"X\", \" \", \" \"],\n",
        "    [\" \", \" \", \" \"]\n",
        "]\n",
        "tictactoe = np.array(matriz1)\n",
        "def condicion(matriz):\n",
        "  condiciones_juego = True\n",
        "  for i in range (0, 3):\n",
        "    if matriz[i,0] == matriz[i,1] and  matriz[i,0] == matriz[i,2] and matriz[i,0] != \" \" :\n",
        "      condiciones_juego = False\n",
        "    elif matriz[0,i] == matriz[1,i] and  matriz[0,i] == matriz[2,i] and matriz[0,i] != \" \":\n",
        "      condiciones_juego = False\n",
        "    elif matriz[0,0] == matriz[1,1] and  matriz[0,0] == matriz[2,2] and matriz[0,0] != \" \":\n",
        "      condiciones_juego = False\n",
        "    elif matriz[0,2] == matriz[1,1] and  matriz[0,2] == matriz[2,0] and matriz[0,2] != \" \":\n",
        "      condiciones_juego = False\n",
        "  return condiciones_juego\n",
        "condicion(tictactoe)"
      ],
      "metadata": {
        "colab": {
          "base_uri": "https://localhost:8080/"
        },
        "id": "JEUdtQ3CsNSV",
        "outputId": "0ede0bdd-b445-478d-ea5c-6ba55c2e7cb6"
      },
      "execution_count": 37,
      "outputs": [
        {
          "output_type": "execute_result",
          "data": {
            "text/plain": [
              "True"
            ]
          },
          "metadata": {},
          "execution_count": 37
        }
      ]
    },
    {
      "cell_type": "code",
      "source": [
        "import numpy as np\n",
        "matriz1 = [\n",
        "    [\"X\", \" \", \" \"],\n",
        "    [\"X\", \" \", \" \"],\n",
        "    [\"X\", \" \", \" \"]\n",
        "]\n",
        "tictactoe = np.array(matriz1)\n",
        "def ganador(matriz):\n",
        "  for i in range (0, 3):\n",
        "    if matriz[i,0] == matriz[i,1] and  matriz[i,0] == matriz[i,2] and matriz[i,0] != \" \" :\n",
        "      ganador = matriz[i,0]\n",
        "    elif matriz[0,i] == matriz[1,i] and  matriz[0,i] == matriz[2,i] and matriz[0,i] != \" \":\n",
        "      ganador = matriz[0,i]\n",
        "    elif matriz[0,0] == matriz[1,1] and  matriz[0,0] == matriz[2,2] and matriz[0,0] != \" \":\n",
        "      ganador = matriz[0,0]\n",
        "    elif matriz[0,2] == matriz[1,1] and  matriz[0,2] == matriz[2,0] and matriz[0,2] != \" \":\n",
        "      ganador = matriz[0,2]\n",
        "  return ganador\n",
        "  if ganador == \"X\":\n",
        "    vencedor = \"El jugador\"\n",
        "  elif ganador == \"O\":\n",
        "    vencedor = \"La PC\"\n",
        "  return vencedor\n",
        "ganador(tictactoe)"
      ],
      "metadata": {
        "colab": {
          "base_uri": "https://localhost:8080/",
          "height": 35
        },
        "id": "k_t559cqGTFs",
        "outputId": "11cd530f-356e-49bd-c85c-2abdd6d3bf83"
      },
      "execution_count": 39,
      "outputs": [
        {
          "output_type": "execute_result",
          "data": {
            "text/plain": [
              "'X'"
            ],
            "application/vnd.google.colaboratory.intrinsic+json": {
              "type": "string"
            }
          },
          "metadata": {},
          "execution_count": 39
        }
      ]
    },
    {
      "cell_type": "markdown",
      "source": [
        "#### Ejemplo de como hacer whiles anidados"
      ],
      "metadata": {
        "id": "fH3izZ3QnSqA"
      }
    },
    {
      "cell_type": "code",
      "source": [
        "\n",
        "import random\n",
        "contador = list(x for x in range(1, 6))\n",
        "intentos = 0\n",
        "print(contador)\n",
        "while contador != []:\n",
        "  aleatorio = random.randint(1,5)\n",
        "  intentos += 1\n",
        "  while aleatorio in contador:\n",
        "      print(f\"A la lista {contador} le quitamos {aleatorio}.\")\n",
        "      contador.remove(aleatorio)\n",
        "  print(f\"El numero que salio ({aleatorio}) no esta en la lista {contador}\")\n",
        "print(f\"se termino el bucle en {intentos} intentos\")"
      ],
      "metadata": {
        "colab": {
          "base_uri": "https://localhost:8080/"
        },
        "id": "qUfNGD0_bm54",
        "outputId": "1574954b-1dda-4c7f-c4e1-d81cf39c7e53"
      },
      "execution_count": 19,
      "outputs": [
        {
          "output_type": "stream",
          "name": "stdout",
          "text": [
            "[1, 2, 3, 4, 5]\n",
            "A la lista [1, 2, 3, 4, 5] le quitamos 4.\n",
            "El numero que salio (4) no esta en la lista [1, 2, 3, 5]\n",
            "A la lista [1, 2, 3, 5] le quitamos 5.\n",
            "El numero que salio (5) no esta en la lista [1, 2, 3]\n",
            "El numero que salio (4) no esta en la lista [1, 2, 3]\n",
            "A la lista [1, 2, 3] le quitamos 3.\n",
            "El numero que salio (3) no esta en la lista [1, 2]\n",
            "El numero que salio (3) no esta en la lista [1, 2]\n",
            "El numero que salio (5) no esta en la lista [1, 2]\n",
            "El numero que salio (5) no esta en la lista [1, 2]\n",
            "El numero que salio (5) no esta en la lista [1, 2]\n",
            "A la lista [1, 2] le quitamos 1.\n",
            "El numero que salio (1) no esta en la lista [2]\n",
            "El numero que salio (3) no esta en la lista [2]\n",
            "El numero que salio (3) no esta en la lista [2]\n",
            "El numero que salio (5) no esta en la lista [2]\n",
            "El numero que salio (3) no esta en la lista [2]\n",
            "A la lista [2] le quitamos 2.\n",
            "El numero que salio (2) no esta en la lista []\n",
            "se termino el bucle en 14 intentos\n"
          ]
        }
      ]
    },
    {
      "cell_type": "code",
      "source": [
        "respuesta_correcta = 7\n",
        "respuesta = 0\n",
        "\n",
        "while respuesta != respuesta_correcta:\n",
        "    respuesta = int(input(\"Adivina el número (1-10): \"))\n",
        "print(\"¡Correcto!\")"
      ],
      "metadata": {
        "id": "S0m102QURRXM"
      },
      "execution_count": null,
      "outputs": []
    },
    {
      "cell_type": "code",
      "source": [
        "movimiento = int(input(\"Menu de opciones:\\n1. Arriba-izquierda\\n2. Arriba-medio\\n3. Arriba-derecha\\n4. Medio-izquierda\\n5. Medio\\n6. Medio-derecha\\n7. Abajo-izquierda\\n8. Abajo-medio\\n9. Abajo-derecha\\n Eliga su movimiento: \"))"
      ],
      "metadata": {
        "colab": {
          "base_uri": "https://localhost:8080/"
        },
        "id": "1YS11Ct7V_hI",
        "outputId": "8b126fc8-3e4c-49b0-9fee-046177aba1d6"
      },
      "execution_count": 2,
      "outputs": [
        {
          "name": "stdout",
          "output_type": "stream",
          "text": [
            "Menu de opciones:\n",
            "1. Arriba-izquierda\n",
            "2. Arriba-medio\n",
            "3. Arriba-derecha\n",
            "4. Medio-izquierda\n",
            "5. Medio\n",
            "6. Medio-derecha\n",
            "7. Abajo-izquierda\n",
            "8. Abajo-medio\n",
            "9. Abajo-derecha\n",
            " Eliga su movimiento: 9\n"
          ]
        }
      ]
    },
    {
      "cell_type": "code",
      "source": [
        "def mostrar_menu():\n",
        "    print(\"Menú de Opciones:\")\n",
        "    print(\"1. Opción 1\")\n",
        "    print(\"2. Opción 2\")\n",
        "    print(\"3. Opción 3\")\n",
        "    print(\"4. Salir\")\n",
        "\n",
        "def ejecutar_opcion(opcion):\n",
        "    if opcion == \"1\":\n",
        "        print(\"Has seleccionado la Opción 1.\")\n",
        "    elif opcion == \"2\":\n",
        "        print(\"Has seleccionado la Opción 2.\")\n",
        "    elif opcion == \"3\":\n",
        "        print(\"Has seleccionado la Opción 3.\")\n",
        "    elif opcion == \"4\":\n",
        "        print(\"Saliendo del programa...\")\n",
        "    else:\n",
        "        print(\"Opción no válida. Intenta de nuevo.\")\n",
        "\n",
        "while True:\n",
        "    mostrar_menu()\n",
        "    opcion = input(\"Menú de Opciones:\"\\n\"Elige una opción: \")\n",
        "    if opcion == \"4\":  # Si elige salir, termina el bucle\n",
        "        ejecutar_opcion(opcion)\n",
        "        break\n",
        "    else:\n",
        "        ejecutar_opcion(opcion)\n"
      ],
      "metadata": {
        "colab": {
          "base_uri": "https://localhost:8080/",
          "height": 564
        },
        "id": "gmypxTt4-_k0",
        "outputId": "9d7cc201-566e-4212-a908-f6ac55931e53"
      },
      "execution_count": 1,
      "outputs": [
        {
          "output_type": "stream",
          "name": "stdout",
          "text": [
            "Menú de Opciones:\n",
            "1. Opción 1\n",
            "2. Opción 2\n",
            "3. Opción 3\n",
            "4. Salir\n",
            "Elige una opción: 2\n",
            "Has seleccionado la Opción 2.\n",
            "Menú de Opciones:\n",
            "1. Opción 1\n",
            "2. Opción 2\n",
            "3. Opción 3\n",
            "4. Salir\n"
          ]
        },
        {
          "output_type": "error",
          "ename": "KeyboardInterrupt",
          "evalue": "Interrupted by user",
          "traceback": [
            "\u001b[0;31m---------------------------------------------------------------------------\u001b[0m",
            "\u001b[0;31mKeyboardInterrupt\u001b[0m                         Traceback (most recent call last)",
            "\u001b[0;32m<ipython-input-1-ea3379d3abd9>\u001b[0m in \u001b[0;36m<cell line: 20>\u001b[0;34m()\u001b[0m\n\u001b[1;32m     20\u001b[0m \u001b[0;32mwhile\u001b[0m \u001b[0;32mTrue\u001b[0m\u001b[0;34m:\u001b[0m\u001b[0;34m\u001b[0m\u001b[0;34m\u001b[0m\u001b[0m\n\u001b[1;32m     21\u001b[0m     \u001b[0mmostrar_menu\u001b[0m\u001b[0;34m(\u001b[0m\u001b[0;34m)\u001b[0m\u001b[0;34m\u001b[0m\u001b[0;34m\u001b[0m\u001b[0m\n\u001b[0;32m---> 22\u001b[0;31m     \u001b[0mopcion\u001b[0m \u001b[0;34m=\u001b[0m \u001b[0minput\u001b[0m\u001b[0;34m(\u001b[0m\u001b[0;34m\"Elige una opción: \"\u001b[0m\u001b[0;34m)\u001b[0m\u001b[0;34m\u001b[0m\u001b[0;34m\u001b[0m\u001b[0m\n\u001b[0m\u001b[1;32m     23\u001b[0m     \u001b[0;32mif\u001b[0m \u001b[0mopcion\u001b[0m \u001b[0;34m==\u001b[0m \u001b[0;34m\"4\"\u001b[0m\u001b[0;34m:\u001b[0m  \u001b[0;31m# Si elige salir, termina el bucle\u001b[0m\u001b[0;34m\u001b[0m\u001b[0;34m\u001b[0m\u001b[0m\n\u001b[1;32m     24\u001b[0m         \u001b[0mejecutar_opcion\u001b[0m\u001b[0;34m(\u001b[0m\u001b[0mopcion\u001b[0m\u001b[0;34m)\u001b[0m\u001b[0;34m\u001b[0m\u001b[0;34m\u001b[0m\u001b[0m\n",
            "\u001b[0;32m/usr/local/lib/python3.10/dist-packages/ipykernel/kernelbase.py\u001b[0m in \u001b[0;36mraw_input\u001b[0;34m(self, prompt)\u001b[0m\n\u001b[1;32m    849\u001b[0m                 \u001b[0;34m\"raw_input was called, but this frontend does not support input requests.\"\u001b[0m\u001b[0;34m\u001b[0m\u001b[0;34m\u001b[0m\u001b[0m\n\u001b[1;32m    850\u001b[0m             )\n\u001b[0;32m--> 851\u001b[0;31m         return self._input_request(str(prompt),\n\u001b[0m\u001b[1;32m    852\u001b[0m             \u001b[0mself\u001b[0m\u001b[0;34m.\u001b[0m\u001b[0m_parent_ident\u001b[0m\u001b[0;34m,\u001b[0m\u001b[0;34m\u001b[0m\u001b[0;34m\u001b[0m\u001b[0m\n\u001b[1;32m    853\u001b[0m             \u001b[0mself\u001b[0m\u001b[0;34m.\u001b[0m\u001b[0m_parent_header\u001b[0m\u001b[0;34m,\u001b[0m\u001b[0;34m\u001b[0m\u001b[0;34m\u001b[0m\u001b[0m\n",
            "\u001b[0;32m/usr/local/lib/python3.10/dist-packages/ipykernel/kernelbase.py\u001b[0m in \u001b[0;36m_input_request\u001b[0;34m(self, prompt, ident, parent, password)\u001b[0m\n\u001b[1;32m    893\u001b[0m             \u001b[0;32mexcept\u001b[0m \u001b[0mKeyboardInterrupt\u001b[0m\u001b[0;34m:\u001b[0m\u001b[0;34m\u001b[0m\u001b[0;34m\u001b[0m\u001b[0m\n\u001b[1;32m    894\u001b[0m                 \u001b[0;31m# re-raise KeyboardInterrupt, to truncate traceback\u001b[0m\u001b[0;34m\u001b[0m\u001b[0;34m\u001b[0m\u001b[0m\n\u001b[0;32m--> 895\u001b[0;31m                 \u001b[0;32mraise\u001b[0m \u001b[0mKeyboardInterrupt\u001b[0m\u001b[0;34m(\u001b[0m\u001b[0;34m\"Interrupted by user\"\u001b[0m\u001b[0;34m)\u001b[0m \u001b[0;32mfrom\u001b[0m \u001b[0;32mNone\u001b[0m\u001b[0;34m\u001b[0m\u001b[0;34m\u001b[0m\u001b[0m\n\u001b[0m\u001b[1;32m    896\u001b[0m             \u001b[0;32mexcept\u001b[0m \u001b[0mException\u001b[0m \u001b[0;32mas\u001b[0m \u001b[0me\u001b[0m\u001b[0;34m:\u001b[0m\u001b[0;34m\u001b[0m\u001b[0;34m\u001b[0m\u001b[0m\n\u001b[1;32m    897\u001b[0m                 \u001b[0mself\u001b[0m\u001b[0;34m.\u001b[0m\u001b[0mlog\u001b[0m\u001b[0;34m.\u001b[0m\u001b[0mwarning\u001b[0m\u001b[0;34m(\u001b[0m\u001b[0;34m\"Invalid Message:\"\u001b[0m\u001b[0;34m,\u001b[0m \u001b[0mexc_info\u001b[0m\u001b[0;34m=\u001b[0m\u001b[0;32mTrue\u001b[0m\u001b[0;34m)\u001b[0m\u001b[0;34m\u001b[0m\u001b[0;34m\u001b[0m\u001b[0m\n",
            "\u001b[0;31mKeyboardInterrupt\u001b[0m: Interrupted by user"
          ]
        }
      ]
    }
  ]
}