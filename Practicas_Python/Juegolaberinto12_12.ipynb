{
  "nbformat": 4,
  "nbformat_minor": 0,
  "metadata": {
    "colab": {
      "provenance": [],
      "authorship_tag": "ABX9TyPt84nMGHTvoGSfOt+1kbU3",
      "include_colab_link": true
    },
    "kernelspec": {
      "name": "python3",
      "display_name": "Python 3"
    },
    "language_info": {
      "name": "python"
    }
  },
  "cells": [
    {
      "cell_type": "markdown",
      "metadata": {
        "id": "view-in-github",
        "colab_type": "text"
      },
      "source": [
        "<a href=\"https://colab.research.google.com/github/RodrigoGuedesDP/Programacion_101/blob/main/Practicas_Python/Juegolaberinto12_12.ipynb\" target=\"_parent\"><img src=\"https://colab.research.google.com/assets/colab-badge.svg\" alt=\"Open In Colab\"/></a>"
      ]
    },
    {
      "cell_type": "code",
      "execution_count": 4,
      "metadata": {
        "colab": {
          "base_uri": "https://localhost:8080/"
        },
        "id": "Ndb25NG-f-_4",
        "outputId": "2472d739-1909-4ca8-a247-9fa983cf1db1"
      },
      "outputs": [
        {
          "output_type": "stream",
          "name": "stdout",
          "text": [
            "['#', '#', '#', '#', '#', '#', '#', '#', '#', '#', '#', '#']\n",
            "['#', ' ', ' ', ' ', ' ', ' ', ' ', ' ', ' ', ' ', ' ', '#']\n",
            "['#', ' ', ' ', ' ', ' ', ' ', ' ', ' ', ' ', ' ', ' ', '#']\n",
            "['#', ' ', ' ', ' ', ' ', ' ', ' ', ' ', ' ', ' ', ' ', '#']\n",
            "['#', ' ', ' ', ' ', ' ', ' ', ' ', ' ', ' ', ' ', ' ', '#']\n",
            "['#', ' ', ' ', ' ', ' ', ' ', ' ', ' ', ' ', ' ', ' ', '#']\n",
            "['#', ' ', ' ', ' ', ' ', ' ', ' ', ' ', ' ', ' ', ' ', '#']\n",
            "['#', ' ', ' ', ' ', ' ', ' ', ' ', ' ', ' ', ' ', ' ', '#']\n",
            "['#', ' ', ' ', ' ', ' ', ' ', ' ', ' ', ' ', ' ', ' ', '#']\n",
            "['#', ' ', ' ', ' ', ' ', ' ', ' ', ' ', ' ', ' ', ' ', '#']\n",
            "['#', ' ', ' ', ' ', ' ', ' ', ' ', ' ', ' ', ' ', ' ', 'O']\n",
            "['#', '#', '#', '#', '#', '#', '#', '#', '#', '#', '#', '#']\n"
          ]
        }
      ],
      "source": [
        "#Hacemos un juego de laberinto que sea 12x12\n",
        "import random\n",
        "\n",
        "laberinto = [ ]\n",
        "laberinto.append([\"#\" for _ in range(12)])\n",
        "for x in range(9):\n",
        "  aumento = []\n",
        "  aumento += [\"#\"] + [\" \" for _ in range(10)] + [\"#\"]\n",
        "  laberinto.append(aumento)\n",
        "laberinto.append( [\"#\"] + [\" \" for _ in range(10)] + [\"O\"])\n",
        "laberinto.append([\"#\" for _ in range(12)])\n",
        "for fila in laberinto:\n",
        "  print(fila)\n",
        "\n",
        "menu_opciones = (\n",
        "        \"\\nMenú de opciones:\\n\"\n",
        "        \"1. Arriba\\n\"\n",
        "        \"2. Derecha\\n\"\n",
        "        \"3. Abajo\\n\"\n",
        "        \"4. Izquierda\"\n",
        ")\n",
        "def posicion_jugador(matriz, posicion):\n",
        "  #posicion del jugador antes de hacer su movimiento\n",
        "  x, y = posicion\n",
        "\n",
        "\n",
        "#necesitamos un contador de donde ha estado el jugador, para cambiar ese estado como \"X\"\n",
        "#necesitamos\n",
        "\n",
        "historial_posicion = []\n",
        "vida = 200\n",
        "inventario = {}\n",
        "veneno = \"xwedw\"\n",
        "puzzles = \"dwdwdw\"\n",
        "armas_secretas = {}\n",
        "monstruos = {}\n",
        "vida_extra = []\n",
        "\n",
        "\n",
        "\n",
        "\n",
        "\n",
        "\n",
        "\n",
        "\n",
        "\n",
        "\n",
        "\n",
        "\n",
        "\n",
        "\n"
      ]
    }
  ]
}