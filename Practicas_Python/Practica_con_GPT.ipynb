{
  "nbformat": 4,
  "nbformat_minor": 0,
  "metadata": {
    "colab": {
      "provenance": [],
      "authorship_tag": "ABX9TyM15kQJwJjUp2TA54pOFZiX",
      "include_colab_link": true
    },
    "kernelspec": {
      "name": "python3",
      "display_name": "Python 3"
    },
    "language_info": {
      "name": "python"
    }
  },
  "cells": [
    {
      "cell_type": "markdown",
      "metadata": {
        "id": "view-in-github",
        "colab_type": "text"
      },
      "source": [
        "<a href=\"https://colab.research.google.com/github/RodrigoGuedesDP/Programacion_101/blob/main/Practicas_Python/Practica_con_GPT.ipynb\" target=\"_parent\"><img src=\"https://colab.research.google.com/assets/colab-badge.svg\" alt=\"Open In Colab\"/></a>"
      ]
    },
    {
      "cell_type": "markdown",
      "source": [
        "# 10 ejercicios con GPT\n"
      ],
      "metadata": {
        "id": "a8CV01MOeGoR"
      }
    },
    {
      "cell_type": "markdown",
      "source": [
        "### 1. Manipulación de strings y listas:\n",
        "Escribe una función que reciba una cadena de texto con varias palabras separadas por espacios y devuelva una lista con las palabras, pero ordenadas alfabéticamente y con las mayúsculas convertidas a minúsculas. No puedes utilizar métodos predefinidos como sorted() o lower()."
      ],
      "metadata": {
        "id": "V140_YPEeNr4"
      }
    },
    {
      "cell_type": "code",
      "execution_count": null,
      "metadata": {
        "id": "-WG8GGVheB3m"
      },
      "outputs": [],
      "source": []
    },
    {
      "cell_type": "markdown",
      "source": [
        "### 2. Diccionarios y comprensión de listas:\n",
        "Dado un diccionario que contiene el nombre de productos como claves y una lista con las cantidades vendidas en cada día de la semana como valores, escribe una función que devuelva un nuevo diccionario con el nombre del producto y el promedio de ventas diarias para ese producto. Usa comprensión de listas para calcular el promedio.\n",
        "\n",
        "Ejemplo de diccionario:"
      ],
      "metadata": {
        "id": "MLaG0nyqeSFc"
      }
    },
    {
      "cell_type": "code",
      "source": [
        "ventas = {\n",
        "    \"camisas\": [5, 6, 7, 8, 9, 3, 2],\n",
        "    \"pantalones\": [1, 2, 3, 4, 5, 6, 7]\n",
        "}\n"
      ],
      "metadata": {
        "id": "-l_NUH98eYA0"
      },
      "execution_count": null,
      "outputs": []
    },
    {
      "cell_type": "markdown",
      "source": [
        "### 3. Listas, tuplas y estructuras condicionales:\n",
        "Dado una lista de números enteros, crea una función que reciba la lista y devuelva una tupla con dos listas. La primera lista contendrá los números pares y la segunda los números impares. Además, los números en cada lista deben estar ordenados en orden descendente."
      ],
      "metadata": {
        "id": "4YCnS229ebw3"
      }
    },
    {
      "cell_type": "code",
      "source": [],
      "metadata": {
        "id": "v6_D5VT1eole"
      },
      "execution_count": null,
      "outputs": []
    },
    {
      "cell_type": "markdown",
      "source": [
        "### 4. Sets y operaciones con conjuntos:\n",
        "Dado dos sets de números enteros, escribe una función que devuelva un set con los números que están en uno u otro conjunto, pero no en ambos (es decir, la diferencia simétrica). No puedes utilizar el método symmetric_difference()."
      ],
      "metadata": {
        "id": "YI6llmUfeiFd"
      }
    },
    {
      "cell_type": "code",
      "source": [],
      "metadata": {
        "id": "sFc1LoWRehuf"
      },
      "execution_count": null,
      "outputs": []
    },
    {
      "cell_type": "markdown",
      "source": [
        "### 5. Manejo de diccionarios y condicionales:\n",
        "Dado un diccionario con los nombres de los estudiantes y sus calificaciones en una lista, escribe una función que clasifique a los estudiantes en \"aprobado\" o \"reprobado\" según un promedio mínimo de 6. Devuelve un nuevo diccionario con los nombres de los estudiantes como claves y \"aprobado\" o \"reprobado\" como valores."
      ],
      "metadata": {
        "id": "r-1ts54Jezay"
      }
    },
    {
      "cell_type": "code",
      "source": [],
      "metadata": {
        "id": "QEYG-MJTe2B9"
      },
      "execution_count": null,
      "outputs": []
    },
    {
      "cell_type": "markdown",
      "source": [
        "### 6. Matrices (listas de listas) y slicing:\n",
        "Dada una matriz de números enteros de 5x5, escribe una función que reciba la matriz y devuelva una nueva matriz con la diagonal principal (de arriba a la izquierda a abajo a la derecha) reemplazada por ceros. Usa slicing para acceder a la diagonal principal."
      ],
      "metadata": {
        "id": "ti6bjhVze3B5"
      }
    },
    {
      "cell_type": "code",
      "source": [],
      "metadata": {
        "id": "i2Ldq-Fee59D"
      },
      "execution_count": null,
      "outputs": []
    },
    {
      "cell_type": "markdown",
      "source": [
        "### 7. Slicing y listas:\n",
        "Dada una lista de números enteros, escribe una función que reciba la lista y devuelva una nueva lista que contenga solo los números que están en las posiciones pares. Usa slicing para resolver el problema.\n",
        "\n"
      ],
      "metadata": {
        "id": "b1iqHnuIe6Tl"
      }
    },
    {
      "cell_type": "code",
      "source": [],
      "metadata": {
        "id": "YDg-CJfMe-rI"
      },
      "execution_count": null,
      "outputs": []
    },
    {
      "cell_type": "markdown",
      "source": [
        "### 8. List comprehension y diccionarios:\n",
        "Escribe una función que reciba un diccionario donde las claves son nombres de estudiantes y los valores son listas con sus calificaciones. Utiliza comprensión de listas para devolver un nuevo diccionario que contenga únicamente a los estudiantes cuyo promedio de calificaciones sea mayor a 7."
      ],
      "metadata": {
        "id": "DcH5UhtZe_GN"
      }
    },
    {
      "cell_type": "code",
      "source": [],
      "metadata": {
        "id": "L-8zrYiWfDkT"
      },
      "execution_count": null,
      "outputs": []
    },
    {
      "cell_type": "markdown",
      "source": [
        "### 9. Estructuras condicionales y tuplas:\n",
        "Dada una tupla de números enteros, escribe una función que determine si la tupla es simétrica. Una tupla es simétrica si se puede leer igual de izquierda a derecha que de derecha a izquierda."
      ],
      "metadata": {
        "id": "3nIK241MfD-3"
      }
    },
    {
      "cell_type": "code",
      "source": [],
      "metadata": {
        "id": "2ZgD0UbkfG5r"
      },
      "execution_count": null,
      "outputs": []
    },
    {
      "cell_type": "markdown",
      "source": [
        "### 10. Manipulación de strings y diccionarios:\n",
        "Dado un párrafo de texto, escribe una función que cuente cuántas veces aparece cada palabra en el párrafo (sin importar mayúsculas o minúsculas) y devuelva un diccionario con las palabras como claves y las veces que aparecen como valores. Ignora signos de puntuación como comas y puntos.\n",
        "\n"
      ],
      "metadata": {
        "id": "xGuSBr47fHTu"
      }
    },
    {
      "cell_type": "code",
      "source": [],
      "metadata": {
        "id": "vPSJOaZBfKuv"
      },
      "execution_count": null,
      "outputs": []
    }
  ]
}