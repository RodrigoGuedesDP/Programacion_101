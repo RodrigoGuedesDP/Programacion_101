{
  "nbformat": 4,
  "nbformat_minor": 0,
  "metadata": {
    "colab": {
      "provenance": [],
      "name": "Practica_2_IA_Fundamentals.ipynb",
      "include_colab_link": true
    },
    "kernelspec": {
      "name": "python3",
      "display_name": "Python 3"
    },
    "language_info": {
      "name": "python"
    }
  },
  "cells": [
    {
      "cell_type": "markdown",
      "metadata": {
        "id": "view-in-github",
        "colab_type": "text"
      },
      "source": [
        "<a href=\"https://colab.research.google.com/github/RodrigoGuedesDP/Programacion_101/blob/main/IA_Fundamentals/Practica_2_IA_Fundamentals.ipynb\" target=\"_parent\"><img src=\"https://colab.research.google.com/assets/colab-badge.svg\" alt=\"Open In Colab\"/></a>"
      ]
    },
    {
      "cell_type": "markdown",
      "source": [
        "## Problema de Optimización: Vehicle Routing Problem.\n"
      ],
      "metadata": {
        "id": "G5Apcq1WbsKU"
      }
    },
    {
      "cell_type": "code",
      "source": [],
      "metadata": {
        "id": "tNLy3yQTItbe"
      },
      "execution_count": null,
      "outputs": []
    }
  ]
}