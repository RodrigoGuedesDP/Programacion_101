{
  "nbformat": 4,
  "nbformat_minor": 0,
  "metadata": {
    "colab": {
      "provenance": [],
      "authorship_tag": "ABX9TyMYycJNvzmrX4XJ9iYKyJiX",
      "include_colab_link": true
    },
    "kernelspec": {
      "name": "python3",
      "display_name": "Python 3"
    },
    "language_info": {
      "name": "python"
    }
  },
  "cells": [
    {
      "cell_type": "markdown",
      "metadata": {
        "id": "view-in-github",
        "colab_type": "text"
      },
      "source": [
        "<a href=\"https://colab.research.google.com/github/RodrigoGuedesDP/Programacion_101/blob/main/Python_Crash_Course.ipynb\" target=\"_parent\"><img src=\"https://colab.research.google.com/assets/colab-badge.svg\" alt=\"Open In Colab\"/></a>"
      ]
    },
    {
      "cell_type": "markdown",
      "source": [
        "# Strings\n",
        "\n",
        "\n",
        "\n"
      ],
      "metadata": {
        "id": "BncG0gp9c9L7"
      }
    },
    {
      "cell_type": "markdown",
      "source": [
        "### Usando variables con f-strings"
      ],
      "metadata": {
        "id": "3AxbScXk0u5E"
      }
    },
    {
      "cell_type": "code",
      "source": [
        "first_name = \"Rodrigo\"\n",
        "last_name = \"Guedes\"\n",
        "\n",
        "full_name = f\"{first_name} {last_name}\"\n",
        "print(full_name)\n",
        "#f permite incluir"
      ],
      "metadata": {
        "colab": {
          "base_uri": "https://localhost:8080/"
        },
        "id": "MzeX1bPi0rdR",
        "outputId": "18b2cdf9-870b-4c07-9ab9-cba3a0250295"
      },
      "execution_count": 11,
      "outputs": [
        {
          "output_type": "stream",
          "name": "stdout",
          "text": [
            "Rodrigo Guedes\n"
          ]
        }
      ]
    },
    {
      "cell_type": "markdown",
      "source": [
        "### raw-string"
      ],
      "metadata": {
        "id": "p-a-katj6YWx"
      }
    },
    {
      "cell_type": "code",
      "source": [
        "path = \"C:\\\\nueva\\\\carpeta\"\n",
        "print(f\"Ruta: {path}\")\n",
        "print(path)\n"
      ],
      "metadata": {
        "colab": {
          "base_uri": "https://localhost:8080/"
        },
        "id": "lphcCe0d6X1R",
        "outputId": "988f90a1-5a27-4886-ff80-57f162b15cf9"
      },
      "execution_count": 14,
      "outputs": [
        {
          "output_type": "stream",
          "name": "stdout",
          "text": [
            "Ruta: C:\\nueva\\carpeta\n",
            "C:\\nueva\\carpeta\n"
          ]
        }
      ]
    },
    {
      "cell_type": "code",
      "source": [
        "print(rf path)\n",
        "raw = rf\"C:\\\\nueva\\\\carpeta\"\n",
        "print(raw)"
      ],
      "metadata": {
        "colab": {
          "base_uri": "https://localhost:8080/",
          "height": 110
        },
        "id": "jCTsQA4p6fK1",
        "outputId": "00a531e3-f412-43ec-bb7b-573585544677"
      },
      "execution_count": 17,
      "outputs": [
        {
          "output_type": "error",
          "ename": "SyntaxError",
          "evalue": "invalid syntax. Perhaps you forgot a comma? (<ipython-input-17-2cdc0d2df8cf>, line 1)",
          "traceback": [
            "\u001b[0;36m  File \u001b[0;32m\"<ipython-input-17-2cdc0d2df8cf>\"\u001b[0;36m, line \u001b[0;32m1\u001b[0m\n\u001b[0;31m    print(rf path)\u001b[0m\n\u001b[0m          ^\u001b[0m\n\u001b[0;31mSyntaxError\u001b[0m\u001b[0;31m:\u001b[0m invalid syntax. Perhaps you forgot a comma?\n"
          ]
        }
      ]
    },
    {
      "cell_type": "markdown",
      "source": [
        "### Mayusculas y minusculas"
      ],
      "metadata": {
        "id": "xaiFnstw0qDh"
      }
    },
    {
      "cell_type": "code",
      "source": [
        "name = \"ada lovelace\"\n",
        "nombre = \"RODRIGo gUedes\"\n",
        "print(name.title())\n",
        "print(name.capitalize())\n",
        "\n",
        "print(nombre.title())\n",
        "print(nombre.capitalize())\n",
        "print(nombre.lower())\n",
        "\n"
      ],
      "metadata": {
        "colab": {
          "base_uri": "https://localhost:8080/"
        },
        "id": "ikpPaxPqdf8p",
        "outputId": "5a53b174-7ecb-4ed6-e1a2-5adb32e7c90e"
      },
      "execution_count": 5,
      "outputs": [
        {
          "output_type": "stream",
          "name": "stdout",
          "text": [
            "Ada Lovelace\n",
            "Ada lovelace\n",
            "Rodrigo Guedes\n",
            "Rodrigo guedes\n",
            "rodrigo guedes\n"
          ]
        }
      ]
    },
    {
      "cell_type": "code",
      "source": [],
      "metadata": {
        "id": "kvKm1D8S0jAW"
      },
      "execution_count": null,
      "outputs": []
    },
    {
      "cell_type": "markdown",
      "source": [
        "### Quitar espacios"
      ],
      "metadata": {
        "id": "QzzoShkixdjB"
      }
    },
    {
      "cell_type": "code",
      "source": [
        "apellido = '       Guedes del Pozo      '\n",
        "print(apellido.lstrip())\n",
        "print(apellido.rstrip())\n",
        "print(apellido.strip())\n",
        "\n"
      ],
      "metadata": {
        "colab": {
          "base_uri": "https://localhost:8080/"
        },
        "id": "IyCp6vkUxdJy",
        "outputId": "0a610ed5-6d4b-47a7-a137-d710b44f7eb6"
      },
      "execution_count": 10,
      "outputs": [
        {
          "output_type": "stream",
          "name": "stdout",
          "text": [
            "Guedes del Pozo      \n",
            "       Guedes del Pozo\n",
            "Guedes del Pozo\n",
            "Juanito\n",
            "Juanito\n",
            "Juanito\n"
          ]
        }
      ]
    },
    {
      "cell_type": "markdown",
      "source": [
        "### Encontrar\n"
      ],
      "metadata": {
        "id": "G5dmR2mGxJma"
      }
    },
    {
      "cell_type": "code",
      "source": [],
      "metadata": {
        "id": "aPu3ldaRxHGv"
      },
      "execution_count": null,
      "outputs": []
    },
    {
      "cell_type": "code",
      "execution_count": 8,
      "metadata": {
        "colab": {
          "base_uri": "https://localhost:8080/"
        },
        "id": "l426hq23c1Pl",
        "outputId": "8ceaedbd-d217-4d6f-adc9-e6c610e9210a"
      },
      "outputs": [
        {
          "output_type": "stream",
          "name": "stdout",
          "text": [
            "-1\n",
            "7\n"
          ]
        }
      ],
      "source": [
        "asesino = \"Zodiac Killer\"\n",
        "ubicacion = asesino.find(\"kill\")\n",
        "print(ubicacion)\n",
        "ubicacion = asesino.find(\"Kill\")\n",
        "print(ubicacion)\n",
        "if"
      ]
    },
    {
      "cell_type": "markdown",
      "source": [],
      "metadata": {
        "id": "I1p8fUTYxIT1"
      }
    },
    {
      "cell_type": "markdown",
      "source": [],
      "metadata": {
        "id": "3SGHvq9dxIK4"
      }
    }
  ]
}