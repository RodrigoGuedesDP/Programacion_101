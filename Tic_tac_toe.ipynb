{
  "nbformat": 4,
  "nbformat_minor": 0,
  "metadata": {
    "colab": {
      "provenance": [],
      "authorship_tag": "ABX9TyNjcI0l6orhNcIaBi3+6Nma",
      "include_colab_link": true
    },
    "kernelspec": {
      "name": "python3",
      "display_name": "Python 3"
    },
    "language_info": {
      "name": "python"
    }
  },
  "cells": [
    {
      "cell_type": "markdown",
      "metadata": {
        "id": "view-in-github",
        "colab_type": "text"
      },
      "source": [
        "<a href=\"https://colab.research.google.com/github/RodrigoGuedesDP/Programacion_101/blob/main/Tic_tac_toe.ipynb\" target=\"_parent\"><img src=\"https://colab.research.google.com/assets/colab-badge.svg\" alt=\"Open In Colab\"/></a>"
      ]
    },
    {
      "cell_type": "markdown",
      "source": [
        "###TIC TAC TOE\n",
        "Programaremos un juego de tic tac toe donde la computadora juega random. Lo haremos con listas"
      ],
      "metadata": {
        "id": "sxf6Wg-49nAQ"
      }
    },
    {
      "cell_type": "code",
      "execution_count": null,
      "metadata": {
        "id": "dCWzOsGX66GK"
      },
      "outputs": [],
      "source": [
        "import numpy as np\n",
        "import random\n",
        "matriz1 = [\n",
        "    [\" \", \" \", \" \"],\n",
        "    [\" \", \" \", \" \"],\n",
        "    [\" \", \" \", \" \"]\n",
        "]\n",
        "tictactoe = np.array(matriz1)\n",
        "equivalencias = {1 : [0, 0], 2: [0, 1],3: [0, 2],4: [1, 0],5: [1, 1],6: [1, 2],7: [2, 0],8: [2, 1],9: [2, 2] }\n",
        "contador = list(x for x in range(1, 10))\n",
        "#funcion para la jugada del primer jugador. Haremos otra para el movimiento de la pc.\n",
        "def jugada(matriz):\n",
        "  for fila in matriz:\n",
        "    print(fila)\n",
        "  movimiento = int(input(\"Menu de opciones:\\n1. Arriba-izquierda\\n2. Arriba-medio\\n3. Arriba-derecha\\n4. Medio-izquierda\\n5. Medio\\n6. Medio-derecha\\n7. Abajo-izquierda\\n8. Abajo-medio\\n9. Abajo-derecha\\n Eliga su movimiento: \"))\n",
        "  while movimiento not in contador:\n",
        "    movimiento = int(input(\"Debe elegir otra opcion porque ya esta tomada o es un valor incorrecto\"))\n",
        "  lista = equivalencias[movimiento]\n",
        "  x= lista[0]\n",
        "  y= lista[1]\n",
        "  matriz[x][y] = \"X\"\n",
        "  for fila in matriz:\n",
        "    print(fila)\n",
        "  contador.remove(movimiento)\n",
        "  return matriz\n",
        "  return contador\n",
        "\n",
        "def jugada_pc(matriz):\n",
        "  aleatorio = random.randit(1, 9)\n",
        "  while aleatorio not in contador:\n",
        "    aleatorio = random.randit(1, 9)\n",
        "  lista = equivalencias[aleatorio]\n",
        "  x= lista[0]\n",
        "  y= lista[1]\n",
        "  matriz[x][y] = \"O\"\n",
        "  contador.remove(aleatorio)\n",
        "  return matriz\n",
        "  return contador\n",
        "#las condiciones para ganar son 8 combinaciones de rayas con el mismo valor, y distinto de \" \"\n",
        "def juego_tic_tac_toe(matriz):\n",
        "  jugada(matriz)\n",
        "  jugada_pc(matriz)\n",
        "\n",
        "\n",
        "\n",
        "\n",
        "\n",
        "\n",
        "\n"
      ]
    },
    {
      "cell_type": "code",
      "source": [
        "import random\n",
        "contador = list(x for x in range(1, 6))\n",
        "while contador != []:\n",
        "  aleatorio = random.randint(1,5)\n",
        "  contador.remove(aleatorio)\n",
        "  print(contador)\n",
        "print(\"se termino el bucle\")"
      ],
      "metadata": {
        "colab": {
          "base_uri": "https://localhost:8080/"
        },
        "id": "qUfNGD0_bm54",
        "outputId": "886f27be-eb45-4c28-99d5-ab307ff94b94"
      },
      "execution_count": 6,
      "outputs": [
        {
          "output_type": "stream",
          "name": "stdout",
          "text": [
            "[]\n"
          ]
        }
      ]
    },
    {
      "cell_type": "code",
      "source": [
        "respuesta_correcta = 7\n",
        "respuesta = 0\n",
        "\n",
        "while respuesta != respuesta_correcta:\n",
        "    respuesta = int(input(\"Adivina el número (1-10): \"))\n",
        "print(\"¡Correcto!\")"
      ],
      "metadata": {
        "id": "S0m102QURRXM"
      },
      "execution_count": null,
      "outputs": []
    },
    {
      "cell_type": "code",
      "source": [
        "movimiento = int(input(\"Menu de opciones:\\n1. Arriba-izquierda\\n2. Arriba-medio\\n3. Arriba-derecha\\n4. Medio-izquierda\\n5. Medio\\n6. Medio-derecha\\n7. Abajo-izquierda\\n8. Abajo-medio\\n9. Abajo-derecha\\n Eliga su movimiento: \"))"
      ],
      "metadata": {
        "colab": {
          "base_uri": "https://localhost:8080/"
        },
        "id": "1YS11Ct7V_hI",
        "outputId": "8b126fc8-3e4c-49b0-9fee-046177aba1d6"
      },
      "execution_count": 2,
      "outputs": [
        {
          "name": "stdout",
          "output_type": "stream",
          "text": [
            "Menu de opciones:\n",
            "1. Arriba-izquierda\n",
            "2. Arriba-medio\n",
            "3. Arriba-derecha\n",
            "4. Medio-izquierda\n",
            "5. Medio\n",
            "6. Medio-derecha\n",
            "7. Abajo-izquierda\n",
            "8. Abajo-medio\n",
            "9. Abajo-derecha\n",
            " Eliga su movimiento: 9\n"
          ]
        }
      ]
    },
    {
      "cell_type": "code",
      "source": [
        "def mostrar_menu():\n",
        "    print(\"Menú de Opciones:\")\n",
        "    print(\"1. Opción 1\")\n",
        "    print(\"2. Opción 2\")\n",
        "    print(\"3. Opción 3\")\n",
        "    print(\"4. Salir\")\n",
        "\n",
        "def ejecutar_opcion(opcion):\n",
        "    if opcion == \"1\":\n",
        "        print(\"Has seleccionado la Opción 1.\")\n",
        "    elif opcion == \"2\":\n",
        "        print(\"Has seleccionado la Opción 2.\")\n",
        "    elif opcion == \"3\":\n",
        "        print(\"Has seleccionado la Opción 3.\")\n",
        "    elif opcion == \"4\":\n",
        "        print(\"Saliendo del programa...\")\n",
        "    else:\n",
        "        print(\"Opción no válida. Intenta de nuevo.\")\n",
        "\n",
        "while True:\n",
        "    mostrar_menu()\n",
        "    opcion = input(\"Menú de Opciones:\"\\n\"Elige una opción: \")\n",
        "    if opcion == \"4\":  # Si elige salir, termina el bucle\n",
        "        ejecutar_opcion(opcion)\n",
        "        break\n",
        "    else:\n",
        "        ejecutar_opcion(opcion)\n"
      ],
      "metadata": {
        "colab": {
          "base_uri": "https://localhost:8080/",
          "height": 564
        },
        "id": "gmypxTt4-_k0",
        "outputId": "9d7cc201-566e-4212-a908-f6ac55931e53"
      },
      "execution_count": 1,
      "outputs": [
        {
          "output_type": "stream",
          "name": "stdout",
          "text": [
            "Menú de Opciones:\n",
            "1. Opción 1\n",
            "2. Opción 2\n",
            "3. Opción 3\n",
            "4. Salir\n",
            "Elige una opción: 2\n",
            "Has seleccionado la Opción 2.\n",
            "Menú de Opciones:\n",
            "1. Opción 1\n",
            "2. Opción 2\n",
            "3. Opción 3\n",
            "4. Salir\n"
          ]
        },
        {
          "output_type": "error",
          "ename": "KeyboardInterrupt",
          "evalue": "Interrupted by user",
          "traceback": [
            "\u001b[0;31m---------------------------------------------------------------------------\u001b[0m",
            "\u001b[0;31mKeyboardInterrupt\u001b[0m                         Traceback (most recent call last)",
            "\u001b[0;32m<ipython-input-1-ea3379d3abd9>\u001b[0m in \u001b[0;36m<cell line: 20>\u001b[0;34m()\u001b[0m\n\u001b[1;32m     20\u001b[0m \u001b[0;32mwhile\u001b[0m \u001b[0;32mTrue\u001b[0m\u001b[0;34m:\u001b[0m\u001b[0;34m\u001b[0m\u001b[0;34m\u001b[0m\u001b[0m\n\u001b[1;32m     21\u001b[0m     \u001b[0mmostrar_menu\u001b[0m\u001b[0;34m(\u001b[0m\u001b[0;34m)\u001b[0m\u001b[0;34m\u001b[0m\u001b[0;34m\u001b[0m\u001b[0m\n\u001b[0;32m---> 22\u001b[0;31m     \u001b[0mopcion\u001b[0m \u001b[0;34m=\u001b[0m \u001b[0minput\u001b[0m\u001b[0;34m(\u001b[0m\u001b[0;34m\"Elige una opción: \"\u001b[0m\u001b[0;34m)\u001b[0m\u001b[0;34m\u001b[0m\u001b[0;34m\u001b[0m\u001b[0m\n\u001b[0m\u001b[1;32m     23\u001b[0m     \u001b[0;32mif\u001b[0m \u001b[0mopcion\u001b[0m \u001b[0;34m==\u001b[0m \u001b[0;34m\"4\"\u001b[0m\u001b[0;34m:\u001b[0m  \u001b[0;31m# Si elige salir, termina el bucle\u001b[0m\u001b[0;34m\u001b[0m\u001b[0;34m\u001b[0m\u001b[0m\n\u001b[1;32m     24\u001b[0m         \u001b[0mejecutar_opcion\u001b[0m\u001b[0;34m(\u001b[0m\u001b[0mopcion\u001b[0m\u001b[0;34m)\u001b[0m\u001b[0;34m\u001b[0m\u001b[0;34m\u001b[0m\u001b[0m\n",
            "\u001b[0;32m/usr/local/lib/python3.10/dist-packages/ipykernel/kernelbase.py\u001b[0m in \u001b[0;36mraw_input\u001b[0;34m(self, prompt)\u001b[0m\n\u001b[1;32m    849\u001b[0m                 \u001b[0;34m\"raw_input was called, but this frontend does not support input requests.\"\u001b[0m\u001b[0;34m\u001b[0m\u001b[0;34m\u001b[0m\u001b[0m\n\u001b[1;32m    850\u001b[0m             )\n\u001b[0;32m--> 851\u001b[0;31m         return self._input_request(str(prompt),\n\u001b[0m\u001b[1;32m    852\u001b[0m             \u001b[0mself\u001b[0m\u001b[0;34m.\u001b[0m\u001b[0m_parent_ident\u001b[0m\u001b[0;34m,\u001b[0m\u001b[0;34m\u001b[0m\u001b[0;34m\u001b[0m\u001b[0m\n\u001b[1;32m    853\u001b[0m             \u001b[0mself\u001b[0m\u001b[0;34m.\u001b[0m\u001b[0m_parent_header\u001b[0m\u001b[0;34m,\u001b[0m\u001b[0;34m\u001b[0m\u001b[0;34m\u001b[0m\u001b[0m\n",
            "\u001b[0;32m/usr/local/lib/python3.10/dist-packages/ipykernel/kernelbase.py\u001b[0m in \u001b[0;36m_input_request\u001b[0;34m(self, prompt, ident, parent, password)\u001b[0m\n\u001b[1;32m    893\u001b[0m             \u001b[0;32mexcept\u001b[0m \u001b[0mKeyboardInterrupt\u001b[0m\u001b[0;34m:\u001b[0m\u001b[0;34m\u001b[0m\u001b[0;34m\u001b[0m\u001b[0m\n\u001b[1;32m    894\u001b[0m                 \u001b[0;31m# re-raise KeyboardInterrupt, to truncate traceback\u001b[0m\u001b[0;34m\u001b[0m\u001b[0;34m\u001b[0m\u001b[0m\n\u001b[0;32m--> 895\u001b[0;31m                 \u001b[0;32mraise\u001b[0m \u001b[0mKeyboardInterrupt\u001b[0m\u001b[0;34m(\u001b[0m\u001b[0;34m\"Interrupted by user\"\u001b[0m\u001b[0;34m)\u001b[0m \u001b[0;32mfrom\u001b[0m \u001b[0;32mNone\u001b[0m\u001b[0;34m\u001b[0m\u001b[0;34m\u001b[0m\u001b[0m\n\u001b[0m\u001b[1;32m    896\u001b[0m             \u001b[0;32mexcept\u001b[0m \u001b[0mException\u001b[0m \u001b[0;32mas\u001b[0m \u001b[0me\u001b[0m\u001b[0;34m:\u001b[0m\u001b[0;34m\u001b[0m\u001b[0;34m\u001b[0m\u001b[0m\n\u001b[1;32m    897\u001b[0m                 \u001b[0mself\u001b[0m\u001b[0;34m.\u001b[0m\u001b[0mlog\u001b[0m\u001b[0;34m.\u001b[0m\u001b[0mwarning\u001b[0m\u001b[0;34m(\u001b[0m\u001b[0;34m\"Invalid Message:\"\u001b[0m\u001b[0;34m,\u001b[0m \u001b[0mexc_info\u001b[0m\u001b[0;34m=\u001b[0m\u001b[0;32mTrue\u001b[0m\u001b[0;34m)\u001b[0m\u001b[0;34m\u001b[0m\u001b[0;34m\u001b[0m\u001b[0m\n",
            "\u001b[0;31mKeyboardInterrupt\u001b[0m: Interrupted by user"
          ]
        }
      ]
    }
  ]
}