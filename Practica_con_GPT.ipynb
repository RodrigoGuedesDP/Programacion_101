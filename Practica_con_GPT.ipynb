{
  "nbformat": 4,
  "nbformat_minor": 0,
  "metadata": {
    "colab": {
      "provenance": [],
      "authorship_tag": "ABX9TyO/FFvVBjf3M6oKZnbY2JLV",
      "include_colab_link": true
    },
    "kernelspec": {
      "name": "python3",
      "display_name": "Python 3"
    },
    "language_info": {
      "name": "python"
    }
  },
  "cells": [
    {
      "cell_type": "markdown",
      "metadata": {
        "id": "view-in-github",
        "colab_type": "text"
      },
      "source": [
        "<a href=\"https://colab.research.google.com/github/RodrigoGuedesDP/Programacion_101/blob/main/Practica_con_GPT.ipynb\" target=\"_parent\"><img src=\"https://colab.research.google.com/assets/colab-badge.svg\" alt=\"Open In Colab\"/></a>"
      ]
    },
    {
      "cell_type": "markdown",
      "source": [
        "# 10 ejercicios con GPT\n"
      ],
      "metadata": {
        "id": "a8CV01MOeGoR"
      }
    },
    {
      "cell_type": "markdown",
      "source": [
        "### 1. Manipulación de strings y listas:\n",
        "Escribe una función que reciba una cadena de texto con varias palabras separadas por espacios y devuelva una lista con las palabras, pero ordenadas alfabéticamente y con las mayúsculas convertidas a minúsculas. No puedes utilizar métodos predefinidos como sorted() o lower()."
      ],
      "metadata": {
        "id": "V140_YPEeNr4"
      }
    },
    {
      "cell_type": "code",
      "execution_count": null,
      "metadata": {
        "id": "-WG8GGVheB3m"
      },
      "outputs": [],
      "source": [
        "\n",
        "cadena_texto = 'Esta es una Cadena de texto con palabras separadas por Espacios'\n",
        "#Creo que debemos identificar los espacios vacios de la frase para separar las palabras.\n",
        "\n",
        "\n",
        "\n"
      ]
    },
    {
      "cell_type": "markdown",
      "source": [
        "### 2. Diccionarios y comprensión de listas:\n",
        "Dado un diccionario que contiene el nombre de productos como claves y una lista con las cantidades vendidas en cada día de la semana como valores, escribe una función que devuelva un nuevo diccionario con el nombre del producto y el promedio de ventas diarias para ese producto. Usa comprensión de listas para calcular el promedio.\n",
        "\n",
        "Ejemplo de diccionario:"
      ],
      "metadata": {
        "id": "MLaG0nyqeSFc"
      }
    },
    {
      "cell_type": "code",
      "source": [
        "#Vemos como funcionaria con listas\n",
        "ventas = {\n",
        "    \"camisas\": [5, 6, 7, 8, 9, 3, 2],\n",
        "    \"pantalones\": [1, 2, 3, 4, 5, 6, 7]\n",
        "}\n",
        "\n",
        "my_list = []\n",
        "for key, value in ventas.items():\n",
        "      my_list.append(key)\n",
        "      my_list.append(sum(value)/len(value))\n",
        "print(my_list)\n",
        "#Si funciona, como se convierte a diccionario??\n",
        "#intentaremos asi:\n",
        "nuevo_diccionario = {}\n",
        "for x in range(0,len(my_list), 2):\n",
        "  clave = my_list[x]\n",
        "  valor = my_list[x +1]\n",
        "  nuevo_diccionario[clave] = valor\n",
        "print(nuevo_diccionario)\n",
        "\n"
      ],
      "metadata": {
        "colab": {
          "base_uri": "https://localhost:8080/"
        },
        "id": "LCT-t1SOrYRH",
        "outputId": "458986d4-fa90-414c-9ff6-6eec1f2d7aba"
      },
      "execution_count": 17,
      "outputs": [
        {
          "output_type": "stream",
          "name": "stdout",
          "text": [
            "['camisas', 5.714285714285714, 'pantalones', 4.0]\n",
            "{'camisas': 5.714285714285714, 'pantalones': 4.0}\n"
          ]
        }
      ]
    },
    {
      "cell_type": "code",
      "source": [
        "#Vemos como funcionaria con listas\n",
        "ventas = {\n",
        "    \"camisas\": [5, 6, 7, 8, 9, 3, 2],\n",
        "    \"pantalones\": [1, 2, 3, 4, 5, 6, 7]\n",
        "}\n",
        "\n",
        "my_list = []\n",
        "for key, value in ventas.items():\n",
        "      my_list.append(key)\n",
        "      my_list.append(sum(value)/len(value))\n",
        "#uso de enumerate. Por si solo no es legible, pero si lo convierte as lista te muestra el indice-valor\n",
        "#enumerate() devuelve una lista de tuplas, donde cada tupla contiene el índice y el valor correspondiente de la lista original:\n",
        "\n",
        "print(my_list)\n",
        "print(list(enumerate(my_list)))\n"
      ],
      "metadata": {
        "colab": {
          "base_uri": "https://localhost:8080/"
        },
        "id": "mRtH5lVCzg23",
        "outputId": "64f9aa1b-7f87-4032-b447-8aee2d7f792f"
      },
      "execution_count": 10,
      "outputs": [
        {
          "output_type": "stream",
          "name": "stdout",
          "text": [
            "['camisas', 5.714285714285714, 'pantalones', 4.0]\n",
            "[(0, 'camisas'), (1, 5.714285714285714), (2, 'pantalones'), (3, 4.0)]\n"
          ]
        }
      ]
    },
    {
      "cell_type": "code",
      "source": [
        "#SOLUCION 1, UTILIZANDO LISTAS EN EL FOR\n",
        "ventas = {\n",
        "    \"camisas\": [5, 6, 7, 8, 9, 3, 2],\n",
        "    \"pantalones\": [1, 2, 3, 4, 5, 6, 7]\n",
        "}\n",
        "\n",
        "def promedio_ventas(diccionario):\n",
        "  #intentaremos primero con lista\n",
        "    my_list = []\n",
        "    for key, value in diccionario.items():\n",
        "      my_list.append(key)\n",
        "      my_list.append(sum(value)/len(value))\n",
        "    for x in range(0,len(my_list), 2):\n",
        "      clave = my_list[x]\n",
        "      valor = my_list[x +1]\n",
        "      nuevo_diccionario[clave] = valor\n",
        "    print(nuevo_diccionario)\n",
        "\n",
        "    return nuevo_diccionario\n",
        "\n",
        "promedio_ventas(ventas)\n"
      ],
      "metadata": {
        "colab": {
          "base_uri": "https://localhost:8080/"
        },
        "id": "-l_NUH98eYA0",
        "outputId": "483613c2-dfed-4ff5-f7eb-c9c796d98f8a"
      },
      "execution_count": 19,
      "outputs": [
        {
          "output_type": "stream",
          "name": "stdout",
          "text": [
            "{'camisas': 5.714285714285714, 'pantalones': 4.0}\n"
          ]
        },
        {
          "output_type": "execute_result",
          "data": {
            "text/plain": [
              "{'camisas': 5.714285714285714, 'pantalones': 4.0}"
            ]
          },
          "metadata": {},
          "execution_count": 19
        }
      ]
    },
    {
      "cell_type": "code",
      "source": [
        "#INTENTAR SOLUCIONARLO CON MENOS PASOS, SIN USAR LISTAS\n",
        "ventas = {\n",
        "    \"camisas\": [5, 6, 7, 8, 9, 3, 2],\n",
        "    \"pantalones\": [1, 2, 3, 4, 5, 6, 7]\n",
        "}\n",
        "\n",
        "def promedio_ventas(diccionario):\n",
        "  nuevo_diccionario = {}\n",
        "  for a, b in diccionario.items():\n",
        "    nuevo_diccionario[a] = sum(b)/len(b)\n",
        "  print(diccionario)\n",
        "\n",
        "  return nuevo_diccionario\n",
        "promedio_ventas(ventas)\n",
        "\n"
      ],
      "metadata": {
        "colab": {
          "base_uri": "https://localhost:8080/"
        },
        "id": "5_JChMrd6PCn",
        "outputId": "3cde1501-bd9b-4def-bba8-5eb41c76ef24"
      },
      "execution_count": 22,
      "outputs": [
        {
          "output_type": "stream",
          "name": "stdout",
          "text": [
            "{'camisas': [5, 6, 7, 8, 9, 3, 2], 'pantalones': [1, 2, 3, 4, 5, 6, 7]}\n"
          ]
        },
        {
          "output_type": "execute_result",
          "data": {
            "text/plain": [
              "{'camisas': 5.714285714285714, 'pantalones': 4.0}"
            ]
          },
          "metadata": {},
          "execution_count": 22
        }
      ]
    },
    {
      "cell_type": "markdown",
      "source": [
        "### 3. Listas, tuplas y estructuras condicionales:\n",
        "Dado una lista de números enteros, crea una función que reciba la lista y devuelva una tupla con dos listas. La primera lista contendrá los números pares y la segunda los números impares. Además, los números en cada lista deben estar ordenados en orden descendente."
      ],
      "metadata": {
        "id": "4YCnS229ebw3"
      }
    },
    {
      "cell_type": "code",
      "source": [
        "lista_enteros = [x for x in range(1,11)]\n",
        "\n",
        "def devuelve_tupla(lista):\n",
        "  lista_pares = [x for x in lista if x % 2 == 0 ]\n",
        "  lista_impares = [x for x in lista if x%2 != 0]\n",
        "\n",
        "  tupla = (lista_pares, lista_impares)\n",
        "  print(tupla)\n",
        "  return tupla\n",
        "\n",
        "devuelve_tupla(lista_enteros)"
      ],
      "metadata": {
        "colab": {
          "base_uri": "https://localhost:8080/"
        },
        "id": "v6_D5VT1eole",
        "outputId": "d7099b1d-286d-4ebc-e7b9-75f84fec624e"
      },
      "execution_count": 26,
      "outputs": [
        {
          "output_type": "stream",
          "name": "stdout",
          "text": [
            "([2, 4, 6, 8, 10], [1, 3, 5, 7, 9])\n"
          ]
        },
        {
          "output_type": "execute_result",
          "data": {
            "text/plain": [
              "([2, 4, 6, 8, 10], [1, 3, 5, 7, 9])"
            ]
          },
          "metadata": {},
          "execution_count": 26
        }
      ]
    },
    {
      "cell_type": "markdown",
      "source": [
        "### 4. Sets y operaciones con conjuntos:\n",
        "Dado dos sets de números enteros, escribe una función que devuelva un set con los números que están en uno u otro conjunto, pero no en ambos (es decir, la diferencia simétrica). No puedes utilizar el método symmetric_difference()."
      ],
      "metadata": {
        "id": "YI6llmUfeiFd"
      }
    },
    {
      "cell_type": "code",
      "source": [
        "set1 = {1, 2, 3, 4, 5, 6, 7}\n",
        "set2 = {5, 6, 7, 8, 9, 10}\n",
        "def diferencia_simetrica(set_uno, set_dos):\n",
        "  union = set_uno.union(set_dos)\n",
        "  interseccion = set_uno.intersection(set_dos)\n",
        "  diferencia = union - interseccion\n",
        "  print(diferencia)\n",
        "  return diferencia\n",
        "diferencia_simetrica(set1, set2)\n"
      ],
      "metadata": {
        "colab": {
          "base_uri": "https://localhost:8080/"
        },
        "id": "sFc1LoWRehuf",
        "outputId": "2883a8be-a97f-464a-aaf0-051a9ffe9184"
      },
      "execution_count": 27,
      "outputs": [
        {
          "output_type": "stream",
          "name": "stdout",
          "text": [
            "{1, 2, 3, 4, 8, 9, 10}\n"
          ]
        },
        {
          "output_type": "execute_result",
          "data": {
            "text/plain": [
              "{1, 2, 3, 4, 8, 9, 10}"
            ]
          },
          "metadata": {},
          "execution_count": 27
        }
      ]
    },
    {
      "cell_type": "code",
      "source": [
        "#Con symmetric_difference\n",
        "set1 = {1, 2, 3, 4, 5, 6, 7}\n",
        "set2 = {5, 6, 7, 8, 9, 10}\n",
        "def diferencia_simetrica(set_uno, set_dos):\n",
        "\n",
        "  diferencia = set_uno.symmetric_difference(set_dos)\n",
        "  print(diferencia)\n",
        "  return diferencia\n",
        "diferencia_simetrica(set1, set2)\n"
      ],
      "metadata": {
        "colab": {
          "base_uri": "https://localhost:8080/"
        },
        "id": "p88O9bROCTRE",
        "outputId": "04f9a7bc-79cb-4787-c891-5aa24619994e"
      },
      "execution_count": 28,
      "outputs": [
        {
          "output_type": "stream",
          "name": "stdout",
          "text": [
            "{1, 2, 3, 4, 8, 9, 10}\n"
          ]
        },
        {
          "output_type": "execute_result",
          "data": {
            "text/plain": [
              "{1, 2, 3, 4, 8, 9, 10}"
            ]
          },
          "metadata": {},
          "execution_count": 28
        }
      ]
    },
    {
      "cell_type": "markdown",
      "source": [
        "### 5. Manejo de diccionarios y condicionales:\n",
        "Dado un diccionario con los nombres de los estudiantes y sus calificaciones en una lista, escribe una función que clasifique a los estudiantes en \"aprobado\" o \"reprobado\" según un promedio mínimo de 6. Devuelve un nuevo diccionario con los nombres de los estudiantes como claves y \"aprobado\" o \"reprobado\" como valores."
      ],
      "metadata": {
        "id": "r-1ts54Jezay"
      }
    },
    {
      "cell_type": "code",
      "source": [
        "diccionario = {'Rodrigo Guedes': 10, 'Julio Mendoza': 5, \"Sebastian Villanueva\": 7, \"Juan Perez\": 6}\n",
        "def aprobados(calificaciones):\n",
        "  nuevo_diccionario = {}\n",
        "  for x, y in calificaciones.items():\n",
        "    nuevo_diccionario[x] = \"Aprobado\" if y >= 6 else \"reprobado\"\n",
        "  print(nuevo_diccionario)\n",
        "  return nuevo_diccionario\n",
        "aprobados(diccionario)\n",
        "\n"
      ],
      "metadata": {
        "colab": {
          "base_uri": "https://localhost:8080/"
        },
        "id": "QEYG-MJTe2B9",
        "outputId": "e030f65f-3bae-431d-e5b7-c0dfa5ff0443"
      },
      "execution_count": 33,
      "outputs": [
        {
          "output_type": "stream",
          "name": "stdout",
          "text": [
            "{'Rodrigo Guedes': 'Aprobado', 'Julio Mendoza': 'reprobado', 'Sebastian Villanueva': 'Aprobado', 'Juan Perez': 'Aprobado'}\n"
          ]
        }
      ]
    },
    {
      "cell_type": "code",
      "source": [
        "#metodo GPT optimizado\n",
        "diccionario = {'Rodrigo Guedes': 10, 'Julio Mendoza': 5, \"Sebastian Villanueva\": 7, \"Juan Perez\": 6}\n",
        "def aprobados(calificaciones):\n",
        "  nuevo_diccionario = {x: \"Aprobado\" if y >= 6 else \"Reprobado\" for x, y in calificaciones.items()}\n",
        "  print(nuevo_diccionario)\n",
        "  return nuevo_diccionario\n",
        "aprobados(diccionario)"
      ],
      "metadata": {
        "colab": {
          "base_uri": "https://localhost:8080/"
        },
        "id": "V2L9v7ChSmD5",
        "outputId": "9e4f2d57-1712-4c78-a8fd-9ea16f4d6309"
      },
      "execution_count": 36,
      "outputs": [
        {
          "output_type": "stream",
          "name": "stdout",
          "text": [
            "{'Rodrigo Guedes': 'Aprobado', 'Julio Mendoza': 'Reprobado', 'Sebastian Villanueva': 'Aprobado', 'Juan Perez': 'Aprobado'}\n"
          ]
        },
        {
          "output_type": "execute_result",
          "data": {
            "text/plain": [
              "{'Rodrigo Guedes': 'Aprobado',\n",
              " 'Julio Mendoza': 'Reprobado',\n",
              " 'Sebastian Villanueva': 'Aprobado',\n",
              " 'Juan Perez': 'Aprobado'}"
            ]
          },
          "metadata": {},
          "execution_count": 36
        }
      ]
    },
    {
      "cell_type": "markdown",
      "source": [
        "### 6. Matrices (listas de listas) y slicing:\n",
        "Dada una matriz de números enteros de 5x5, escribe una función que reciba la matriz y devuelva una nueva matriz con la diagonal principal (de arriba a la izquierda a abajo a la derecha) reemplazada por ceros. Usa slicing para acceder a la diagonal principal."
      ],
      "metadata": {
        "id": "ti6bjhVze3B5"
      }
    },
    {
      "cell_type": "code",
      "source": [],
      "metadata": {
        "id": "i2Ldq-Fee59D"
      },
      "execution_count": null,
      "outputs": []
    },
    {
      "cell_type": "markdown",
      "source": [
        "### 7. Slicing y listas:\n",
        "Dada una lista de números enteros, escribe una función que reciba la lista y devuelva una nueva lista que contenga solo los números que están en las posiciones pares. Usa slicing para resolver el problema.\n",
        "\n"
      ],
      "metadata": {
        "id": "b1iqHnuIe6Tl"
      }
    },
    {
      "cell_type": "code",
      "source": [
        "cualquier_lista = [x for x in range(0,17)]\n",
        "def posiciones_pares(lista):\n",
        "  pares = lista[::2]\n",
        "  print(pares)\n",
        "  return pares\n",
        "posiciones_pares(cualquier_lista)\n"
      ],
      "metadata": {
        "colab": {
          "base_uri": "https://localhost:8080/"
        },
        "id": "YDg-CJfMe-rI",
        "outputId": "53dda1e9-27c6-4bdf-a884-43affa34e06a"
      },
      "execution_count": 40,
      "outputs": [
        {
          "output_type": "stream",
          "name": "stdout",
          "text": [
            "[0, 2, 4, 6, 8, 10, 12, 14, 16]\n"
          ]
        },
        {
          "output_type": "execute_result",
          "data": {
            "text/plain": [
              "[0, 2, 4, 6, 8, 10, 12, 14, 16]"
            ]
          },
          "metadata": {},
          "execution_count": 40
        }
      ]
    },
    {
      "cell_type": "markdown",
      "source": [
        "### 8. List comprehension y diccionarios:\n",
        "Escribe una función que reciba un diccionario donde las claves son nombres de estudiantes y los valores son listas con sus calificaciones. Utiliza comprensión de listas para devolver un nuevo diccionario que contenga únicamente a los estudiantes cuyo promedio de calificaciones sea mayor a 7."
      ],
      "metadata": {
        "id": "DcH5UhtZe_GN"
      }
    },
    {
      "cell_type": "code",
      "source": [
        "notas_estudiantes = {\"Rodrigo Guedes\": [10, 10, 9, 10, 8, 10], \"Julio Mendoza\": [6, 7, 3, 4], \"Sebastian Villanueva\": [7, 7, 5]}\n",
        "def tercio_superior(diccionario):\n",
        "    nuevo_diccionario = {}\n",
        "    for key, value in diccionario.items():\n",
        "      if sum(value)/len(value) > 7:\n",
        "        nuevo_diccionario[key] = sum(value)/len(value)\n",
        "    print(nuevo_diccionario)\n",
        "\n",
        "tercio_superior(notas_estudiantes)\n",
        "#se puede optimizar el codigo creando la variable promedio para no calcularlo 2 veces\n",
        "\n"
      ],
      "metadata": {
        "colab": {
          "base_uri": "https://localhost:8080/"
        },
        "id": "L-8zrYiWfDkT",
        "outputId": "17450b4a-c170-4d51-c41b-fad2d21ecc5f"
      },
      "execution_count": 44,
      "outputs": [
        {
          "output_type": "stream",
          "name": "stdout",
          "text": [
            "{'Rodrigo Guedes': 9.5}\n"
          ]
        }
      ]
    },
    {
      "cell_type": "code",
      "source": [
        "notas_estudiantes = {\"Rodrigo Guedes\": [10, 10, 9, 10, 8, 10], \"Julio Mendoza\": [6, 7, 3, 4], \"Sebastian Villanueva\": [7, 7, 5]}\n",
        "def tercio_superior(diccionario):\n",
        "\n",
        "    nuevo_diccionario = {x: sum(y)/len(y) if sum(y)/len(y) > 7 for x, y in diccionario.items()}\n",
        "    print(nuevo_diccionario)\n",
        "    return(nuevo_diccionario)\n",
        "\n",
        "tercio_superior(notas_estudiantes)\n",
        "#el problema de esta forma es que se usa una condicional dentro del diccionario, pero no existe una clausula donde indique si el promedio no cumple\n",
        "#entonces no lo cuente. LO que se puede hacer es poner la clausula afuera"
      ],
      "metadata": {
        "id": "PAHW3mlwYn_v"
      },
      "execution_count": null,
      "outputs": []
    },
    {
      "cell_type": "code",
      "source": [
        "#intentamos que la forma de arriba funciona:\n",
        "notas_estudiantes = {\"Rodrigo Guedes\": [10, 10, 9, 10, 8, 10], \"Julio Mendoza\": [6, 7, 3, 4], \"Sebastian Villanueva\": [7, 7, 5]}\n",
        "def tercio_superior(diccionario):\n",
        "      nuevo_diccionario = {x: sum(y)/len(y) for x, y in diccionario.items() if sum(y)/len(y) > 7}\n",
        "      print(nuevo_diccionario)\n",
        "      return(nuevo_diccionario)\n",
        "#La forma en la que funciona es: resultado deseado, For, condicional. Python no le interesa que hacer con los que no cumplen con la condicional porque los filtra.\n",
        "#antes lo intente popr: resultado deseado, condicional, for. En este caso, el programa no sabe que hacer cuando no se cumple la condicion con y.\n",
        "# el metodo anterior puede servir pero siempre y cuando le digas que hacer (else)\n",
        "tercio_superior(notas_estudiantes)\n"
      ],
      "metadata": {
        "colab": {
          "base_uri": "https://localhost:8080/"
        },
        "id": "UdS5tT6zZ9t0",
        "outputId": "b3ff9dec-d633-4673-a0ea-565ab253f3be"
      },
      "execution_count": 46,
      "outputs": [
        {
          "output_type": "stream",
          "name": "stdout",
          "text": [
            "{'Rodrigo Guedes': 9.5}\n"
          ]
        },
        {
          "output_type": "execute_result",
          "data": {
            "text/plain": [
              "{'Rodrigo Guedes': 9.5}"
            ]
          },
          "metadata": {},
          "execution_count": 46
        }
      ]
    },
    {
      "cell_type": "markdown",
      "source": [
        "### 9. Estructuras condicionales y tuplas:\n",
        "Dada una tupla de números enteros, escribe una función que determine si la tupla es simétrica. Una tupla es simétrica si se puede leer igual de izquierda a derecha que de derecha a izquierda."
      ],
      "metadata": {
        "id": "3nIK241MfD-3"
      }
    },
    {
      "cell_type": "code",
      "source": [
        "tupla1 = (1,2,3,4,3,2,1)\n",
        "tupla2 = (1, 1, 3, 4, 5, 6, 7)\n",
        "def simetria(tupla):\n",
        "  lista = list(tupla)\n",
        "  lista_invertida = list(reversed(lista))\n",
        "  # Tambien se puede hacer con slicing: lista_invertida = lista[::-1]\n",
        "  if lista == lista_invertida:\n",
        "    print(f\"La tupla ingresada: {tupla} es simetrica\")\n",
        "  else:\n",
        "    print(f\"La tupla ingresada: {tupla} no es simetrica\")\n",
        "  return lista_invertida\n",
        "\n",
        "simetria(tupla1)\n",
        "simetria(tupla2)"
      ],
      "metadata": {
        "colab": {
          "base_uri": "https://localhost:8080/"
        },
        "id": "2ZgD0UbkfG5r",
        "outputId": "1fcac9b3-db1a-4a04-b1bb-593888b2f17d"
      },
      "execution_count": 58,
      "outputs": [
        {
          "output_type": "stream",
          "name": "stdout",
          "text": [
            "La tupla ingresada: (1, 2, 3, 4, 3, 2, 1) es simetrica\n",
            "La tupla ingresada: (1, 1, 3, 4, 5, 6, 7) no es simetrica\n"
          ]
        },
        {
          "output_type": "execute_result",
          "data": {
            "text/plain": [
              "[7, 6, 5, 4, 3, 1, 1]"
            ]
          },
          "metadata": {},
          "execution_count": 58
        }
      ]
    },
    {
      "cell_type": "code",
      "source": [
        "tupla2 = (1, 1, 3, 4, 5, 6, 7)\n",
        "lista = list(tupla2)\n",
        "print(lista)\n",
        "lista_invertida = lista.reverse()\n",
        "print(lista_invertida)\n",
        "# El motivo por el cual obtienes None es porque el método reverse() modifica la lista en su lugar y no devuelve ningún valor (retorna None). Por eso, al asignar lista_invertida = lista.reverse(), estás asignando el valor None a lista_invertida."
      ],
      "metadata": {
        "colab": {
          "base_uri": "https://localhost:8080/"
        },
        "id": "tskOAZzWgkYp",
        "outputId": "870e1dec-72ef-4bd0-84fc-49bcec91ef6d"
      },
      "execution_count": 54,
      "outputs": [
        {
          "output_type": "stream",
          "name": "stdout",
          "text": [
            "[1, 1, 3, 4, 5, 6, 7]\n",
            "None\n"
          ]
        }
      ]
    },
    {
      "cell_type": "code",
      "source": [
        "#Si quieres imprimir la lista invertida, solo necesitas llamar a reverse() para modificar la lista original, y luego imprimir la lista directamente.\n",
        "#el metodo reverse no devuelve una lista, solo modifica la lista in place.\n",
        "tupla2 = (1, 1, 3, 4, 5, 6, 7)\n",
        "lista = list(tupla2)\n",
        "lista.reverse()\n",
        "print(lista)\n"
      ],
      "metadata": {
        "colab": {
          "base_uri": "https://localhost:8080/"
        },
        "id": "zP-BQCjXnG0T",
        "outputId": "c90c747d-8abc-4a60-805b-bc7ad618ca97"
      },
      "execution_count": 57,
      "outputs": [
        {
          "output_type": "stream",
          "name": "stdout",
          "text": [
            "[7, 6, 5, 4, 3, 1, 1]\n"
          ]
        }
      ]
    },
    {
      "cell_type": "markdown",
      "source": [
        "### 10. Manipulación de strings y diccionarios:\n",
        "Dado un párrafo de texto, escribe una función que cuente cuántas veces aparece cada palabra en el párrafo (sin importar mayúsculas o minúsculas) y devuelva un diccionario con las palabras como claves y las veces que aparecen como valores. Ignora signos de puntuación como comas y puntos.\n",
        "\n"
      ],
      "metadata": {
        "id": "xGuSBr47fHTu"
      }
    },
    {
      "cell_type": "code",
      "source": [],
      "metadata": {
        "id": "vPSJOaZBfKuv"
      },
      "execution_count": null,
      "outputs": []
    }
  ]
}