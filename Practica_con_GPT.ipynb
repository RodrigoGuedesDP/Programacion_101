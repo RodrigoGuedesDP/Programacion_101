{
  "nbformat": 4,
  "nbformat_minor": 0,
  "metadata": {
    "colab": {
      "provenance": [],
      "authorship_tag": "ABX9TyPFky8A7BP9vIAOJssrkOy2",
      "include_colab_link": true
    },
    "kernelspec": {
      "name": "python3",
      "display_name": "Python 3"
    },
    "language_info": {
      "name": "python"
    }
  },
  "cells": [
    {
      "cell_type": "markdown",
      "metadata": {
        "id": "view-in-github",
        "colab_type": "text"
      },
      "source": [
        "<a href=\"https://colab.research.google.com/github/RodrigoGuedesDP/Programacion_101/blob/main/Practica_con_GPT.ipynb\" target=\"_parent\"><img src=\"https://colab.research.google.com/assets/colab-badge.svg\" alt=\"Open In Colab\"/></a>"
      ]
    },
    {
      "cell_type": "markdown",
      "source": [
        "# 10 ejercicios con GPT\n"
      ],
      "metadata": {
        "id": "a8CV01MOeGoR"
      }
    },
    {
      "cell_type": "markdown",
      "source": [
        "### 1. Manipulación de strings y listas:\n",
        "Escribe una función que reciba una cadena de texto con varias palabras separadas por espacios y devuelva una lista con las palabras, pero ordenadas alfabéticamente y con las mayúsculas convertidas a minúsculas. No puedes utilizar métodos predefinidos como sorted() o lower()."
      ],
      "metadata": {
        "id": "V140_YPEeNr4"
      }
    },
    {
      "cell_type": "code",
      "execution_count": null,
      "metadata": {
        "id": "-WG8GGVheB3m"
      },
      "outputs": [],
      "source": [
        "\n",
        "cadena_texto = 'Esta es una Cadena de texto con palabras separadas por Espacios'\n",
        "#Creo que debemos identificar los espacios vacios de la frase para separar las palabras.\n",
        "\n",
        "\n",
        "\n"
      ]
    },
    {
      "cell_type": "markdown",
      "source": [
        "### 2. Diccionarios y comprensión de listas:\n",
        "Dado un diccionario que contiene el nombre de productos como claves y una lista con las cantidades vendidas en cada día de la semana como valores, escribe una función que devuelva un nuevo diccionario con el nombre del producto y el promedio de ventas diarias para ese producto. Usa comprensión de listas para calcular el promedio.\n",
        "\n",
        "Ejemplo de diccionario:"
      ],
      "metadata": {
        "id": "MLaG0nyqeSFc"
      }
    },
    {
      "cell_type": "code",
      "source": [
        "#Vemos como funcionaria con listas\n",
        "ventas = {\n",
        "    \"camisas\": [5, 6, 7, 8, 9, 3, 2],\n",
        "    \"pantalones\": [1, 2, 3, 4, 5, 6, 7]\n",
        "}\n",
        "\n",
        "my_list = []\n",
        "for key, value in ventas.items():\n",
        "      my_list.append(key)\n",
        "      my_list.append(sum(value)/len(value))\n",
        "print(my_list)\n",
        "#Si funciona, como se convierte a diccionario??\n",
        "#intentaremos asi:\n",
        "nuevo_diccionario = {}\n",
        "for x in range(0,len(my_list)) if x % 2 == 0\n",
        "  clave = my_list[x]\n",
        "  valor = my_list[x +1]\n",
        "  nuevo_diccionario[clave] = valor\n",
        "print(nuevo_diccionario)\n",
        "\n"
      ],
      "metadata": {
        "colab": {
          "base_uri": "https://localhost:8080/",
          "height": 110
        },
        "id": "LCT-t1SOrYRH",
        "outputId": "8a19cfa3-f8bd-4c77-c25d-33754cf7afb0"
      },
      "execution_count": 15,
      "outputs": [
        {
          "output_type": "error",
          "ename": "SyntaxError",
          "evalue": "expected 'else' after 'if' expression (<ipython-input-15-4898fbcb7276>, line 15)",
          "traceback": [
            "\u001b[0;36m  File \u001b[0;32m\"<ipython-input-15-4898fbcb7276>\"\u001b[0;36m, line \u001b[0;32m15\u001b[0m\n\u001b[0;31m    for x in range(0,len(my_list)) if x % 2 == 0\u001b[0m\n\u001b[0m             ^\u001b[0m\n\u001b[0;31mSyntaxError\u001b[0m\u001b[0;31m:\u001b[0m expected 'else' after 'if' expression\n"
          ]
        }
      ]
    },
    {
      "cell_type": "code",
      "source": [
        "#Vemos como funcionaria con listas\n",
        "ventas = {\n",
        "    \"camisas\": [5, 6, 7, 8, 9, 3, 2],\n",
        "    \"pantalones\": [1, 2, 3, 4, 5, 6, 7]\n",
        "}\n",
        "\n",
        "my_list = []\n",
        "for key, value in ventas.items():\n",
        "      my_list.append(key)\n",
        "      my_list.append(sum(value)/len(value))\n",
        "#uso de enumerate. Por si solo no es legible, pero si lo convierte as lista te muestra el indice-valor\n",
        "#enumerate() devuelve una lista de tuplas, donde cada tupla contiene el índice y el valor correspondiente de la lista original:\n",
        "\n",
        "print(my_list)\n",
        "print(list(enumerate(my_list)))\n"
      ],
      "metadata": {
        "colab": {
          "base_uri": "https://localhost:8080/"
        },
        "id": "mRtH5lVCzg23",
        "outputId": "64f9aa1b-7f87-4032-b447-8aee2d7f792f"
      },
      "execution_count": 10,
      "outputs": [
        {
          "output_type": "stream",
          "name": "stdout",
          "text": [
            "['camisas', 5.714285714285714, 'pantalones', 4.0]\n",
            "[(0, 'camisas'), (1, 5.714285714285714), (2, 'pantalones'), (3, 4.0)]\n"
          ]
        }
      ]
    },
    {
      "cell_type": "code",
      "source": [
        "ventas = {\n",
        "    \"camisas\": [5, 6, 7, 8, 9, 3, 2],\n",
        "    \"pantalones\": [1, 2, 3, 4, 5, 6, 7]\n",
        "}\n",
        "\n",
        "def promedio_ventas(diccionario):\n",
        "  #intentaremos primero con lista\n",
        "    my_list = []\n",
        "    for key, value in diccionario.items():\n",
        "      my_list.append(key)\n",
        "      my_list.append(sum(value)/len(value))\n",
        "\n",
        "    valores = list(diccionario.values())\n",
        "    llaves = list(diccionario.keys())\n",
        "    lista_promedio = [sum(x)/len(x) for x\n",
        "\n",
        "\n",
        "    promedio =\n",
        "    return promedio"
      ],
      "metadata": {
        "id": "-l_NUH98eYA0"
      },
      "execution_count": null,
      "outputs": []
    },
    {
      "cell_type": "markdown",
      "source": [
        "### 3. Listas, tuplas y estructuras condicionales:\n",
        "Dado una lista de números enteros, crea una función que reciba la lista y devuelva una tupla con dos listas. La primera lista contendrá los números pares y la segunda los números impares. Además, los números en cada lista deben estar ordenados en orden descendente."
      ],
      "metadata": {
        "id": "4YCnS229ebw3"
      }
    },
    {
      "cell_type": "code",
      "source": [],
      "metadata": {
        "id": "v6_D5VT1eole"
      },
      "execution_count": null,
      "outputs": []
    },
    {
      "cell_type": "markdown",
      "source": [
        "### 4. Sets y operaciones con conjuntos:\n",
        "Dado dos sets de números enteros, escribe una función que devuelva un set con los números que están en uno u otro conjunto, pero no en ambos (es decir, la diferencia simétrica). No puedes utilizar el método symmetric_difference()."
      ],
      "metadata": {
        "id": "YI6llmUfeiFd"
      }
    },
    {
      "cell_type": "code",
      "source": [],
      "metadata": {
        "id": "sFc1LoWRehuf"
      },
      "execution_count": null,
      "outputs": []
    },
    {
      "cell_type": "markdown",
      "source": [
        "### 5. Manejo de diccionarios y condicionales:\n",
        "Dado un diccionario con los nombres de los estudiantes y sus calificaciones en una lista, escribe una función que clasifique a los estudiantes en \"aprobado\" o \"reprobado\" según un promedio mínimo de 6. Devuelve un nuevo diccionario con los nombres de los estudiantes como claves y \"aprobado\" o \"reprobado\" como valores."
      ],
      "metadata": {
        "id": "r-1ts54Jezay"
      }
    },
    {
      "cell_type": "code",
      "source": [],
      "metadata": {
        "id": "QEYG-MJTe2B9"
      },
      "execution_count": null,
      "outputs": []
    },
    {
      "cell_type": "markdown",
      "source": [
        "### 6. Matrices (listas de listas) y slicing:\n",
        "Dada una matriz de números enteros de 5x5, escribe una función que reciba la matriz y devuelva una nueva matriz con la diagonal principal (de arriba a la izquierda a abajo a la derecha) reemplazada por ceros. Usa slicing para acceder a la diagonal principal."
      ],
      "metadata": {
        "id": "ti6bjhVze3B5"
      }
    },
    {
      "cell_type": "code",
      "source": [],
      "metadata": {
        "id": "i2Ldq-Fee59D"
      },
      "execution_count": null,
      "outputs": []
    },
    {
      "cell_type": "markdown",
      "source": [
        "### 7. Slicing y listas:\n",
        "Dada una lista de números enteros, escribe una función que reciba la lista y devuelva una nueva lista que contenga solo los números que están en las posiciones pares. Usa slicing para resolver el problema.\n",
        "\n"
      ],
      "metadata": {
        "id": "b1iqHnuIe6Tl"
      }
    },
    {
      "cell_type": "code",
      "source": [],
      "metadata": {
        "id": "YDg-CJfMe-rI"
      },
      "execution_count": null,
      "outputs": []
    },
    {
      "cell_type": "markdown",
      "source": [
        "### 8. List comprehension y diccionarios:\n",
        "Escribe una función que reciba un diccionario donde las claves son nombres de estudiantes y los valores son listas con sus calificaciones. Utiliza comprensión de listas para devolver un nuevo diccionario que contenga únicamente a los estudiantes cuyo promedio de calificaciones sea mayor a 7."
      ],
      "metadata": {
        "id": "DcH5UhtZe_GN"
      }
    },
    {
      "cell_type": "code",
      "source": [],
      "metadata": {
        "id": "L-8zrYiWfDkT"
      },
      "execution_count": null,
      "outputs": []
    },
    {
      "cell_type": "markdown",
      "source": [
        "### 9. Estructuras condicionales y tuplas:\n",
        "Dada una tupla de números enteros, escribe una función que determine si la tupla es simétrica. Una tupla es simétrica si se puede leer igual de izquierda a derecha que de derecha a izquierda."
      ],
      "metadata": {
        "id": "3nIK241MfD-3"
      }
    },
    {
      "cell_type": "code",
      "source": [],
      "metadata": {
        "id": "2ZgD0UbkfG5r"
      },
      "execution_count": null,
      "outputs": []
    },
    {
      "cell_type": "markdown",
      "source": [
        "### 10. Manipulación de strings y diccionarios:\n",
        "Dado un párrafo de texto, escribe una función que cuente cuántas veces aparece cada palabra en el párrafo (sin importar mayúsculas o minúsculas) y devuelva un diccionario con las palabras como claves y las veces que aparecen como valores. Ignora signos de puntuación como comas y puntos.\n",
        "\n"
      ],
      "metadata": {
        "id": "xGuSBr47fHTu"
      }
    },
    {
      "cell_type": "code",
      "source": [],
      "metadata": {
        "id": "vPSJOaZBfKuv"
      },
      "execution_count": null,
      "outputs": []
    }
  ]
}